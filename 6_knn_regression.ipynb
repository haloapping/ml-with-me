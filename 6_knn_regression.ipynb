{
 "cells": [
  {
   "cell_type": "markdown",
   "id": "283c5d94",
   "metadata": {
    "slideshow": {
     "slide_type": "slide"
    }
   },
   "source": [
    "# Sample Dataset"
   ]
  },
  {
   "cell_type": "code",
   "execution_count": 1,
   "id": "66fd267d",
   "metadata": {
    "ExecuteTime": {
     "end_time": "2022-02-15T05:10:16.837530Z",
     "start_time": "2022-02-15T05:10:15.118399Z"
    }
   },
   "outputs": [
    {
     "data": {
      "text/html": [
       "<div>\n",
       "<style scoped>\n",
       "    .dataframe tbody tr th:only-of-type {\n",
       "        vertical-align: middle;\n",
       "    }\n",
       "\n",
       "    .dataframe tbody tr th {\n",
       "        vertical-align: top;\n",
       "    }\n",
       "\n",
       "    .dataframe thead th {\n",
       "        text-align: right;\n",
       "    }\n",
       "</style>\n",
       "<table border=\"1\" class=\"dataframe\">\n",
       "  <thead>\n",
       "    <tr style=\"text-align: right;\">\n",
       "      <th></th>\n",
       "      <th>tinggi</th>\n",
       "      <th>status</th>\n",
       "      <th>mantan</th>\n",
       "    </tr>\n",
       "  </thead>\n",
       "  <tbody>\n",
       "    <tr>\n",
       "      <th>0</th>\n",
       "      <td>158</td>\n",
       "      <td>jomblo</td>\n",
       "      <td>1</td>\n",
       "    </tr>\n",
       "    <tr>\n",
       "      <th>1</th>\n",
       "      <td>170</td>\n",
       "      <td>pacaran</td>\n",
       "      <td>5</td>\n",
       "    </tr>\n",
       "    <tr>\n",
       "      <th>2</th>\n",
       "      <td>150</td>\n",
       "      <td>jomblo</td>\n",
       "      <td>4</td>\n",
       "    </tr>\n",
       "    <tr>\n",
       "      <th>3</th>\n",
       "      <td>170</td>\n",
       "      <td>jomblo</td>\n",
       "      <td>2</td>\n",
       "    </tr>\n",
       "    <tr>\n",
       "      <th>4</th>\n",
       "      <td>165</td>\n",
       "      <td>pacaran</td>\n",
       "      <td>2</td>\n",
       "    </tr>\n",
       "    <tr>\n",
       "      <th>5</th>\n",
       "      <td>159</td>\n",
       "      <td>pacaran</td>\n",
       "      <td>0</td>\n",
       "    </tr>\n",
       "    <tr>\n",
       "      <th>6</th>\n",
       "      <td>160</td>\n",
       "      <td>jomblo</td>\n",
       "      <td>3</td>\n",
       "    </tr>\n",
       "    <tr>\n",
       "      <th>7</th>\n",
       "      <td>155</td>\n",
       "      <td>pacaran</td>\n",
       "      <td>2</td>\n",
       "    </tr>\n",
       "    <tr>\n",
       "      <th>8</th>\n",
       "      <td>168</td>\n",
       "      <td>pacaran</td>\n",
       "      <td>1</td>\n",
       "    </tr>\n",
       "  </tbody>\n",
       "</table>\n",
       "</div>"
      ],
      "text/plain": [
       "   tinggi   status  mantan\n",
       "0     158   jomblo       1\n",
       "1     170  pacaran       5\n",
       "2     150   jomblo       4\n",
       "3     170   jomblo       2\n",
       "4     165  pacaran       2\n",
       "5     159  pacaran       0\n",
       "6     160   jomblo       3\n",
       "7     155  pacaran       2\n",
       "8     168  pacaran       1"
      ]
     },
     "execution_count": 1,
     "metadata": {},
     "output_type": "execute_result"
    }
   ],
   "source": [
    "import pandas as pd\n",
    "\n",
    "mantan = {\n",
    "    \"tinggi\": [158, 170, 150, 170, 165, 159, 160, 155, 168],\n",
    "    \"status\": [\"jomblo\", \"pacaran\", \"jomblo\", \"jomblo\", \"pacaran\", \"pacaran\", \"jomblo\", \"pacaran\", \"pacaran\"],\n",
    "    \"mantan\": [1, 5, 4, 2, 2, 0, 3, 2, 1]\n",
    "}\n",
    "\n",
    "mantan_df = pd.DataFrame(mantan)\n",
    "mantan_df"
   ]
  },
  {
   "cell_type": "markdown",
   "id": "1308c270",
   "metadata": {
    "slideshow": {
     "slide_type": "slide"
    }
   },
   "source": [
    "# Split Features and Target"
   ]
  },
  {
   "cell_type": "code",
   "execution_count": 2,
   "id": "2a34f0d0",
   "metadata": {
    "ExecuteTime": {
     "end_time": "2022-02-15T05:10:16.885039Z",
     "start_time": "2022-02-15T05:10:16.846344Z"
    }
   },
   "outputs": [
    {
     "name": "stdout",
     "output_type": "stream",
     "text": [
      "X_train:\n",
      "[[158 'jomblo']\n",
      " [170 'pacaran']\n",
      " [150 'jomblo']\n",
      " [170 'jomblo']\n",
      " [165 'pacaran']\n",
      " [159 'pacaran']\n",
      " [160 'jomblo']\n",
      " [155 'pacaran']\n",
      " [168 'pacaran']]\n",
      "\n",
      "y_train:\n",
      "[1 5 4 2 2 0 3 2 1]\n"
     ]
    }
   ],
   "source": [
    "import numpy as np\n",
    "\n",
    "X_train = np.array(mantan_df[[\"tinggi\", \"status\"]])\n",
    "y_train = np.array(mantan_df[\"mantan\"])\n",
    "\n",
    "print(f\"X_train:\\n{X_train}\\n\")\n",
    "print(f\"y_train:\\n{y_train}\")"
   ]
  },
  {
   "cell_type": "markdown",
   "id": "77c7d667",
   "metadata": {
    "slideshow": {
     "slide_type": "slide"
    }
   },
   "source": [
    "# Preprocessing"
   ]
  },
  {
   "cell_type": "markdown",
   "id": "a722dd9f",
   "metadata": {
    "ExecuteTime": {
     "end_time": "2022-02-15T01:25:17.672994Z",
     "start_time": "2022-02-15T01:25:17.651995Z"
    }
   },
   "source": [
    "## Convert Feature Status to Binary Number"
   ]
  },
  {
   "cell_type": "code",
   "execution_count": 3,
   "id": "0e5befc8",
   "metadata": {
    "ExecuteTime": {
     "end_time": "2022-02-15T05:10:16.916517Z",
     "start_time": "2022-02-15T05:10:16.895208Z"
    }
   },
   "outputs": [
    {
     "name": "stdout",
     "output_type": "stream",
     "text": [
      "X_train:\n",
      "[[158 'jomblo']\n",
      " [170 'pacaran']\n",
      " [150 'jomblo']\n",
      " [170 'jomblo']\n",
      " [165 'pacaran']\n",
      " [159 'pacaran']\n",
      " [160 'jomblo']\n",
      " [155 'pacaran']\n",
      " [168 'pacaran']]\n",
      "\n",
      "X_train_transposed:\n",
      "[[158 170 150 170 165 159 160 155 168]\n",
      " ['jomblo' 'pacaran' 'jomblo' 'jomblo' 'pacaran' 'pacaran' 'jomblo'\n",
      "  'pacaran' 'pacaran']]\n",
      "\n"
     ]
    }
   ],
   "source": [
    "X_train_transposed = X_train.transpose()\n",
    "\n",
    "print(f\"X_train:\\n{X_train}\\n\")\n",
    "print(f\"X_train_transposed:\\n{X_train_transposed}\\n\")"
   ]
  },
  {
   "cell_type": "code",
   "execution_count": 4,
   "id": "cb5c948e",
   "metadata": {
    "ExecuteTime": {
     "end_time": "2022-02-15T05:10:19.269918Z",
     "start_time": "2022-02-15T05:10:16.929463Z"
    }
   },
   "outputs": [
    {
     "name": "stdout",
     "output_type": "stream",
     "text": [
      "X_train:\n",
      "[[158 170 150 170 165 159 160 155 168]\n",
      " ['jomblo' 'pacaran' 'jomblo' 'jomblo' 'pacaran' 'pacaran' 'jomblo'\n",
      "  'pacaran' 'pacaran']]\n",
      "\n",
      "X_train_transposed:\n",
      "[[0]\n",
      " [1]\n",
      " [0]\n",
      " [0]\n",
      " [1]\n",
      " [1]\n",
      " [0]\n",
      " [1]\n",
      " [1]]\n",
      "\n"
     ]
    }
   ],
   "source": [
    "from sklearn.preprocessing import LabelBinarizer\n",
    "\n",
    "label_binarizer = LabelBinarizer()\n",
    "X_train_label_binarizer = label_binarizer.fit_transform(X_train_transposed[1])\n",
    "\n",
    "print(f\"X_train:\\n{X_train_transposed}\\n\")\n",
    "print(f\"X_train_transposed:\\n{X_train_label_binarizer}\\n\")"
   ]
  },
  {
   "cell_type": "code",
   "execution_count": 5,
   "id": "cf1895cf",
   "metadata": {
    "ExecuteTime": {
     "end_time": "2022-02-15T05:10:19.316141Z",
     "start_time": "2022-02-15T05:10:19.280126Z"
    }
   },
   "outputs": [
    {
     "data": {
      "text/plain": [
       "array([[0, 1, 0, 0, 1, 1, 0, 1, 1]])"
      ]
     },
     "execution_count": 5,
     "metadata": {},
     "output_type": "execute_result"
    }
   ],
   "source": [
    "status_label_binarizer = X_train_label_binarizer.transpose()\n",
    "status_label_binarizer"
   ]
  },
  {
   "cell_type": "code",
   "execution_count": 6,
   "id": "cd99eefe",
   "metadata": {
    "ExecuteTime": {
     "end_time": "2022-02-15T05:10:19.362446Z",
     "start_time": "2022-02-15T05:10:19.328517Z"
    }
   },
   "outputs": [
    {
     "name": "stdout",
     "output_type": "stream",
     "text": [
      "X_train_transposed:\n",
      "[[158 170 150 170 165 159 160 155 168]\n",
      " [0 1 0 0 1 1 0 1 1]]\n",
      "\n",
      "X_train:\n",
      "[[158 0]\n",
      " [170 1]\n",
      " [150 0]\n",
      " [170 0]\n",
      " [165 1]\n",
      " [159 1]\n",
      " [160 0]\n",
      " [155 1]\n",
      " [168 1]]\n",
      "\n"
     ]
    }
   ],
   "source": [
    "X_train_transposed[1] = status_label_binarizer\n",
    "X_train = X_train_transposed.transpose()\n",
    "\n",
    "print(f\"X_train_transposed:\\n{X_train_transposed}\\n\")\n",
    "print(f\"X_train:\\n{X_train}\\n\")"
   ]
  },
  {
   "cell_type": "markdown",
   "id": "6d7a52f1",
   "metadata": {
    "ExecuteTime": {
     "end_time": "2022-02-15T02:15:08.761515Z",
     "start_time": "2022-02-15T02:15:08.746518Z"
    },
    "slideshow": {
     "slide_type": "slide"
    }
   },
   "source": [
    "# Training KNN Regression Model"
   ]
  },
  {
   "cell_type": "code",
   "execution_count": 7,
   "id": "ab6c6c50",
   "metadata": {
    "ExecuteTime": {
     "end_time": "2022-02-15T05:10:19.798241Z",
     "start_time": "2022-02-15T05:10:19.374810Z"
    }
   },
   "outputs": [],
   "source": [
    "from sklearn.neighbors import KNeighborsRegressor\n",
    "\n",
    "k = 3\n",
    "knn_model = KNeighborsRegressor(n_neighbors=k)\n",
    "knn_model.fit(X_train, y_train);"
   ]
  },
  {
   "cell_type": "markdown",
   "id": "1c7206e0",
   "metadata": {
    "slideshow": {
     "slide_type": "slide"
    }
   },
   "source": [
    "# Predict"
   ]
  },
  {
   "cell_type": "code",
   "execution_count": 8,
   "id": "77a7f060",
   "metadata": {
    "ExecuteTime": {
     "end_time": "2022-02-15T05:10:19.844580Z",
     "start_time": "2022-02-15T05:10:19.807166Z"
    }
   },
   "outputs": [
    {
     "data": {
      "text/plain": [
       "array([[140,   1]])"
      ]
     },
     "execution_count": 8,
     "metadata": {},
     "output_type": "execute_result"
    }
   ],
   "source": [
    "X_new = np.array([[140, 1]])\n",
    "X_new"
   ]
  },
  {
   "cell_type": "code",
   "execution_count": 9,
   "id": "ebb89182",
   "metadata": {
    "ExecuteTime": {
     "end_time": "2022-02-15T05:10:19.891621Z",
     "start_time": "2022-02-15T05:10:19.857334Z"
    }
   },
   "outputs": [
    {
     "data": {
      "text/plain": [
       "array([2.33333333])"
      ]
     },
     "execution_count": 9,
     "metadata": {},
     "output_type": "execute_result"
    }
   ],
   "source": [
    "y_pred = knn_model.predict(X_new)\n",
    "y_pred"
   ]
  },
  {
   "cell_type": "markdown",
   "id": "e3bdeed1",
   "metadata": {
    "slideshow": {
     "slide_type": "slide"
    }
   },
   "source": [
    "# Evaluation"
   ]
  },
  {
   "cell_type": "markdown",
   "id": "56aa7691",
   "metadata": {},
   "source": [
    "## Test Set"
   ]
  },
  {
   "cell_type": "code",
   "execution_count": 10,
   "id": "8ebd8bbe",
   "metadata": {
    "ExecuteTime": {
     "end_time": "2022-02-15T05:10:19.969420Z",
     "start_time": "2022-02-15T05:10:19.918717Z"
    }
   },
   "outputs": [
    {
     "name": "stdout",
     "output_type": "stream",
     "text": [
      "X_test:\n",
      "[[160   0]\n",
      " [170   1]\n",
      " [155   1]\n",
      " [165   0]]\n",
      "\n",
      "y_test:\n",
      "[2 1 3 5]\n"
     ]
    }
   ],
   "source": [
    "X_test = np.array([[160, 0], [170, 1], [155, 1], [165, 0]])\n",
    "y_test = np.array([2, 1, 3, 5])\n",
    "\n",
    "print(f\"X_test:\\n{X_test}\\n\")\n",
    "print(f\"y_test:\\n{y_test}\")"
   ]
  },
  {
   "cell_type": "code",
   "execution_count": 11,
   "id": "c2c90d66",
   "metadata": {
    "ExecuteTime": {
     "end_time": "2022-02-15T05:10:20.015617Z",
     "start_time": "2022-02-15T05:10:19.983420Z"
    }
   },
   "outputs": [
    {
     "data": {
      "text/plain": [
       "array([1.33333333, 2.66666667, 1.        , 1.66666667])"
      ]
     },
     "execution_count": 11,
     "metadata": {},
     "output_type": "execute_result"
    }
   ],
   "source": [
    "y_pred = knn_model.predict(X_test)\n",
    "y_pred"
   ]
  },
  {
   "cell_type": "markdown",
   "id": "e35c945f",
   "metadata": {
    "slideshow": {
     "slide_type": "subslide"
    }
   },
   "source": [
    "## Coefficient of Determination atau $R^2$"
   ]
  },
  {
   "cell_type": "code",
   "execution_count": 12,
   "id": "bf136a7b",
   "metadata": {
    "ExecuteTime": {
     "end_time": "2022-02-15T05:10:20.062842Z",
     "start_time": "2022-02-15T05:10:20.027902Z"
    }
   },
   "outputs": [
    {
     "name": "stdout",
     "output_type": "stream",
     "text": [
      "r_squared: -1.095238095238095\n"
     ]
    }
   ],
   "source": [
    "from sklearn.metrics import r2_score\n",
    "\n",
    "r_squared = r2_score(y_test, y_pred)\n",
    "\n",
    "print(f\"r_squared: {r_squared}\")"
   ]
  },
  {
   "cell_type": "markdown",
   "id": "488c2b98",
   "metadata": {
    "slideshow": {
     "slide_type": "subslide"
    }
   },
   "source": [
    "## MAE (Mean Absolute Error) or MAD (Mean Absolute Deviation)\n",
    "- Rata-rata dari nilai absolut dari kesalahan prediksi.\n",
    "- $MAE = \\frac{1}{n} \\sum_{i=1}^{n} |y_i - \\hat{y}_i|$"
   ]
  },
  {
   "cell_type": "code",
   "execution_count": 13,
   "id": "c770045b",
   "metadata": {
    "ExecuteTime": {
     "end_time": "2022-02-15T05:10:20.096522Z",
     "start_time": "2022-02-15T05:10:20.075756Z"
    }
   },
   "outputs": [
    {
     "name": "stdout",
     "output_type": "stream",
     "text": [
      "MAE: 1.9166666666666665\n"
     ]
    }
   ],
   "source": [
    "from sklearn.metrics import mean_absolute_error\n",
    "\n",
    "mae = mean_absolute_error(y_test, y_pred)\n",
    "\n",
    "print(f\"MAE: {mae}\")"
   ]
  },
  {
   "cell_type": "markdown",
   "id": "d2617330",
   "metadata": {
    "slideshow": {
     "slide_type": "subslide"
    }
   },
   "source": [
    "## MSE (Mean Squared Error) or MSD (Mean Squared Deviation)\n",
    "- Rata-rata kuadrat kesalahan prediksi.\n",
    "- $MSE = \\frac{1}{n} \\sum_{i=1}^{n} (y_i - \\hat{y}_i)^2$"
   ]
  },
  {
   "cell_type": "code",
   "execution_count": 14,
   "id": "bc009de7",
   "metadata": {
    "ExecuteTime": {
     "end_time": "2022-02-15T05:10:20.141768Z",
     "start_time": "2022-02-15T05:10:20.109182Z"
    }
   },
   "outputs": [
    {
     "name": "stdout",
     "output_type": "stream",
     "text": [
      "MSE: 4.583333333333332\n"
     ]
    }
   ],
   "source": [
    "from sklearn.metrics import mean_squared_error\n",
    "\n",
    "mse = mean_squared_error(y_test, y_pred)\n",
    "print(f\"MSE: {mse}\")"
   ]
  },
  {
   "cell_type": "markdown",
   "id": "56253cde",
   "metadata": {
    "slideshow": {
     "slide_type": "slide"
    }
   },
   "source": [
    "# Scaling Problem\n",
    "- Model-model Machine Learning yang menggunakan *distance* dalam melakukan prediksi, sangat sensitif dengan skala nilai dari tiap fitur. Apabila skala nilai antara fitur berbeda jauh, maka performa model menjadi jelek. Model tidak konsisten dalam menghasilkan prediksi."
   ]
  },
  {
   "cell_type": "markdown",
   "id": "1c2dc3db",
   "metadata": {},
   "source": [
    "## Before Scaling"
   ]
  },
  {
   "cell_type": "code",
   "execution_count": 15,
   "id": "34533a2c",
   "metadata": {
    "ExecuteTime": {
     "end_time": "2022-02-15T05:10:20.202953Z",
     "start_time": "2022-02-15T05:10:20.156559Z"
    }
   },
   "outputs": [
    {
     "name": "stdout",
     "output_type": "stream",
     "text": [
      "Tinggi in milimeter\n",
      "Distance datapoint-1: 60.0\n",
      "Distance datapoint-2: 40.01249804748511\n",
      "\n",
      "Tinggi in meter\n",
      "Distance datapoint-1: 0.06000000000000005\n",
      "Distance datapoint-2: 1.0007996802557442\n"
     ]
    }
   ],
   "source": [
    "from scipy.spatial.distance import euclidean\n",
    "\n",
    "# tinggi in milimeter\n",
    "X_train = np.array([[1700, 0], [1600, 1]])\n",
    "X_new = np.array([[1640, 0]])\n",
    "\n",
    "mili_distances = [euclidean(X_new[0], d) for d in X_train]\n",
    "\n",
    "print(f\"Tinggi in milimeter\")\n",
    "for idx, distance in enumerate(mili_distances):\n",
    "    print(f\"Distance datapoint-{idx + 1}: {distance}\")\n",
    "    \n",
    "# tinggi in meter\n",
    "X_train = np.array([[1.7, 0], [1.6, 1]])\n",
    "X_new = np.array([[1.64, 0]])\n",
    "\n",
    "meter_distances = [euclidean(X_new[0], d) for d in X_train]\n",
    "\n",
    "print(f\"\\nTinggi in meter\")\n",
    "for idx, distance in enumerate(meter_distances):\n",
    "    print(f\"Distance datapoint-{idx + 1}: {distance}\")"
   ]
  },
  {
   "cell_type": "markdown",
   "id": "a76ff34c",
   "metadata": {},
   "source": [
    "- Dari dua contoh diatas terdapat dua fitur dengan satuan yang berbeda, yaitu milimeter dan meter.\n",
    "- Dari hasil pengukuran *distance* dari kedua data tersebut menghasilkan *distance* yang berbeda padahal nilai data tersebut sama yang membedakan hanya satuannya saja.\n",
    "- Pengukuran data pertama (milimeter), prediksi model data baru lebih dekat dengan datapoint-2, sedangkan pada data kedua (meter), prediksi model data baru lebih dekat dengan datapoint-1.\n",
    "- Terjadi ketidakkonsistenan model dalam melakukan prediksi dikarena skala nilai pada fitur berbeda."
   ]
  },
  {
   "cell_type": "markdown",
   "id": "8290fdb5",
   "metadata": {
    "slideshow": {
     "slide_type": "subslide"
    }
   },
   "source": [
    "## After Scaling"
   ]
  },
  {
   "cell_type": "code",
   "execution_count": 16,
   "id": "4ea32ddc",
   "metadata": {
    "ExecuteTime": {
     "end_time": "2022-02-15T05:10:20.218929Z",
     "start_time": "2022-02-15T05:10:20.209860Z"
    }
   },
   "outputs": [],
   "source": [
    "from sklearn.preprocessing import StandardScaler\n",
    "standard_scaler = StandardScaler()"
   ]
  },
  {
   "cell_type": "code",
   "execution_count": 17,
   "id": "28a3bf5d",
   "metadata": {
    "ExecuteTime": {
     "end_time": "2022-02-15T05:10:20.249815Z",
     "start_time": "2022-02-15T05:10:20.224061Z"
    }
   },
   "outputs": [
    {
     "name": "stdout",
     "output_type": "stream",
     "text": [
      "Tinggi in Milimeter\n",
      "X_train_scaled: [[ 1. -1.]\n",
      " [-1.  1.]]\n",
      "X_new_scaled: [[-0.2 -1. ]]\n",
      "\n",
      "Tinggi in Meter\n",
      "X_train_scaled: [[ 1. -1.]\n",
      " [-1.  1.]]\n",
      "X_new_scaled: [[-0.2 -1. ]]\n"
     ]
    }
   ],
   "source": [
    "from scipy.spatial.distance import euclidean\n",
    "\n",
    "# tinggi in milimeter\n",
    "X_train = np.array([[1700, 0], [1600, 1]])\n",
    "X_new = np.array([[1640, 0]])\n",
    "X_train_scaled = standard_scaler.fit_transform(X_train)\n",
    "X_new_scaled = standard_scaler.transform(X_new)\n",
    "print(f\"Tinggi in Milimeter\")\n",
    "print(f\"X_train_scaled: {X_train_scaled}\")\n",
    "print(f\"X_new_scaled: {X_new_scaled}\")\n",
    "\n",
    "# tinggi in meter\n",
    "X_train = np.array([[1.7, 0], [1.6, 1]])\n",
    "X_new = np.array([[1.64, 0]])\n",
    "X_train_scaled = standard_scaler.fit_transform(X_train)\n",
    "X_new_scaled = standard_scaler.transform(X_new)\n",
    "print(f\"\\nTinggi in Meter\")\n",
    "print(f\"X_train_scaled: {X_train_scaled}\")\n",
    "print(f\"X_new_scaled: {X_new_scaled}\")"
   ]
  },
  {
   "cell_type": "code",
   "execution_count": 18,
   "id": "b4e44c12",
   "metadata": {
    "ExecuteTime": {
     "end_time": "2022-02-15T05:10:20.281790Z",
     "start_time": "2022-02-15T05:10:20.254718Z"
    }
   },
   "outputs": [
    {
     "name": "stdout",
     "output_type": "stream",
     "text": [
      "Tinggi in milimeter\n",
      "Distance datapoint-1: 0.06000000000000005\n",
      "Distance datapoint-2: 1.0007996802557442\n",
      "\n",
      "Tinggi in meter\n",
      "Distance datapoint-1: 0.06000000000000005\n",
      "Distance datapoint-2: 1.0007996802557442\n"
     ]
    }
   ],
   "source": [
    "mili_distances = [euclidean(X_new[0], d) for d in X_train]\n",
    "print(f\"Tinggi in milimeter\")\n",
    "for idx, distance in enumerate(mili_distances):\n",
    "    print(f\"Distance datapoint-{idx + 1}: {distance}\")\n",
    "\n",
    "meter_distances = [euclidean(X_new[0], d) for d in X_train]\n",
    "print(f\"\\nTinggi in meter\")\n",
    "for idx, distance in enumerate(meter_distances):\n",
    "    print(f\"Distance datapoint-{idx + 1}: {distance}\")"
   ]
  },
  {
   "cell_type": "markdown",
   "id": "c49fcb17",
   "metadata": {},
   "source": [
    "Hasilnya sudah konsisten setelah dilakukan *scaling* (*Standard Scaler*)."
   ]
  },
  {
   "cell_type": "markdown",
   "id": "37e228d9",
   "metadata": {
    "slideshow": {
     "slide_type": "slide"
    }
   },
   "source": [
    "# Training with Feature Scaling"
   ]
  },
  {
   "cell_type": "markdown",
   "id": "6ce53da4",
   "metadata": {},
   "source": [
    "## Dataset"
   ]
  },
  {
   "cell_type": "code",
   "execution_count": 19,
   "id": "bed07623",
   "metadata": {
    "ExecuteTime": {
     "end_time": "2022-02-15T05:10:20.312412Z",
     "start_time": "2022-02-15T05:10:20.286845Z"
    }
   },
   "outputs": [
    {
     "name": "stdout",
     "output_type": "stream",
     "text": [
      "Train Set\n",
      "X_train:\n",
      "[[158 0]\n",
      " [170 1]\n",
      " [150 0]\n",
      " [170 0]\n",
      " [165 1]\n",
      " [159 1]\n",
      " [160 0]\n",
      " [155 1]\n",
      " [168 1]]\n",
      "\n",
      "y_train:\n",
      "[1 5 4 2 2 0 3 2 1]\n",
      "\n",
      "--------------------\n",
      "\n",
      "Test Set\n",
      "X_test:\n",
      "[[160   0]\n",
      " [170   1]\n",
      " [155   1]\n",
      " [165   0]]\n",
      "\n",
      "y_test:\n",
      "[2 1 3 5]\n"
     ]
    }
   ],
   "source": [
    "X_train = X_train_transposed.transpose()\n",
    "y_train = np.array(mantan_df[\"mantan\"])\n",
    "\n",
    "X_test = np.array([[160, 0], [170, 1], [155, 1], [165, 0]])\n",
    "y_test = np.array([2, 1, 3, 5])\n",
    "\n",
    "print(\"Train Set\")\n",
    "print(f\"X_train:\\n{X_train}\\n\")\n",
    "print(f\"y_train:\\n{y_train}\\n\")\n",
    "print(\"-\" * 20, end=\"\\n\\n\")\n",
    "print(\"Test Set\")\n",
    "print(f\"X_test:\\n{X_test}\\n\")\n",
    "print(f\"y_test:\\n{y_test}\")"
   ]
  },
  {
   "cell_type": "markdown",
   "id": "1e22466c",
   "metadata": {
    "slideshow": {
     "slide_type": "subslide"
    }
   },
   "source": [
    "## Feature Scaling (Standard Scaler)"
   ]
  },
  {
   "cell_type": "code",
   "execution_count": 20,
   "id": "f7006ff7",
   "metadata": {
    "ExecuteTime": {
     "end_time": "2022-02-15T05:10:20.327962Z",
     "start_time": "2022-02-15T05:10:20.317290Z"
    }
   },
   "outputs": [],
   "source": [
    "from sklearn.preprocessing import StandardScaler\n",
    "\n",
    "standard_scaler = StandardScaler()"
   ]
  },
  {
   "cell_type": "code",
   "execution_count": 21,
   "id": "9350003a",
   "metadata": {
    "ExecuteTime": {
     "end_time": "2022-02-15T05:10:20.358901Z",
     "start_time": "2022-02-15T05:10:20.332488Z"
    }
   },
   "outputs": [
    {
     "name": "stdout",
     "output_type": "stream",
     "text": [
      "X_train_scaled:\n",
      "[[-0.55417199 -1.11803399]\n",
      " [ 1.2594818   0.89442719]\n",
      " [-1.76327453 -1.11803399]\n",
      " [ 1.2594818  -1.11803399]\n",
      " [ 0.50379272  0.89442719]\n",
      " [-0.40303418  0.89442719]\n",
      " [-0.25189636 -1.11803399]\n",
      " [-1.00758544  0.89442719]\n",
      " [ 0.95720617  0.89442719]]\n",
      "\n",
      "X_test_scaled:\n",
      "[[-0.25189636 -1.11803399]\n",
      " [ 1.2594818   0.89442719]\n",
      " [-1.00758544  0.89442719]\n",
      " [ 0.50379272 -1.11803399]]\n",
      "\n"
     ]
    }
   ],
   "source": [
    "X_train_scaled = standard_scaler.fit_transform(X_train)\n",
    "X_test_scaled = standard_scaler.transform(X_test)\n",
    "\n",
    "print(f'X_train_scaled:\\n{X_train_scaled}\\n')\n",
    "print(f'X_test_scaled:\\n{X_test_scaled}\\n')"
   ]
  },
  {
   "cell_type": "markdown",
   "id": "16cc58ab",
   "metadata": {
    "slideshow": {
     "slide_type": "subslide"
    }
   },
   "source": [
    "## Training and Evaluation"
   ]
  },
  {
   "cell_type": "code",
   "execution_count": 22,
   "id": "dd8544b3",
   "metadata": {
    "ExecuteTime": {
     "end_time": "2022-02-15T05:10:20.388895Z",
     "start_time": "2022-02-15T05:10:20.364273Z"
    }
   },
   "outputs": [
    {
     "data": {
      "text/plain": [
       "array([2.66666667, 2.66666667, 2.66666667, 2.66666667])"
      ]
     },
     "execution_count": 22,
     "metadata": {},
     "output_type": "execute_result"
    }
   ],
   "source": [
    "k = 3\n",
    "knn_model = KNeighborsRegressor(n_neighbors=k)\n",
    "knn_model.fit(X_train_scaled, y_train);\n",
    "\n",
    "y_pred = knn_model.predict(X_test)\n",
    "y_pred"
   ]
  },
  {
   "cell_type": "code",
   "execution_count": 23,
   "id": "854fc4b3",
   "metadata": {
    "ExecuteTime": {
     "end_time": "2022-02-15T05:10:20.419762Z",
     "start_time": "2022-02-15T05:10:20.394575Z"
    }
   },
   "outputs": [
    {
     "name": "stdout",
     "output_type": "stream",
     "text": [
      "R^2: -0.0031746031746031633\n",
      "MAE: 1.25\n",
      "MSE: 2.1944444444444446\n"
     ]
    }
   ],
   "source": [
    "mae = mean_absolute_error(y_test, y_pred)\n",
    "mse = mean_squared_error(y_test, y_pred)\n",
    "r_squared = r2_score(y_test, y_pred)\n",
    "\n",
    "print(f\"R^2: {r_squared}\")\n",
    "print(f\"MAE: {mae}\")\n",
    "print(f\"MSE: {mse}\")"
   ]
  }
 ],
 "metadata": {
  "celltoolbar": "Slideshow",
  "kernelspec": {
   "display_name": "Python 3 (ipykernel)",
   "language": "python",
   "name": "python3"
  },
  "language_info": {
   "codemirror_mode": {
    "name": "ipython",
    "version": 3
   },
   "file_extension": ".py",
   "mimetype": "text/x-python",
   "name": "python",
   "nbconvert_exporter": "python",
   "pygments_lexer": "ipython3",
   "version": "3.8.12"
  },
  "toc": {
   "base_numbering": 1,
   "nav_menu": {},
   "number_sections": true,
   "sideBar": true,
   "skip_h1_title": false,
   "title_cell": "Table of Contents",
   "title_sidebar": "Contents",
   "toc_cell": false,
   "toc_position": {},
   "toc_section_display": true,
   "toc_window_display": true
  }
 },
 "nbformat": 4,
 "nbformat_minor": 5
}
