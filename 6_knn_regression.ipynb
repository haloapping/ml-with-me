{
 "cells": [
  {
   "cell_type": "markdown",
   "id": "ba3755c5",
   "metadata": {
    "slideshow": {
     "slide_type": "slide"
    }
   },
   "source": [
    "# Objective\n",
    "\n",
    "Memprediksi jumlah mantan seseorang berdasarkan tinggi badan dan status."
   ]
  },
  {
   "cell_type": "markdown",
   "id": "285a29cb",
   "metadata": {
    "slideshow": {
     "slide_type": "slide"
    }
   },
   "source": [
    "# Sample Dataset"
   ]
  },
  {
   "cell_type": "code",
   "execution_count": 25,
   "id": "a7b7654e",
   "metadata": {
    "ExecuteTime": {
     "end_time": "2022-02-16T02:24:56.836831Z",
     "start_time": "2022-02-16T02:24:56.819001Z"
    }
   },
   "outputs": [
    {
     "data": {
      "text/html": [
       "<div>\n",
       "<style scoped>\n",
       "    .dataframe tbody tr th:only-of-type {\n",
       "        vertical-align: middle;\n",
       "    }\n",
       "\n",
       "    .dataframe tbody tr th {\n",
       "        vertical-align: top;\n",
       "    }\n",
       "\n",
       "    .dataframe thead th {\n",
       "        text-align: right;\n",
       "    }\n",
       "</style>\n",
       "<table border=\"1\" class=\"dataframe\">\n",
       "  <thead>\n",
       "    <tr style=\"text-align: right;\">\n",
       "      <th></th>\n",
       "      <th>tinggi</th>\n",
       "      <th>status</th>\n",
       "      <th>mantan</th>\n",
       "    </tr>\n",
       "  </thead>\n",
       "  <tbody>\n",
       "    <tr>\n",
       "      <th>0</th>\n",
       "      <td>158</td>\n",
       "      <td>jomblo</td>\n",
       "      <td>1</td>\n",
       "    </tr>\n",
       "    <tr>\n",
       "      <th>1</th>\n",
       "      <td>170</td>\n",
       "      <td>pacaran</td>\n",
       "      <td>5</td>\n",
       "    </tr>\n",
       "    <tr>\n",
       "      <th>2</th>\n",
       "      <td>150</td>\n",
       "      <td>jomblo</td>\n",
       "      <td>4</td>\n",
       "    </tr>\n",
       "    <tr>\n",
       "      <th>3</th>\n",
       "      <td>170</td>\n",
       "      <td>jomblo</td>\n",
       "      <td>2</td>\n",
       "    </tr>\n",
       "    <tr>\n",
       "      <th>4</th>\n",
       "      <td>165</td>\n",
       "      <td>pacaran</td>\n",
       "      <td>2</td>\n",
       "    </tr>\n",
       "    <tr>\n",
       "      <th>5</th>\n",
       "      <td>159</td>\n",
       "      <td>pacaran</td>\n",
       "      <td>0</td>\n",
       "    </tr>\n",
       "    <tr>\n",
       "      <th>6</th>\n",
       "      <td>160</td>\n",
       "      <td>jomblo</td>\n",
       "      <td>3</td>\n",
       "    </tr>\n",
       "    <tr>\n",
       "      <th>7</th>\n",
       "      <td>155</td>\n",
       "      <td>pacaran</td>\n",
       "      <td>2</td>\n",
       "    </tr>\n",
       "    <tr>\n",
       "      <th>8</th>\n",
       "      <td>168</td>\n",
       "      <td>pacaran</td>\n",
       "      <td>1</td>\n",
       "    </tr>\n",
       "  </tbody>\n",
       "</table>\n",
       "</div>"
      ],
      "text/plain": [
       "   tinggi   status  mantan\n",
       "0     158   jomblo       1\n",
       "1     170  pacaran       5\n",
       "2     150   jomblo       4\n",
       "3     170   jomblo       2\n",
       "4     165  pacaran       2\n",
       "5     159  pacaran       0\n",
       "6     160   jomblo       3\n",
       "7     155  pacaran       2\n",
       "8     168  pacaran       1"
      ]
     },
     "execution_count": 25,
     "metadata": {},
     "output_type": "execute_result"
    }
   ],
   "source": [
    "import pandas as pd\n",
    "\n",
    "mantan = {\n",
    "    \"tinggi\": [158, 170, 150, 170, 165, 159, 160, 155, 168],\n",
    "    \"status\": [\"jomblo\", \"pacaran\", \"jomblo\",\n",
    "               \"jomblo\", \"pacaran\", \"pacaran\",\n",
    "               \"jomblo\", \"pacaran\", \"pacaran\"],\n",
    "    \"mantan\": [1, 5, 4, 2, 2, 0, 3, 2, 1]\n",
    "}\n",
    "\n",
    "mantan_df = pd.DataFrame(mantan)\n",
    "mantan_df"
   ]
  },
  {
   "cell_type": "markdown",
   "id": "2708270f",
   "metadata": {
    "slideshow": {
     "slide_type": "slide"
    }
   },
   "source": [
    "# Split Features and Target"
   ]
  },
  {
   "cell_type": "code",
   "execution_count": 2,
   "id": "171d767f",
   "metadata": {
    "ExecuteTime": {
     "end_time": "2022-02-16T01:31:10.678478Z",
     "start_time": "2022-02-16T01:31:10.653483Z"
    }
   },
   "outputs": [
    {
     "name": "stdout",
     "output_type": "stream",
     "text": [
      "X_train:\n",
      "[[158 'jomblo']\n",
      " [170 'pacaran']\n",
      " [150 'jomblo']\n",
      " [170 'jomblo']\n",
      " [165 'pacaran']\n",
      " [159 'pacaran']\n",
      " [160 'jomblo']\n",
      " [155 'pacaran']\n",
      " [168 'pacaran']]\n",
      "\n",
      "y_train:\n",
      "[1 5 4 2 2 0 3 2 1]\n"
     ]
    }
   ],
   "source": [
    "import numpy as np\n",
    "\n",
    "X_train = np.array(mantan_df[[\"tinggi\", \"status\"]])\n",
    "y_train = np.array(mantan_df[\"mantan\"])\n",
    "\n",
    "print(f\"X_train:\\n{X_train}\\n\")\n",
    "print(f\"y_train:\\n{y_train}\")"
   ]
  },
  {
   "cell_type": "markdown",
   "id": "21960800",
   "metadata": {
    "slideshow": {
     "slide_type": "slide"
    }
   },
   "source": [
    "# Preprocessing"
   ]
  },
  {
   "cell_type": "markdown",
   "id": "6fd7c0e0",
   "metadata": {
    "ExecuteTime": {
     "end_time": "2022-02-15T01:25:17.672994Z",
     "start_time": "2022-02-15T01:25:17.651995Z"
    }
   },
   "source": [
    "## Convert Feature Status to Binary Number"
   ]
  },
  {
   "cell_type": "code",
   "execution_count": 3,
   "id": "def41155",
   "metadata": {
    "ExecuteTime": {
     "end_time": "2022-02-16T01:31:10.702542Z",
     "start_time": "2022-02-16T01:31:10.685551Z"
    }
   },
   "outputs": [
    {
     "name": "stdout",
     "output_type": "stream",
     "text": [
      "X_train:\n",
      "[[158 'jomblo']\n",
      " [170 'pacaran']\n",
      " [150 'jomblo']\n",
      " [170 'jomblo']\n",
      " [165 'pacaran']\n",
      " [159 'pacaran']\n",
      " [160 'jomblo']\n",
      " [155 'pacaran']\n",
      " [168 'pacaran']]\n",
      "\n",
      "X_train_transposed:\n",
      "[[158 170 150 170 165 159 160 155 168]\n",
      " ['jomblo' 'pacaran' 'jomblo' 'jomblo' 'pacaran' 'pacaran' 'jomblo'\n",
      "  'pacaran' 'pacaran']]\n",
      "\n"
     ]
    }
   ],
   "source": [
    "X_train_transposed = X_train.transpose()\n",
    "\n",
    "print(f\"X_train:\\n{X_train}\\n\")\n",
    "print(f\"X_train_transposed:\\n{X_train_transposed}\\n\")"
   ]
  },
  {
   "cell_type": "code",
   "execution_count": 4,
   "id": "bd1e27bd",
   "metadata": {
    "ExecuteTime": {
     "end_time": "2022-02-16T01:31:12.278271Z",
     "start_time": "2022-02-16T01:31:10.709849Z"
    }
   },
   "outputs": [
    {
     "name": "stdout",
     "output_type": "stream",
     "text": [
      "X_train:\n",
      "[[158 170 150 170 165 159 160 155 168]\n",
      " ['jomblo' 'pacaran' 'jomblo' 'jomblo' 'pacaran' 'pacaran' 'jomblo'\n",
      "  'pacaran' 'pacaran']]\n",
      "\n",
      "X_train_transposed:\n",
      "[[0]\n",
      " [1]\n",
      " [0]\n",
      " [0]\n",
      " [1]\n",
      " [1]\n",
      " [0]\n",
      " [1]\n",
      " [1]]\n",
      "\n"
     ]
    }
   ],
   "source": [
    "from sklearn.preprocessing import LabelBinarizer\n",
    "\n",
    "label_binarizer = LabelBinarizer()\n",
    "X_train_label_binarizer = label_binarizer.fit_transform(X_train_transposed[1])\n",
    "\n",
    "print(f\"X_train:\\n{X_train_transposed}\\n\")\n",
    "print(f\"X_train_transposed:\\n{X_train_label_binarizer}\\n\")"
   ]
  },
  {
   "cell_type": "code",
   "execution_count": 5,
   "id": "8d5c2311",
   "metadata": {
    "ExecuteTime": {
     "end_time": "2022-02-16T01:31:12.318754Z",
     "start_time": "2022-02-16T01:31:12.288045Z"
    }
   },
   "outputs": [
    {
     "data": {
      "text/plain": [
       "array([[0, 1, 0, 0, 1, 1, 0, 1, 1]])"
      ]
     },
     "execution_count": 5,
     "metadata": {},
     "output_type": "execute_result"
    }
   ],
   "source": [
    "status_label_binarizer = X_train_label_binarizer.transpose()\n",
    "status_label_binarizer"
   ]
  },
  {
   "cell_type": "code",
   "execution_count": 6,
   "id": "c2397eb9",
   "metadata": {
    "ExecuteTime": {
     "end_time": "2022-02-16T01:31:12.367269Z",
     "start_time": "2022-02-16T01:31:12.333483Z"
    }
   },
   "outputs": [
    {
     "name": "stdout",
     "output_type": "stream",
     "text": [
      "X_train_transposed:\n",
      "[[158 170 150 170 165 159 160 155 168]\n",
      " [0 1 0 0 1 1 0 1 1]]\n",
      "\n",
      "X_train:\n",
      "[[158 0]\n",
      " [170 1]\n",
      " [150 0]\n",
      " [170 0]\n",
      " [165 1]\n",
      " [159 1]\n",
      " [160 0]\n",
      " [155 1]\n",
      " [168 1]]\n",
      "\n"
     ]
    }
   ],
   "source": [
    "X_train_transposed[1] = status_label_binarizer\n",
    "X_train = X_train_transposed.transpose()\n",
    "\n",
    "print(f\"X_train_transposed:\\n{X_train_transposed}\\n\")\n",
    "print(f\"X_train:\\n{X_train}\\n\")"
   ]
  },
  {
   "cell_type": "markdown",
   "id": "4e2f63ac",
   "metadata": {
    "ExecuteTime": {
     "end_time": "2022-02-15T02:15:08.761515Z",
     "start_time": "2022-02-15T02:15:08.746518Z"
    },
    "slideshow": {
     "slide_type": "slide"
    }
   },
   "source": [
    "# Training KNN Regression Model"
   ]
  },
  {
   "cell_type": "code",
   "execution_count": 7,
   "id": "ea5c5a2e",
   "metadata": {
    "ExecuteTime": {
     "end_time": "2022-02-16T01:31:12.722697Z",
     "start_time": "2022-02-16T01:31:12.377901Z"
    }
   },
   "outputs": [],
   "source": [
    "from sklearn.neighbors import KNeighborsRegressor\n",
    "\n",
    "k = 3\n",
    "knn_model = KNeighborsRegressor(n_neighbors=k)\n",
    "knn_model.fit(X_train, y_train);"
   ]
  },
  {
   "cell_type": "markdown",
   "id": "893dbadf",
   "metadata": {
    "slideshow": {
     "slide_type": "slide"
    }
   },
   "source": [
    "# Predict"
   ]
  },
  {
   "cell_type": "code",
   "execution_count": 8,
   "id": "fc0db841",
   "metadata": {
    "ExecuteTime": {
     "end_time": "2022-02-16T01:31:12.747140Z",
     "start_time": "2022-02-16T01:31:12.727131Z"
    }
   },
   "outputs": [
    {
     "data": {
      "text/plain": [
       "array([[140,   1]])"
      ]
     },
     "execution_count": 8,
     "metadata": {},
     "output_type": "execute_result"
    }
   ],
   "source": [
    "X_new = np.array([[140, 1]])\n",
    "X_new"
   ]
  },
  {
   "cell_type": "code",
   "execution_count": 9,
   "id": "77870078",
   "metadata": {
    "ExecuteTime": {
     "end_time": "2022-02-16T01:31:12.770680Z",
     "start_time": "2022-02-16T01:31:12.752124Z"
    }
   },
   "outputs": [
    {
     "data": {
      "text/plain": [
       "array([2.33333333])"
      ]
     },
     "execution_count": 9,
     "metadata": {},
     "output_type": "execute_result"
    }
   ],
   "source": [
    "y_pred = knn_model.predict(X_new)\n",
    "y_pred"
   ]
  },
  {
   "cell_type": "markdown",
   "id": "f7ee9e05",
   "metadata": {
    "slideshow": {
     "slide_type": "slide"
    }
   },
   "source": [
    "# Evaluation"
   ]
  },
  {
   "cell_type": "markdown",
   "id": "f216f4b6",
   "metadata": {},
   "source": [
    "## Test Set"
   ]
  },
  {
   "cell_type": "code",
   "execution_count": 10,
   "id": "bdf50c20",
   "metadata": {
    "ExecuteTime": {
     "end_time": "2022-02-16T01:31:12.794842Z",
     "start_time": "2022-02-16T01:31:12.779743Z"
    }
   },
   "outputs": [
    {
     "name": "stdout",
     "output_type": "stream",
     "text": [
      "X_test:\n",
      "[[160   0]\n",
      " [170   1]\n",
      " [155   1]\n",
      " [165   0]]\n",
      "\n",
      "y_test:\n",
      "[2 1 3 5]\n"
     ]
    }
   ],
   "source": [
    "X_test = np.array([[160, 0], [170, 1], [155, 1], [165, 0]])\n",
    "y_test = np.array([2, 1, 3, 5])\n",
    "\n",
    "print(f\"X_test:\\n{X_test}\\n\")\n",
    "print(f\"y_test:\\n{y_test}\")"
   ]
  },
  {
   "cell_type": "code",
   "execution_count": 11,
   "id": "b8eeabd8",
   "metadata": {
    "ExecuteTime": {
     "end_time": "2022-02-16T01:31:12.818892Z",
     "start_time": "2022-02-16T01:31:12.800642Z"
    }
   },
   "outputs": [
    {
     "data": {
      "text/plain": [
       "array([1.33333333, 2.66666667, 1.        , 1.66666667])"
      ]
     },
     "execution_count": 11,
     "metadata": {},
     "output_type": "execute_result"
    }
   ],
   "source": [
    "y_pred = knn_model.predict(X_test)\n",
    "y_pred"
   ]
  },
  {
   "cell_type": "markdown",
   "id": "9dfe7656",
   "metadata": {
    "slideshow": {
     "slide_type": "subslide"
    }
   },
   "source": [
    "## Coefficient of Determination atau $R^2$"
   ]
  },
  {
   "cell_type": "code",
   "execution_count": 12,
   "id": "ebb4bcc1",
   "metadata": {
    "ExecuteTime": {
     "end_time": "2022-02-16T01:31:12.842608Z",
     "start_time": "2022-02-16T01:31:12.822697Z"
    }
   },
   "outputs": [
    {
     "name": "stdout",
     "output_type": "stream",
     "text": [
      "r_squared: -1.095238095238095\n"
     ]
    }
   ],
   "source": [
    "from sklearn.metrics import r2_score\n",
    "\n",
    "r_squared = r2_score(y_test, y_pred)\n",
    "\n",
    "print(f\"r_squared: {r_squared}\")"
   ]
  },
  {
   "cell_type": "markdown",
   "id": "64b2cec0",
   "metadata": {
    "slideshow": {
     "slide_type": "subslide"
    }
   },
   "source": [
    "## MAE (Mean Absolute Error) or MAD (Mean Absolute Deviation)\n",
    "- Rata-rata dari nilai absolut dari kesalahan prediksi.\n",
    "- $MAE = \\frac{1}{n} \\sum_{i=1}^{n} |y_i - \\hat{y}_i|$"
   ]
  },
  {
   "cell_type": "code",
   "execution_count": 13,
   "id": "7e9309c7",
   "metadata": {
    "ExecuteTime": {
     "end_time": "2022-02-16T01:31:12.858440Z",
     "start_time": "2022-02-16T01:31:12.846662Z"
    }
   },
   "outputs": [
    {
     "name": "stdout",
     "output_type": "stream",
     "text": [
      "MAE: 1.9166666666666665\n"
     ]
    }
   ],
   "source": [
    "from sklearn.metrics import mean_absolute_error\n",
    "\n",
    "mae = mean_absolute_error(y_test, y_pred)\n",
    "\n",
    "print(f\"MAE: {mae}\")"
   ]
  },
  {
   "cell_type": "markdown",
   "id": "b4cfe893",
   "metadata": {
    "slideshow": {
     "slide_type": "subslide"
    }
   },
   "source": [
    "## MSE (Mean Squared Error) or MSD (Mean Squared Deviation)\n",
    "- Rata-rata kuadrat kesalahan prediksi.\n",
    "- $MSE = \\frac{1}{n} \\sum_{i=1}^{n} (y_i - \\hat{y}_i)^2$"
   ]
  },
  {
   "cell_type": "code",
   "execution_count": 14,
   "id": "8f249a5b",
   "metadata": {
    "ExecuteTime": {
     "end_time": "2022-02-16T01:31:12.882239Z",
     "start_time": "2022-02-16T01:31:12.864177Z"
    }
   },
   "outputs": [
    {
     "name": "stdout",
     "output_type": "stream",
     "text": [
      "MSE: 4.583333333333332\n"
     ]
    }
   ],
   "source": [
    "from sklearn.metrics import mean_squared_error\n",
    "\n",
    "mse = mean_squared_error(y_test, y_pred)\n",
    "print(f\"MSE: {mse}\")"
   ]
  },
  {
   "cell_type": "markdown",
   "id": "a3428860",
   "metadata": {
    "lang": "id",
    "slideshow": {
     "slide_type": "slide"
    }
   },
   "source": [
    "# Scaling Problem\n",
    "- Model-model Machine Learning yang menggunakan *distance* dalam melakukan prediksi, sangat sensitif dengan skala nilai dari tiap fitur. Apabila skala nilai antara fitur berbeda jauh, maka performa model menjadi jelek. Model tidak konsisten dalam menghasilkan prediksi."
   ]
  },
  {
   "cell_type": "markdown",
   "id": "1f1a8545",
   "metadata": {},
   "source": [
    "## Before Scaling"
   ]
  },
  {
   "cell_type": "code",
   "execution_count": 15,
   "id": "f7d0fab6",
   "metadata": {
    "ExecuteTime": {
     "end_time": "2022-02-16T01:31:12.906067Z",
     "start_time": "2022-02-16T01:31:12.887383Z"
    }
   },
   "outputs": [
    {
     "name": "stdout",
     "output_type": "stream",
     "text": [
      "Tinggi in milimeter\n",
      "Distance datapoint-1: 60.0\n",
      "Distance datapoint-2: 40.01249804748511\n",
      "\n",
      "Tinggi in meter\n",
      "Distance datapoint-1: 0.06000000000000005\n",
      "Distance datapoint-2: 1.0007996802557442\n"
     ]
    }
   ],
   "source": [
    "from scipy.spatial.distance import euclidean\n",
    "\n",
    "# tinggi in milimeter\n",
    "X_train = np.array([[1700, 0], [1600, 1]])\n",
    "X_new = np.array([[1640, 0]])\n",
    "\n",
    "mili_distances = [euclidean(X_new[0], d) for d in X_train]\n",
    "\n",
    "print(f\"Tinggi in milimeter\")\n",
    "for idx, distance in enumerate(mili_distances):\n",
    "    print(f\"Distance datapoint-{idx + 1}: {distance}\")\n",
    "    \n",
    "# tinggi in meter\n",
    "X_train = np.array([[1.7, 0], [1.6, 1]])\n",
    "X_new = np.array([[1.64, 0]])\n",
    "\n",
    "meter_distances = [euclidean(X_new[0], d) for d in X_train]\n",
    "\n",
    "print(f\"\\nTinggi in meter\")\n",
    "for idx, distance in enumerate(meter_distances):\n",
    "    print(f\"Distance datapoint-{idx + 1}: {distance}\")"
   ]
  },
  {
   "cell_type": "markdown",
   "id": "dabd4a1e",
   "metadata": {},
   "source": [
    "- Dari dua contoh diatas terdapat dua fitur dengan satuan yang berbeda, yaitu milimeter dan meter.\n",
    "- Dari hasil pengukuran *distance* dari kedua data tersebut menghasilkan *distance* yang berbeda padahal nilai data tersebut sama yang membedakan hanya satuannya saja.\n",
    "- Pengukuran data pertama (milimeter), prediksi model data baru lebih dekat dengan datapoint-2, sedangkan pada data kedua (meter), prediksi model data baru lebih dekat dengan datapoint-1.\n",
    "- Terjadi ketidakkonsistenan model dalam melakukan prediksi dikarena skala nilai pada fitur berbeda."
   ]
  },
  {
   "cell_type": "markdown",
   "id": "873d83fb",
   "metadata": {
    "slideshow": {
     "slide_type": "subslide"
    }
   },
   "source": [
    "## After Scaling"
   ]
  },
  {
   "cell_type": "code",
   "execution_count": 16,
   "id": "d6df0062",
   "metadata": {
    "ExecuteTime": {
     "end_time": "2022-02-16T01:31:12.921453Z",
     "start_time": "2022-02-16T01:31:12.910472Z"
    }
   },
   "outputs": [],
   "source": [
    "from sklearn.preprocessing import StandardScaler\n",
    "standard_scaler = StandardScaler()"
   ]
  },
  {
   "cell_type": "code",
   "execution_count": 17,
   "id": "19c13f30",
   "metadata": {
    "ExecuteTime": {
     "end_time": "2022-02-16T01:31:12.961001Z",
     "start_time": "2022-02-16T01:31:12.925512Z"
    }
   },
   "outputs": [
    {
     "name": "stdout",
     "output_type": "stream",
     "text": [
      "Tinggi in Milimeter\n",
      "X_train_scaled: [[ 1. -1.]\n",
      " [-1.  1.]]\n",
      "X_new_scaled: [[-0.2 -1. ]]\n",
      "\n",
      "Tinggi in Meter\n",
      "X_train_scaled: [[ 1. -1.]\n",
      " [-1.  1.]]\n",
      "X_new_scaled: [[-0.2 -1. ]]\n"
     ]
    }
   ],
   "source": [
    "from scipy.spatial.distance import euclidean\n",
    "\n",
    "# tinggi in milimeter\n",
    "X_train = np.array([[1700, 0], [1600, 1]])\n",
    "X_new = np.array([[1640, 0]])\n",
    "X_train_scaled = standard_scaler.fit_transform(X_train)\n",
    "X_new_scaled = standard_scaler.transform(X_new)\n",
    "print(f\"Tinggi in Milimeter\")\n",
    "print(f\"X_train_scaled: {X_train_scaled}\")\n",
    "print(f\"X_new_scaled: {X_new_scaled}\")\n",
    "\n",
    "# tinggi in meter\n",
    "X_train = np.array([[1.7, 0], [1.6, 1]])\n",
    "X_new = np.array([[1.64, 0]])\n",
    "X_train_scaled = standard_scaler.fit_transform(X_train)\n",
    "X_new_scaled = standard_scaler.transform(X_new)\n",
    "print(f\"\\nTinggi in Meter\")\n",
    "print(f\"X_train_scaled: {X_train_scaled}\")\n",
    "print(f\"X_new_scaled: {X_new_scaled}\")"
   ]
  },
  {
   "cell_type": "code",
   "execution_count": 18,
   "id": "1632467c",
   "metadata": {
    "ExecuteTime": {
     "end_time": "2022-02-16T01:31:12.986160Z",
     "start_time": "2022-02-16T01:31:12.967075Z"
    }
   },
   "outputs": [
    {
     "name": "stdout",
     "output_type": "stream",
     "text": [
      "Tinggi in milimeter\n",
      "Distance datapoint-1: 0.06000000000000005\n",
      "Distance datapoint-2: 1.0007996802557442\n",
      "\n",
      "Tinggi in meter\n",
      "Distance datapoint-1: 0.06000000000000005\n",
      "Distance datapoint-2: 1.0007996802557442\n"
     ]
    }
   ],
   "source": [
    "mili_distances = [euclidean(X_new[0], d) for d in X_train]\n",
    "print(f\"Tinggi in milimeter\")\n",
    "for idx, distance in enumerate(mili_distances):\n",
    "    print(f\"Distance datapoint-{idx + 1}: {distance}\")\n",
    "\n",
    "meter_distances = [euclidean(X_new[0], d) for d in X_train]\n",
    "print(f\"\\nTinggi in meter\")\n",
    "for idx, distance in enumerate(meter_distances):\n",
    "    print(f\"Distance datapoint-{idx + 1}: {distance}\")"
   ]
  },
  {
   "cell_type": "markdown",
   "id": "b74901b3",
   "metadata": {},
   "source": [
    "Hasilnya sudah konsisten setelah dilakukan *scaling* (*Standard Scaler*)."
   ]
  },
  {
   "cell_type": "markdown",
   "id": "d58e459e",
   "metadata": {
    "slideshow": {
     "slide_type": "slide"
    }
   },
   "source": [
    "# Training with Feature Scaling"
   ]
  },
  {
   "cell_type": "markdown",
   "id": "676a53af",
   "metadata": {},
   "source": [
    "## Dataset"
   ]
  },
  {
   "cell_type": "code",
   "execution_count": 19,
   "id": "313052e2",
   "metadata": {
    "ExecuteTime": {
     "end_time": "2022-02-16T01:31:13.011787Z",
     "start_time": "2022-02-16T01:31:12.991490Z"
    }
   },
   "outputs": [
    {
     "name": "stdout",
     "output_type": "stream",
     "text": [
      "Train Set\n",
      "X_train:\n",
      "[[158 0]\n",
      " [170 1]\n",
      " [150 0]\n",
      " [170 0]\n",
      " [165 1]\n",
      " [159 1]\n",
      " [160 0]\n",
      " [155 1]\n",
      " [168 1]]\n",
      "\n",
      "y_train:\n",
      "[1 5 4 2 2 0 3 2 1]\n",
      "\n",
      "--------------------\n",
      "\n",
      "Test Set\n",
      "X_test:\n",
      "[[160   0]\n",
      " [170   1]\n",
      " [155   1]\n",
      " [165   0]]\n",
      "\n",
      "y_test:\n",
      "[2 1 3 5]\n"
     ]
    }
   ],
   "source": [
    "X_train = X_train_transposed.transpose()\n",
    "y_train = np.array(mantan_df[\"mantan\"])\n",
    "\n",
    "X_test = np.array([[160, 0], [170, 1], [155, 1], [165, 0]])\n",
    "y_test = np.array([2, 1, 3, 5])\n",
    "\n",
    "print(\"Train Set\")\n",
    "print(f\"X_train:\\n{X_train}\\n\")\n",
    "print(f\"y_train:\\n{y_train}\\n\")\n",
    "print(\"-\" * 20, end=\"\\n\\n\")\n",
    "print(\"Test Set\")\n",
    "print(f\"X_test:\\n{X_test}\\n\")\n",
    "print(f\"y_test:\\n{y_test}\")"
   ]
  },
  {
   "cell_type": "markdown",
   "id": "23346d02",
   "metadata": {
    "slideshow": {
     "slide_type": "subslide"
    }
   },
   "source": [
    "## Feature Scaling (Standard Scaler)"
   ]
  },
  {
   "cell_type": "code",
   "execution_count": 20,
   "id": "821e308b",
   "metadata": {
    "ExecuteTime": {
     "end_time": "2022-02-16T01:31:13.026048Z",
     "start_time": "2022-02-16T01:31:13.015900Z"
    }
   },
   "outputs": [],
   "source": [
    "from sklearn.preprocessing import StandardScaler\n",
    "\n",
    "standard_scaler = StandardScaler()"
   ]
  },
  {
   "cell_type": "code",
   "execution_count": 21,
   "id": "e398089f",
   "metadata": {
    "ExecuteTime": {
     "end_time": "2022-02-16T01:31:13.043690Z",
     "start_time": "2022-02-16T01:31:13.030315Z"
    }
   },
   "outputs": [
    {
     "name": "stdout",
     "output_type": "stream",
     "text": [
      "X_train_scaled:\n",
      "[[-0.55417199 -1.11803399]\n",
      " [ 1.2594818   0.89442719]\n",
      " [-1.76327453 -1.11803399]\n",
      " [ 1.2594818  -1.11803399]\n",
      " [ 0.50379272  0.89442719]\n",
      " [-0.40303418  0.89442719]\n",
      " [-0.25189636 -1.11803399]\n",
      " [-1.00758544  0.89442719]\n",
      " [ 0.95720617  0.89442719]]\n",
      "\n",
      "X_test_scaled:\n",
      "[[-0.25189636 -1.11803399]\n",
      " [ 1.2594818   0.89442719]\n",
      " [-1.00758544  0.89442719]\n",
      " [ 0.50379272 -1.11803399]]\n",
      "\n"
     ]
    }
   ],
   "source": [
    "X_train_scaled = standard_scaler.fit_transform(X_train)\n",
    "X_test_scaled = standard_scaler.transform(X_test)\n",
    "\n",
    "print(f'X_train_scaled:\\n{X_train_scaled}\\n')\n",
    "print(f'X_test_scaled:\\n{X_test_scaled}\\n')"
   ]
  },
  {
   "cell_type": "markdown",
   "id": "c6d8d7a7",
   "metadata": {
    "slideshow": {
     "slide_type": "subslide"
    }
   },
   "source": [
    "## Training and Evaluation"
   ]
  },
  {
   "cell_type": "code",
   "execution_count": 22,
   "id": "1dd60c52",
   "metadata": {
    "ExecuteTime": {
     "end_time": "2022-02-16T01:31:13.074272Z",
     "start_time": "2022-02-16T01:31:13.046990Z"
    }
   },
   "outputs": [
    {
     "data": {
      "text/plain": [
       "array([2.66666667, 2.66666667, 2.66666667, 2.66666667])"
      ]
     },
     "execution_count": 22,
     "metadata": {},
     "output_type": "execute_result"
    }
   ],
   "source": [
    "knn_model.fit(X_train_scaled, y_train);\n",
    "\n",
    "y_pred = knn_model.predict(X_test)\n",
    "y_pred"
   ]
  },
  {
   "cell_type": "code",
   "execution_count": 23,
   "id": "3964e2ed",
   "metadata": {
    "ExecuteTime": {
     "end_time": "2022-02-16T01:31:13.106679Z",
     "start_time": "2022-02-16T01:31:13.078276Z"
    }
   },
   "outputs": [
    {
     "name": "stdout",
     "output_type": "stream",
     "text": [
      "R^2: -0.0031746031746031633\n",
      "MAE: 1.25\n",
      "MSE: 2.1944444444444446\n"
     ]
    }
   ],
   "source": [
    "mae = mean_absolute_error(y_test, y_pred)\n",
    "mse = mean_squared_error(y_test, y_pred)\n",
    "r_squared = r2_score(y_test, y_pred)\n",
    "\n",
    "print(f\"R^2: {r_squared}\")\n",
    "print(f\"MAE: {mae}\")\n",
    "print(f\"MSE: {mse}\")"
   ]
  }
 ],
 "metadata": {
  "celltoolbar": "Slideshow",
  "kernelspec": {
   "display_name": "Python 3 (ipykernel)",
   "language": "python",
   "name": "python3"
  },
  "language_info": {
   "codemirror_mode": {
    "name": "ipython",
    "version": 3
   },
   "file_extension": ".py",
   "mimetype": "text/x-python",
   "name": "python",
   "nbconvert_exporter": "python",
   "pygments_lexer": "ipython3",
   "version": "3.8.12"
  },
  "nbTranslate": {
   "displayLangs": [],
   "hotkey": "alt-t",
   "langInMainMenu": true,
   "sourceLang": "id",
   "targetLang": "en",
   "useGoogleTranslate": true
  },
  "toc": {
   "base_numbering": 1,
   "nav_menu": {},
   "number_sections": true,
   "sideBar": true,
   "skip_h1_title": false,
   "title_cell": "Table of Contents",
   "title_sidebar": "Contents",
   "toc_cell": false,
   "toc_position": {},
   "toc_section_display": true,
   "toc_window_display": false
  }
 },
 "nbformat": 4,
 "nbformat_minor": 5
}
