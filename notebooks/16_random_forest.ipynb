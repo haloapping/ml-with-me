{
 "cells": [
  {
   "cell_type": "markdown",
   "id": "8548b7c1",
   "metadata": {
    "slideshow": {
     "slide_type": "slide"
    }
   },
   "source": [
    "# Import Dataset"
   ]
  },
  {
   "cell_type": "code",
   "execution_count": 1,
   "id": "af13aec9",
   "metadata": {
    "ExecuteTime": {
     "end_time": "2022-03-08T02:26:46.702656Z",
     "start_time": "2022-03-08T02:26:45.124046Z"
    }
   },
   "outputs": [
    {
     "name": "stdout",
     "output_type": "stream",
     "text": [
      "Feature dimension: (150, 4)\n",
      "Target class: {0, 1, 2}\n"
     ]
    }
   ],
   "source": [
    "from sklearn.datasets import load_iris\n",
    "\n",
    "X, y = load_iris(return_X_y=True)\n",
    "print(f\"Feature dimension: {X.shape}\")\n",
    "print(f\"Target class: {set(y)}\")"
   ]
  },
  {
   "cell_type": "markdown",
   "id": "a8ad1aa8",
   "metadata": {
    "slideshow": {
     "slide_type": "slide"
    }
   },
   "source": [
    "# Dataset Split"
   ]
  },
  {
   "cell_type": "code",
   "execution_count": 2,
   "id": "badceaa0",
   "metadata": {
    "ExecuteTime": {
     "end_time": "2022-03-08T02:26:46.797636Z",
     "start_time": "2022-03-08T02:26:46.707393Z"
    }
   },
   "outputs": [],
   "source": [
    "from sklearn.model_selection import train_test_split\n",
    "\n",
    "X_train, X_test, y_train, y_test = train_test_split(X, y, test_size=0.2)"
   ]
  },
  {
   "cell_type": "markdown",
   "id": "59cb1f29",
   "metadata": {
    "slideshow": {
     "slide_type": "slide"
    }
   },
   "source": [
    "# Train Model"
   ]
  },
  {
   "cell_type": "code",
   "execution_count": 3,
   "id": "926f24b6",
   "metadata": {
    "ExecuteTime": {
     "end_time": "2022-03-08T02:26:47.483717Z",
     "start_time": "2022-03-08T02:26:46.802189Z"
    }
   },
   "outputs": [],
   "source": [
    "from sklearn.ensemble import RandomForestClassifier\n",
    "\n",
    "random_forest_model = RandomForestClassifier(n_estimators=100,\n",
    "                                             criterion=\"gini\")\n",
    "random_forest_model.fit(X_train, y_train);"
   ]
  },
  {
   "cell_type": "markdown",
   "id": "ff3fb38f",
   "metadata": {
    "slideshow": {
     "slide_type": "slide"
    }
   },
   "source": [
    "# Evaluation model"
   ]
  },
  {
   "cell_type": "code",
   "execution_count": 4,
   "id": "6d503d7b",
   "metadata": {
    "ExecuteTime": {
     "end_time": "2022-03-08T02:26:47.545430Z",
     "start_time": "2022-03-08T02:26:47.490517Z"
    }
   },
   "outputs": [
    {
     "name": "stdout",
     "output_type": "stream",
     "text": [
      "              precision    recall  f1-score   support\n",
      "\n",
      "      setosa       1.00      1.00      1.00        11\n",
      "  versicolor       1.00      0.86      0.92        14\n",
      "   virginica       0.71      1.00      0.83         5\n",
      "\n",
      "    accuracy                           0.93        30\n",
      "   macro avg       0.90      0.95      0.92        30\n",
      "weighted avg       0.95      0.93      0.94        30\n",
      "\n"
     ]
    }
   ],
   "source": [
    "from sklearn.metrics import accuracy_score, precision_score, recall_score, f1_score, classification_report\n",
    "\n",
    "y_pred = random_forest_model.predict(X_test)\n",
    "\n",
    "print(classification_report(y_test, y_pred, labels=[0, 1, 2], target_names=['setosa', 'versicolor', 'virginica']))"
   ]
  },
  {
   "cell_type": "code",
   "execution_count": null,
   "id": "9a3833d2",
   "metadata": {},
   "outputs": [],
   "source": []
  }
 ],
 "metadata": {
  "celltoolbar": "Slideshow",
  "kernelspec": {
   "display_name": "Python 3 (ipykernel)",
   "language": "python",
   "name": "python3"
  },
  "language_info": {
   "codemirror_mode": {
    "name": "ipython",
    "version": 3
   },
   "file_extension": ".py",
   "mimetype": "text/x-python",
   "name": "python",
   "nbconvert_exporter": "python",
   "pygments_lexer": "ipython3",
   "version": "3.8.12"
  },
  "nbTranslate": {
   "displayLangs": [
    "*"
   ],
   "hotkey": "alt-t",
   "langInMainMenu": true,
   "sourceLang": "en",
   "targetLang": "fr",
   "useGoogleTranslate": true
  },
  "toc": {
   "base_numbering": 1,
   "nav_menu": {},
   "number_sections": true,
   "sideBar": true,
   "skip_h1_title": false,
   "title_cell": "Table of Contents",
   "title_sidebar": "Contents",
   "toc_cell": false,
   "toc_position": {},
   "toc_section_display": true,
   "toc_window_display": false
  }
 },
 "nbformat": 4,
 "nbformat_minor": 5
}
