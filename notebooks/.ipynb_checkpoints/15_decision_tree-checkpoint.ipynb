{
 "cells": [
  {
   "cell_type": "markdown",
   "id": "5105652b",
   "metadata": {
    "slideshow": {
     "slide_type": "slide"
    }
   },
   "source": [
    "# Decision Tree untuk Klasifikasi"
   ]
  },
  {
   "cell_type": "markdown",
   "id": "afc23104",
   "metadata": {
    "ExecuteTime": {
     "end_time": "2022-03-03T07:10:22.298106Z",
     "start_time": "2022-03-03T07:10:22.259383Z"
    }
   },
   "source": [
    "<img src=\"../images/decision_tree_example.png\" width=\"500\">"
   ]
  },
  {
   "cell_type": "markdown",
   "id": "0abea7bd",
   "metadata": {
    "slideshow": {
     "slide_type": "subslide"
    }
   },
   "source": [
    "## Terminologi:\n",
    "\n",
    "- Root: node yang menjadi awal dari tree (terletak paling atas dari tree).\n",
    "- Internal Node: node-node yang berada di bawah root dan memiliki cabang.\n",
    "- Leaf Node: node-node yang tidak memiliki cabang."
   ]
  },
  {
   "cell_type": "markdown",
   "id": "c66a7263",
   "metadata": {
    "slideshow": {
     "slide_type": "subslide"
    }
   },
   "source": [
    "## Gini Impurity\n",
    "\n",
    "Mengukur tingkat kemurnian.\n",
    "\n",
    "<img src=\"../images/gini_example.png\" width=\"300\">\n",
    "\n",
    "- **Ruas Kiri**:\n",
    "$$\\begin{aligned}\n",
    "    G_l &= 1 - \\sum_i^n P_i^2\\\\\n",
    "      &= 1 - P(biru)^2\\\\\n",
    "      &= 1 - (\\frac{4}{4})^2\\\\\n",
    "      &= 1 - (1)^2\\\\\n",
    "      &= 1 - 1\\\\\n",
    "      &= 0\n",
    "\\end{aligned}$$\n",
    "\n",
    "\n",
    "- **Ruas Kanan**:\n",
    "$$\\begin{aligned}\n",
    "    G_r &= 1 - \\sum_i^n P_i^2\\\\\n",
    "      &= 1 - (P(biru)^2 - P(hijau)^2)\\\\\n",
    "      &= 1 - ((\\frac{1}{6})^2 + (\\frac{5}{6})\\\\\n",
    "      &= 1 - ((0.16666666666666666)^2) - (0.8333333333333334)^2)\\\\\n",
    "      &= 1 - (0.027777777777777776 + 0.6944444444444445)\\\\\n",
    "      &= 1 - 0.7222222222222223\\\\\n",
    "      &= 0.278\n",
    "\\end{aligned}$$\n",
    "<br>\n",
    "- **Average Gini Impurity**\n",
    "\n",
    "$$\\begin{aligned}\n",
    "    G &= \\frac{n\\text{_}left\\text{_}side}{n\\text{_}data} \\times G_l + \\frac{n\\text{_}right\\text{_}side}{n\\text{_}data} \\times G_r\\\\\n",
    "    G &= \\frac{4}{4 + 6} \\times 0 + \\frac{6}{4 + 6} \\times 0.278\\\\\n",
    "    G &= 0.4 \\times 0 + 0.6 \\times 0.278\\\\\n",
    "    G &= 0 + 0.1668\\\\\n",
    "    G &= 0.1668\n",
    "\\end{aligned}$$"
   ]
  },
  {
   "cell_type": "markdown",
   "id": "67334864",
   "metadata": {
    "slideshow": {
     "slide_type": "subslide"
    }
   },
   "source": [
    "## Information Gain\n",
    "\n",
    "<img src=\"../images/information_gain.png\" width=\"400\">"
   ]
  },
  {
   "cell_type": "markdown",
   "id": "97ff5d95",
   "metadata": {
    "code_folding": [],
    "slideshow": {
     "slide_type": "slide"
    }
   },
   "source": [
    "# Dataset"
   ]
  },
  {
   "cell_type": "code",
   "execution_count": 1,
   "id": "f43b67b7",
   "metadata": {
    "ExecuteTime": {
     "end_time": "2022-03-03T11:15:52.611238Z",
     "start_time": "2022-03-03T11:15:50.675144Z"
    },
    "scrolled": true
   },
   "outputs": [
    {
     "data": {
      "text/html": [
       "<div>\n",
       "<style scoped>\n",
       "    .dataframe tbody tr th:only-of-type {\n",
       "        vertical-align: middle;\n",
       "    }\n",
       "\n",
       "    .dataframe tbody tr th {\n",
       "        vertical-align: top;\n",
       "    }\n",
       "\n",
       "    .dataframe thead th {\n",
       "        text-align: right;\n",
       "    }\n",
       "</style>\n",
       "<table border=\"1\" class=\"dataframe\">\n",
       "  <thead>\n",
       "    <tr style=\"text-align: right;\">\n",
       "      <th></th>\n",
       "      <th>age</th>\n",
       "      <th>sex</th>\n",
       "      <th>status</th>\n",
       "    </tr>\n",
       "  </thead>\n",
       "  <tbody>\n",
       "    <tr>\n",
       "      <th>0</th>\n",
       "      <td>23</td>\n",
       "      <td>Female</td>\n",
       "      <td>pacaran</td>\n",
       "    </tr>\n",
       "    <tr>\n",
       "      <th>1</th>\n",
       "      <td>25</td>\n",
       "      <td>Male</td>\n",
       "      <td>jomblo</td>\n",
       "    </tr>\n",
       "    <tr>\n",
       "      <th>2</th>\n",
       "      <td>16</td>\n",
       "      <td>Female</td>\n",
       "      <td>jomblo</td>\n",
       "    </tr>\n",
       "    <tr>\n",
       "      <th>3</th>\n",
       "      <td>17</td>\n",
       "      <td>Female</td>\n",
       "      <td>pacaran</td>\n",
       "    </tr>\n",
       "    <tr>\n",
       "      <th>4</th>\n",
       "      <td>20</td>\n",
       "      <td>Male</td>\n",
       "      <td>jomblo</td>\n",
       "    </tr>\n",
       "  </tbody>\n",
       "</table>\n",
       "</div>"
      ],
      "text/plain": [
       "   age     sex   status\n",
       "0   23  Female  pacaran\n",
       "1   25    Male   jomblo\n",
       "2   16  Female   jomblo\n",
       "3   17  Female  pacaran\n",
       "4   20    Male   jomblo"
      ]
     },
     "execution_count": 1,
     "metadata": {},
     "output_type": "execute_result"
    }
   ],
   "source": [
    "import pandas as pd\n",
    "\n",
    "df = pd.DataFrame(\n",
    "         data={\n",
    "             \"age\": [23, 25, 16, 17, 20],\n",
    "             \"sex\": [\"Female\", \"Male\", \"Female\", \"Female\", \"Male\"],\n",
    "             \"status\": [\"pacaran\", \"jomblo\", \"jomblo\", \"pacaran\", \"jomblo\"]\n",
    "         }\n",
    "     )\n",
    "\n",
    "df"
   ]
  },
  {
   "cell_type": "markdown",
   "id": "39ce6830",
   "metadata": {
    "slideshow": {
     "slide_type": "slide"
    }
   },
   "source": [
    "# Decision Tree Classifier"
   ]
  },
  {
   "cell_type": "markdown",
   "id": "c99e706a",
   "metadata": {},
   "source": [
    "Kemungkinan pertanyaan untuk splitting:\n",
    "- age >= 20?\n",
    "- age <= 20?\n",
    "- sex == Female?\n",
    "- sex == Male?\n",
    "\n",
    "$$\\begin{aligned}\n",
    "    G &= 1 - (P(jomblo)^2 + P(pacaran)^2)\\\\\n",
    "    G &= 1 - ((\\frac{2}{5})^2 + (\\frac{3}{5})^2)\\\\\n",
    "    G &= 1 - (0.4^2 + 0.6^2)\\\\\n",
    "    G &= 1 - 0.52\\\\\n",
    "    G & = 0.48\n",
    "\\end{aligned}$$"
   ]
  },
  {
   "cell_type": "markdown",
   "id": "8aeec945",
   "metadata": {
    "slideshow": {
     "slide_type": "subslide"
    }
   },
   "source": [
    "## Tranform sex and status feature"
   ]
  },
  {
   "cell_type": "code",
   "execution_count": 2,
   "id": "4c82afa9",
   "metadata": {
    "ExecuteTime": {
     "end_time": "2022-03-03T11:15:55.079189Z",
     "start_time": "2022-03-03T11:15:52.619239Z"
    }
   },
   "outputs": [],
   "source": [
    "from sklearn.preprocessing import LabelBinarizer\n",
    "\n",
    "sex_lb = LabelBinarizer()\n",
    "status_lb = LabelBinarizer()\n",
    "\n",
    "sex_binary = sex_lb.fit_transform(df[\"sex\"])\n",
    "status_binary = status_lb.fit_transform(df[\"status\"])\n",
    "\n",
    "df_transform = df.copy()\n",
    "df_transform[\"sex\"] = sex_binary\n",
    "df_transform[\"status\"] = status_binary\n",
    "\n",
    "df_transform"
   ]
  },
  {
   "cell_type": "markdown",
   "id": "0b56abd2",
   "metadata": {
    "slideshow": {
     "slide_type": "subslide"
    }
   },
   "source": [
    "## Split Dataset"
   ]
  },
  {
   "cell_type": "code",
   "execution_count": 4,
   "id": "1ee80f6d",
   "metadata": {
    "ExecuteTime": {
     "end_time": "2022-03-03T11:15:55.170310Z",
     "start_time": "2022-03-03T11:15:55.138139Z"
    }
   },
   "outputs": [],
   "source": [
    "X_train = df_transform[[\"age\", \"sex\"]].values\n",
    "y_train = df_transform[\"status\"].values"
   ]
  },
  {
   "cell_type": "markdown",
   "id": "b3d970e0",
   "metadata": {
    "slideshow": {
     "slide_type": "subslide"
    }
   },
   "source": [
    "## Train Model"
   ]
  },
  {
   "cell_type": "code",
   "execution_count": 5,
   "id": "70993284",
   "metadata": {
    "ExecuteTime": {
     "end_time": "2022-03-03T11:15:55.835558Z",
     "start_time": "2022-03-03T11:15:55.183582Z"
    }
   },
   "outputs": [],
   "source": [
    "from sklearn.tree import DecisionTreeClassifier\n",
    "\n",
    "decision_tree_model = DecisionTreeClassifier(max_depth=4)\n",
    "decision_tree_model.fit(X_train, y_train);"
   ]
  },
  {
   "cell_type": "code",
   "execution_count": 6,
   "id": "d5bc1681",
   "metadata": {
    "ExecuteTime": {
     "end_time": "2022-03-03T11:16:00.063994Z",
     "start_time": "2022-03-03T11:15:55.846614Z"
    }
   },
   "outputs": [
    {
     "data": {
      "image/png": "[encoded data removed]",
      "text/plain": [
       "<Figure size 850x850 with 1 Axes>"
      ]
     },
     "metadata": {
      "needs_background": "light"
     },
     "output_type": "display_data"
    }
   ],
   "source": [
    "import matplotlib.pyplot as plt\n",
    "from sklearn import tree\n",
    "\n",
    "plt.rcParams[\"figure.dpi\"] = 85\n",
    "plt.subplots(figsize=(10, 10))\n",
    "tree.plot_tree(decision_tree_model, fontsize=10)\n",
    "plt.show()"
   ]
  },
  {
   "cell_type": "markdown",
   "id": "3629d07d",
   "metadata": {
    "slideshow": {
     "slide_type": "subslide"
    }
   },
   "source": [
    "## Interpretasi hasil Decision Tree"
   ]
  },
  {
   "cell_type": "markdown",
   "id": "05902897",
   "metadata": {},
   "source": [
    "<img src=\"../images/interpretasi_decision_tree.png\" width=\"400\">"
   ]
  },
  {
   "cell_type": "markdown",
   "id": "77f6a9ab",
   "metadata": {
    "slideshow": {
     "slide_type": "subslide"
    }
   },
   "source": [
    "## Evaluasi Model"
   ]
  },
  {
   "cell_type": "code",
   "execution_count": 7,
   "id": "24fc3fdf",
   "metadata": {
    "ExecuteTime": {
     "end_time": "2022-03-03T11:16:00.078901Z",
     "start_time": "2022-03-03T11:16:00.070160Z"
    }
   },
   "outputs": [],
   "source": [
    "# Create test dataset\n",
    "X_test = [[24, 0], [23, 1]]\n",
    "y_test = [0, 1]\n",
    "\n",
    "# Predict\n",
    "y_pred = decision_tree_model.predict(X_test)"
   ]
  },
  {
   "cell_type": "code",
   "execution_count": 8,
   "id": "a6a067f0",
   "metadata": {
    "ExecuteTime": {
     "end_time": "2022-03-03T11:16:00.125320Z",
     "start_time": "2022-03-03T11:16:00.088013Z"
    }
   },
   "outputs": [
    {
     "name": "stdout",
     "output_type": "stream",
     "text": [
      "              precision    recall  f1-score   support\n",
      "\n",
      "           0       0.00      0.00      0.00       1.0\n",
      "           1       0.00      0.00      0.00       1.0\n",
      "\n",
      "    accuracy                           0.00       2.0\n",
      "   macro avg       0.00      0.00      0.00       2.0\n",
      "weighted avg       0.00      0.00      0.00       2.0\n",
      "\n"
     ]
    }
   ],
   "source": [
    "from sklearn.metrics import classification_report\n",
    "\n",
    "print(classification_report(y_test, y_pred)) # Bad result, because use random, dummy, and a little data."
   ]
  },
  {
   "cell_type": "code",
   "execution_count": null,
   "id": "68712d70",
   "metadata": {},
   "outputs": [],
   "source": []
  }
 ],
 "metadata": {
  "celltoolbar": "Slideshow",
  "kernelspec": {
   "display_name": "Python 3 (ipykernel)",
   "language": "python",
   "name": "python3"
  },
  "language_info": {
   "codemirror_mode": {
    "name": "ipython",
    "version": 3
   },
   "file_extension": ".py",
   "mimetype": "text/x-python",
   "name": "python",
   "nbconvert_exporter": "python",
   "pygments_lexer": "ipython3",
   "version": "3.8.12"
  },
  "nbTranslate": {
   "displayLangs": [
    "*"
   ],
   "hotkey": "alt-t",
   "langInMainMenu": true,
   "sourceLang": "en",
   "targetLang": "fr",
   "useGoogleTranslate": true
  },
  "toc": {
   "base_numbering": 1,
   "nav_menu": {},
   "number_sections": true,
   "sideBar": true,
   "skip_h1_title": false,
   "title_cell": "Table of Contents",
   "title_sidebar": "Contents",
   "toc_cell": false,
   "toc_position": {},
   "toc_section_display": true,
   "toc_window_display": false
  }
 },
 "nbformat": 4,
 "nbformat_minor": 5
}
