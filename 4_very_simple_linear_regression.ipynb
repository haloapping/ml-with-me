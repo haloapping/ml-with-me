{
 "cells": [
  {
   "cell_type": "markdown",
   "id": "c0eb543e",
   "metadata": {},
   "source": [
    "# Import Library"
   ]
  },
  {
   "cell_type": "code",
   "execution_count": 1,
   "id": "d0c7bb5d",
   "metadata": {
    "ExecuteTime": {
     "end_time": "2022-02-13T06:45:55.009054Z",
     "start_time": "2022-02-13T06:45:54.219570Z"
    }
   },
   "outputs": [],
   "source": [
    "import numpy as np\n",
    "import pandas as pd\n",
    "import matplotlib.pyplot as plt"
   ]
  },
  {
   "cell_type": "markdown",
   "id": "711baf47",
   "metadata": {},
   "source": [
    "# Sample Dataset"
   ]
  },
  {
   "cell_type": "code",
   "execution_count": 2,
   "id": "2089ccae",
   "metadata": {
    "ExecuteTime": {
     "end_time": "2022-02-13T06:45:55.028696Z",
     "start_time": "2022-02-13T06:45:55.009581Z"
    }
   },
   "outputs": [
    {
     "data": {
      "text/html": [
       "<div>\n",
       "<style scoped>\n",
       "    .dataframe tbody tr th:only-of-type {\n",
       "        vertical-align: middle;\n",
       "    }\n",
       "\n",
       "    .dataframe tbody tr th {\n",
       "        vertical-align: top;\n",
       "    }\n",
       "\n",
       "    .dataframe thead th {\n",
       "        text-align: right;\n",
       "    }\n",
       "</style>\n",
       "<table border=\"1\" class=\"dataframe\">\n",
       "  <thead>\n",
       "    <tr style=\"text-align: right;\">\n",
       "      <th></th>\n",
       "      <th>diameter</th>\n",
       "      <th>harga</th>\n",
       "    </tr>\n",
       "  </thead>\n",
       "  <tbody>\n",
       "    <tr>\n",
       "      <th>0</th>\n",
       "      <td>6</td>\n",
       "      <td>7.0</td>\n",
       "    </tr>\n",
       "    <tr>\n",
       "      <th>1</th>\n",
       "      <td>8</td>\n",
       "      <td>9.0</td>\n",
       "    </tr>\n",
       "    <tr>\n",
       "      <th>2</th>\n",
       "      <td>10</td>\n",
       "      <td>13.0</td>\n",
       "    </tr>\n",
       "    <tr>\n",
       "      <th>3</th>\n",
       "      <td>14</td>\n",
       "      <td>17.5</td>\n",
       "    </tr>\n",
       "    <tr>\n",
       "      <th>4</th>\n",
       "      <td>18</td>\n",
       "      <td>18.0</td>\n",
       "    </tr>\n",
       "  </tbody>\n",
       "</table>\n",
       "</div>"
      ],
      "text/plain": [
       "   diameter  harga\n",
       "0         6    7.0\n",
       "1         8    9.0\n",
       "2        10   13.0\n",
       "3        14   17.5\n",
       "4        18   18.0"
      ]
     },
     "execution_count": 2,
     "metadata": {},
     "output_type": "execute_result"
    }
   ],
   "source": [
    "martabak_manis = {\"diameter\": [6, 8, 10, 14, 18],\n",
    "                  \"harga\": [7, 9, 13, 17.5, 18]}\n",
    "\n",
    "martabak_manis_df = pd.DataFrame(martabak_manis)\n",
    "martabak_manis_df"
   ]
  },
  {
   "cell_type": "markdown",
   "id": "21c228d8",
   "metadata": {},
   "source": [
    "# Visualize Data"
   ]
  },
  {
   "cell_type": "code",
   "execution_count": 3,
   "id": "e6413120",
   "metadata": {
    "ExecuteTime": {
     "end_time": "2022-02-13T06:45:55.228746Z",
     "start_time": "2022-02-13T06:45:55.029716Z"
    }
   },
   "outputs": [
    {
     "data": {
      "image/png": "[encoded data removed]",
      "text/plain": [
       "<Figure size 432x288 with 1 Axes>"
      ]
     },
     "metadata": {
      "needs_background": "light"
     },
     "output_type": "display_data"
    }
   ],
   "source": [
    "martabak_manis_df.plot(kind=\"scatter\", x=\"diameter\", y=\"harga\")\n",
    "plt.title(\"Perbandingan Diameter dan Harga Martabak Manis\")\n",
    "plt.xlabel(\"Diameter (cm)\")\n",
    "plt.ylabel(\"Harga (dollar)\")\n",
    "plt.xlim(0, 25)\n",
    "plt.ylim(0, 25)\n",
    "plt.grid(True)\n",
    "plt.show()"
   ]
  },
  {
   "cell_type": "markdown",
   "id": "c81609e9",
   "metadata": {},
   "source": [
    "# Simple Linear Regression Model"
   ]
  },
  {
   "cell_type": "markdown",
   "id": "661d3514",
   "metadata": {},
   "source": [
    "## Convert dataset to 2 dimension array"
   ]
  },
  {
   "cell_type": "code",
   "execution_count": 4,
   "id": "6461bf8a",
   "metadata": {
    "ExecuteTime": {
     "end_time": "2022-02-13T06:45:55.248780Z",
     "start_time": "2022-02-13T06:45:55.229763Z"
    }
   },
   "outputs": [
    {
     "name": "stdout",
     "output_type": "stream",
     "text": [
      "Before:\n",
      "X: [ 6  8 10 14 18]\n",
      "y: [ 7.   9.  13.  17.5 18. ]\n",
      "\n",
      "After:\n",
      "X: [[ 6]\n",
      " [ 8]\n",
      " [10]\n",
      " [14]\n",
      " [18]]\n",
      "y: [[ 7. ]\n",
      " [ 9. ]\n",
      " [13. ]\n",
      " [17.5]\n",
      " [18. ]]\n"
     ]
    }
   ],
   "source": [
    "X = np.array(martabak_manis_df[\"diameter\"])\n",
    "y = np.array(martabak_manis_df[\"harga\"])\n",
    "\n",
    "print(f\"Before:\")\n",
    "print(f\"X: {X}\")\n",
    "print(f\"y: {y}\\n\")\n",
    "\n",
    "X = X.reshape(-1, 1)\n",
    "y = y.reshape(-1, 1)\n",
    "\n",
    "print(f\"After:\")\n",
    "print(f\"X: {X}\")\n",
    "print(f\"y: {y}\")"
   ]
  },
  {
   "cell_type": "markdown",
   "id": "6bb5f430",
   "metadata": {},
   "source": [
    "## Train Model"
   ]
  },
  {
   "cell_type": "code",
   "execution_count": 5,
   "id": "5a8153ce",
   "metadata": {
    "ExecuteTime": {
     "end_time": "2022-02-13T06:45:56.429011Z",
     "start_time": "2022-02-13T06:45:55.250741Z"
    }
   },
   "outputs": [],
   "source": [
    "from sklearn.linear_model import LinearRegression\n",
    "\n",
    "linear_reg_model = LinearRegression()\n",
    "linear_reg_model.fit(X, y);"
   ]
  },
  {
   "cell_type": "markdown",
   "id": "bd7ca47e",
   "metadata": {},
   "source": [
    "## Visualize Model"
   ]
  },
  {
   "cell_type": "code",
   "execution_count": 6,
   "id": "29594e87",
   "metadata": {
    "ExecuteTime": {
     "end_time": "2022-02-13T06:45:56.450445Z",
     "start_time": "2022-02-13T06:45:56.429536Z"
    }
   },
   "outputs": [
    {
     "data": {
      "text/plain": [
       "(array([[ 0],\n",
       "        [25]]),\n",
       " array([[ 1.96551724],\n",
       "        [26.37284483]]))"
      ]
     },
     "execution_count": 6,
     "metadata": {},
     "output_type": "execute_result"
    }
   ],
   "source": [
    "X_vis = np.array([0, 25]).reshape(-1, 1)\n",
    "y_vis = linear_reg_model.predict(X_vis)\n",
    "\n",
    "X_vis, y_vis"
   ]
  },
  {
   "cell_type": "code",
   "execution_count": 7,
   "id": "f7c14fe1",
   "metadata": {
    "ExecuteTime": {
     "end_time": "2022-02-13T06:45:56.618821Z",
     "start_time": "2022-02-13T06:45:56.450445Z"
    }
   },
   "outputs": [
    {
     "data": {
      "image/png": "[encoded data removed]",
      "text/plain": [
       "<Figure size 432x288 with 1 Axes>"
      ]
     },
     "metadata": {
      "needs_background": "light"
     },
     "output_type": "display_data"
    }
   ],
   "source": [
    "plt.scatter(X, y)\n",
    "plt.plot(X_vis, y_vis, '-r')\n",
    "\n",
    "plt.title(\"Perbandingan Diameter dan Harga Martabak Manis\")\n",
    "plt.xlabel(\"Diamter (cm)\")\n",
    "plt.ylabel(\"Harga (dollar)\")\n",
    "plt.xlim(0, 25)\n",
    "plt.ylim(0, 25)\n",
    "plt.grid(True)\n",
    "plt.show()"
   ]
  },
  {
   "cell_type": "markdown",
   "id": "05fd839e",
   "metadata": {},
   "source": [
    "## Intercept and Slope\n",
    "- Intercept adalah nilai y ketika x = 0.\n",
    "- Slope adalah seberapa besar nilai kemiringan dari garis. Apabila 0, maka membentuk garis horizontal."
   ]
  },
  {
   "cell_type": "code",
   "execution_count": 8,
   "id": "f42eec35",
   "metadata": {
    "ExecuteTime": {
     "end_time": "2022-02-13T06:45:56.639516Z",
     "start_time": "2022-02-13T06:45:56.619341Z"
    }
   },
   "outputs": [
    {
     "name": "stdout",
     "output_type": "stream",
     "text": [
      "Intercept : [1.96551724]\n",
      "Slope     : [[0.9762931]]\n"
     ]
    }
   ],
   "source": [
    "print(f\"Intercept : {linear_reg_model.intercept_}\")\n",
    "print(f\"Slope     : {linear_reg_model.coef_}\")"
   ]
  },
  {
   "cell_type": "markdown",
   "id": "bc9d03bd",
   "metadata": {},
   "source": [
    "# How to find slope and intercept?\n",
    "$\\beta = \\frac{cov(x, y)}{var(x)}$"
   ]
  },
  {
   "cell_type": "markdown",
   "id": "be47219b",
   "metadata": {},
   "source": [
    "## Variance"
   ]
  },
  {
   "cell_type": "code",
   "execution_count": 9,
   "id": "00b951c1",
   "metadata": {
    "ExecuteTime": {
     "end_time": "2022-02-13T06:45:56.658896Z",
     "start_time": "2022-02-13T06:45:56.642096Z"
    }
   },
   "outputs": [
    {
     "name": "stdout",
     "output_type": "stream",
     "text": [
      "Variance: 23.2\n"
     ]
    }
   ],
   "source": [
    "variance_x = np.var(X.flatten(), ddof=1)\n",
    "print(f\"Variance: {variance_x}\")"
   ]
  },
  {
   "cell_type": "markdown",
   "id": "06bc4c29",
   "metadata": {},
   "source": [
    "## Covariance"
   ]
  },
  {
   "cell_type": "code",
   "execution_count": 10,
   "id": "b502c331",
   "metadata": {
    "ExecuteTime": {
     "end_time": "2022-02-13T06:45:56.679001Z",
     "start_time": "2022-02-13T06:45:56.659428Z"
    }
   },
   "outputs": [
    {
     "data": {
      "text/plain": [
       "array([[23.2 , 22.65],\n",
       "       [22.65, 24.3 ]])"
      ]
     },
     "execution_count": 10,
     "metadata": {},
     "output_type": "execute_result"
    }
   ],
   "source": [
    "np.cov(X.flatten(), y.flatten())"
   ]
  },
  {
   "cell_type": "code",
   "execution_count": 11,
   "id": "13e815c4",
   "metadata": {
    "ExecuteTime": {
     "end_time": "2022-02-13T06:45:56.699048Z",
     "start_time": "2022-02-13T06:45:56.679515Z"
    }
   },
   "outputs": [
    {
     "data": {
      "text/plain": [
       "22.650000000000002"
      ]
     },
     "execution_count": 11,
     "metadata": {},
     "output_type": "execute_result"
    }
   ],
   "source": [
    "covariance_xy = np.cov(X.flatten(), y.flatten())[0][1]\n",
    "covariance_xy"
   ]
  },
  {
   "cell_type": "markdown",
   "id": "f71a3a13",
   "metadata": {},
   "source": [
    "## Slope"
   ]
  },
  {
   "cell_type": "code",
   "execution_count": 12,
   "id": "b47968ac",
   "metadata": {
    "ExecuteTime": {
     "end_time": "2022-02-13T06:45:56.718632Z",
     "start_time": "2022-02-13T06:45:56.699566Z"
    }
   },
   "outputs": [
    {
     "name": "stdout",
     "output_type": "stream",
     "text": [
      "Slope: 0.976293103448276\n"
     ]
    }
   ],
   "source": [
    "slope = covariance_xy / variance_x\n",
    "print(f\"Slope: {slope}\")"
   ]
  },
  {
   "cell_type": "markdown",
   "id": "26b66082",
   "metadata": {},
   "source": [
    "## Intercept\n",
    "$\\alpha = \\bar{y} - \\beta \\bar{x}$"
   ]
  },
  {
   "cell_type": "code",
   "execution_count": 13,
   "id": "0835ec0e",
   "metadata": {
    "ExecuteTime": {
     "end_time": "2022-02-13T06:45:56.739454Z",
     "start_time": "2022-02-13T06:45:56.719648Z"
    }
   },
   "outputs": [
    {
     "name": "stdout",
     "output_type": "stream",
     "text": [
      "Intercept: 1.9655172413793096\n"
     ]
    }
   ],
   "source": [
    "intercept = np.mean(y) - slope * np.mean(X)\n",
    "print(f\"Intercept: {intercept}\")"
   ]
  },
  {
   "cell_type": "markdown",
   "id": "daa59b77",
   "metadata": {
    "ExecuteTime": {
     "end_time": "2022-02-13T06:15:13.993651Z",
     "start_time": "2022-02-13T06:15:13.975722Z"
    }
   },
   "source": [
    "# Predict Martabak Manis Price"
   ]
  },
  {
   "cell_type": "code",
   "execution_count": 14,
   "id": "8ff4a27f",
   "metadata": {
    "ExecuteTime": {
     "end_time": "2022-02-13T06:45:56.758819Z",
     "start_time": "2022-02-13T06:45:56.742042Z"
    }
   },
   "outputs": [
    {
     "data": {
      "text/plain": [
       "array([[12],\n",
       "       [20],\n",
       "       [23]])"
      ]
     },
     "execution_count": 14,
     "metadata": {},
     "output_type": "execute_result"
    }
   ],
   "source": [
    "diameter_marman = np.array([12, 20, 23]).reshape(-1, 1)\n",
    "diameter_marman"
   ]
  },
  {
   "cell_type": "code",
   "execution_count": 15,
   "id": "f04aba06",
   "metadata": {
    "ExecuteTime": {
     "end_time": "2022-02-13T06:45:56.778928Z",
     "start_time": "2022-02-13T06:45:56.759341Z"
    }
   },
   "outputs": [
    {
     "data": {
      "text/plain": [
       "array([[13.68103448],\n",
       "       [21.49137931],\n",
       "       [24.42025862]])"
      ]
     },
     "execution_count": 15,
     "metadata": {},
     "output_type": "execute_result"
    }
   ],
   "source": [
    "pred_prices = linear_reg_model.predict(diameter_marman)\n",
    "pred_prices"
   ]
  },
  {
   "cell_type": "code",
   "execution_count": 16,
   "id": "ddf231e5",
   "metadata": {
    "ExecuteTime": {
     "end_time": "2022-02-13T06:45:56.798525Z",
     "start_time": "2022-02-13T06:45:56.779443Z"
    }
   },
   "outputs": [
    {
     "name": "stdout",
     "output_type": "stream",
     "text": [
      "Diameter: [12], price predict: [13.68103448]\n",
      "Diameter: [20], price predict: [21.49137931]\n",
      "Diameter: [23], price predict: [24.42025862]\n"
     ]
    }
   ],
   "source": [
    "for diameter, price in zip(diameter_marman, pred_prices):\n",
    "    print(f\"Diameter: {diameter}, price predict: {price}\")"
   ]
  },
  {
   "cell_type": "markdown",
   "id": "1659e79f",
   "metadata": {},
   "source": [
    "# Generate Train and Test Set"
   ]
  },
  {
   "cell_type": "markdown",
   "id": "657e1120",
   "metadata": {},
   "source": [
    "## Training and Test Set"
   ]
  },
  {
   "cell_type": "code",
   "execution_count": 17,
   "id": "09f60210",
   "metadata": {
    "ExecuteTime": {
     "end_time": "2022-02-13T06:45:56.818620Z",
     "start_time": "2022-02-13T06:45:56.799545Z"
    }
   },
   "outputs": [],
   "source": [
    "X_train = np.array([6, 8, 10, 14, 18]).reshape(-1, 1)\n",
    "y_train = np.array([7, 9, 13, 17.5, 18])\n",
    "\n",
    "X_test = np.array([8, 9, 11, 16, 12]).reshape(-1, 1)\n",
    "y_test = np.array([11, 8.5, 15, 18, 11])"
   ]
  },
  {
   "cell_type": "markdown",
   "id": "8e00fc9a",
   "metadata": {},
   "source": [
    "## Train Model"
   ]
  },
  {
   "cell_type": "code",
   "execution_count": 18,
   "id": "51fc8fbc",
   "metadata": {
    "ExecuteTime": {
     "end_time": "2022-02-13T06:45:56.838635Z",
     "start_time": "2022-02-13T06:45:56.819635Z"
    }
   },
   "outputs": [],
   "source": [
    "linear_reg_model = LinearRegression()\n",
    "linear_reg_model.fit(X_train, y_train);"
   ]
  },
  {
   "cell_type": "markdown",
   "id": "1fade7ab",
   "metadata": {},
   "source": [
    "# Evaluate"
   ]
  },
  {
   "cell_type": "code",
   "execution_count": 19,
   "id": "053e3c7a",
   "metadata": {
    "ExecuteTime": {
     "end_time": "2022-02-13T06:45:56.858685Z",
     "start_time": "2022-02-13T06:45:56.839665Z"
    }
   },
   "outputs": [
    {
     "name": "stdout",
     "output_type": "stream",
     "text": [
      "R Squared: 0.6620052929422553\n"
     ]
    }
   ],
   "source": [
    "from sklearn.metrics import r2_score\n",
    "\n",
    "y_pred = linear_reg_model.predict(X_test)\n",
    "r_squared = r2_score(y_test, y_pred)\n",
    "\n",
    "print(f\"R Squared: {r_squared}\")"
   ]
  },
  {
   "cell_type": "markdown",
   "id": "c9d77414",
   "metadata": {},
   "source": [
    "# How to find R-Squared ($R^2$)"
   ]
  },
  {
   "cell_type": "markdown",
   "id": "8ee93e64",
   "metadata": {},
   "source": [
    "$SS_{res} = \\sum_{i=1}^{n}(y_i - f(x_i))^2$\n",
    "\n",
    "$Where$:\n",
    "- $SS_{res}: \\text{Sum-Squared Residual.}$\n",
    "- $y_i: \\text{actual y value at i.}$\n",
    "- $f(x_i): \\text{predict y value at i.}$"
   ]
  },
  {
   "cell_type": "code",
   "execution_count": 23,
   "id": "30a8e5a5",
   "metadata": {
    "ExecuteTime": {
     "end_time": "2022-02-13T07:17:37.119089Z",
     "start_time": "2022-02-13T07:17:37.103516Z"
    }
   },
   "outputs": [
    {
     "name": "stdout",
     "output_type": "stream",
     "text": [
      "Sum-Squared Residual (SS Res): 19.1980993608799\n"
     ]
    }
   ],
   "source": [
    "ss_res = sum([(y_i - linear_reg_model.predict(x_i.reshape(-1, 1))[0])**2\n",
    "             for x_i, y_i in zip(X_test, y_test)])\n",
    "\n",
    "print(f\"Sum-Squared Residual (SS Res): {ss_res}\")"
   ]
  },
  {
   "cell_type": "markdown",
   "id": "71ebb752",
   "metadata": {},
   "source": [
    "$SS_{tot} = \\sum_{i=1}^{n}(y_i - \\bar{y})^2$\n",
    "\n",
    "$Where$:\n",
    "- $SS_{tot}: \\text{Sum-Squared Total.}$\n",
    "- $y_i: \\text{actual y value at i.}$\n",
    "- $\\bar{y}: \\text{mean of y value.}$"
   ]
  },
  {
   "cell_type": "code",
   "execution_count": 24,
   "id": "77c3e388",
   "metadata": {
    "ExecuteTime": {
     "end_time": "2022-02-13T07:17:38.940151Z",
     "start_time": "2022-02-13T07:17:38.924534Z"
    }
   },
   "outputs": [
    {
     "name": "stdout",
     "output_type": "stream",
     "text": [
      "Sum-Squared Total (SS Tot): 56.8\n"
     ]
    }
   ],
   "source": [
    "mean_y = np.mean(y_test)\n",
    "ss_tot = sum([(y_i - mean_y)**2 for y_i in y_test])\n",
    "\n",
    "print(f\"Sum-Squared Total (SS Tot): {ss_tot}\")"
   ]
  },
  {
   "cell_type": "markdown",
   "id": "e5c40e61",
   "metadata": {},
   "source": [
    "$R^2 = 1 - \\frac{SS_{res}}{SS_{tot}}$\n",
    "\n",
    "$Where$:\n",
    "- $R^2: \\text{R-Squared.}$\n",
    "- $SS_{res}: \\text{Sum-Squared Residual.}$\n",
    "- $SS_{total}: \\text{Sum-Squared Total.}$"
   ]
  },
  {
   "cell_type": "code",
   "execution_count": 22,
   "id": "5bc96d50",
   "metadata": {
    "ExecuteTime": {
     "end_time": "2022-02-13T06:45:56.918813Z",
     "start_time": "2022-02-13T06:45:56.899378Z"
    }
   },
   "outputs": [
    {
     "name": "stdout",
     "output_type": "stream",
     "text": [
      "R-Squared: 0.6620052929422553\n"
     ]
    }
   ],
   "source": [
    "r_squared = 1 - (ss_res / ss_tot)\n",
    "\n",
    "print(f\"R-Squared: {r_squared}\")"
   ]
  }
 ],
 "metadata": {
  "kernelspec": {
   "display_name": "Python 3",
   "language": "python",
   "name": "python3"
  },
  "language_info": {
   "codemirror_mode": {
    "name": "ipython",
    "version": 3
   },
   "file_extension": ".py",
   "mimetype": "text/x-python",
   "name": "python",
   "nbconvert_exporter": "python",
   "pygments_lexer": "ipython3",
   "version": "3.8.8"
  },
  "toc": {
   "base_numbering": 1,
   "nav_menu": {},
   "number_sections": true,
   "sideBar": true,
   "skip_h1_title": false,
   "title_cell": "Table of Contents",
   "title_sidebar": "Contents",
   "toc_cell": false,
   "toc_position": {},
   "toc_section_display": true,
   "toc_window_display": false
  }
 },
 "nbformat": 4,
 "nbformat_minor": 5
}
