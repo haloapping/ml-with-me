{
 "cells": [
  {
   "cell_type": "markdown",
   "id": "96f261e6",
   "metadata": {},
   "source": [
    "# Objectives\n",
    "Memprediksi nilai (*marks*) dari seorang siswa berdasarkan *number_of_courses* dan *time_study*. "
   ]
  },
  {
   "cell_type": "markdown",
   "id": "75e44af7",
   "metadata": {},
   "source": [
    "# Import Modules"
   ]
  },
  {
   "cell_type": "code",
   "execution_count": 1,
   "id": "ba5c9c93",
   "metadata": {
    "ExecuteTime": {
     "end_time": "2022-02-22T09:56:49.763732Z",
     "start_time": "2022-02-22T09:56:48.548589Z"
    }
   },
   "outputs": [],
   "source": [
    "import pandas as pd\n",
    "pd.set_option(\"max_rows\", 100)"
   ]
  },
  {
   "cell_type": "markdown",
   "id": "907904d0",
   "metadata": {},
   "source": [
    "# Dataset"
   ]
  },
  {
   "cell_type": "code",
   "execution_count": 2,
   "id": "936f0c4c",
   "metadata": {
    "ExecuteTime": {
     "end_time": "2022-02-22T09:56:49.825705Z",
     "start_time": "2022-02-22T09:56:49.769628Z"
    }
   },
   "outputs": [
    {
     "data": {
      "text/html": [
       "<div>\n",
       "<style scoped>\n",
       "    .dataframe tbody tr th:only-of-type {\n",
       "        vertical-align: middle;\n",
       "    }\n",
       "\n",
       "    .dataframe tbody tr th {\n",
       "        vertical-align: top;\n",
       "    }\n",
       "\n",
       "    .dataframe thead th {\n",
       "        text-align: right;\n",
       "    }\n",
       "</style>\n",
       "<table border=\"1\" class=\"dataframe\">\n",
       "  <thead>\n",
       "    <tr style=\"text-align: right;\">\n",
       "      <th></th>\n",
       "      <th>number_courses</th>\n",
       "      <th>time_study</th>\n",
       "      <th>Marks</th>\n",
       "    </tr>\n",
       "  </thead>\n",
       "  <tbody>\n",
       "    <tr>\n",
       "      <th>0</th>\n",
       "      <td>3</td>\n",
       "      <td>4.508</td>\n",
       "      <td>19.202</td>\n",
       "    </tr>\n",
       "    <tr>\n",
       "      <th>1</th>\n",
       "      <td>4</td>\n",
       "      <td>0.096</td>\n",
       "      <td>7.734</td>\n",
       "    </tr>\n",
       "    <tr>\n",
       "      <th>2</th>\n",
       "      <td>4</td>\n",
       "      <td>3.133</td>\n",
       "      <td>13.811</td>\n",
       "    </tr>\n",
       "    <tr>\n",
       "      <th>3</th>\n",
       "      <td>6</td>\n",
       "      <td>7.909</td>\n",
       "      <td>53.018</td>\n",
       "    </tr>\n",
       "    <tr>\n",
       "      <th>4</th>\n",
       "      <td>8</td>\n",
       "      <td>7.811</td>\n",
       "      <td>55.299</td>\n",
       "    </tr>\n",
       "  </tbody>\n",
       "</table>\n",
       "</div>"
      ],
      "text/plain": [
       "   number_courses  time_study   Marks\n",
       "0               3       4.508  19.202\n",
       "1               4       0.096   7.734\n",
       "2               4       3.133  13.811\n",
       "3               6       7.909  53.018\n",
       "4               8       7.811  55.299"
      ]
     },
     "execution_count": 2,
     "metadata": {},
     "output_type": "execute_result"
    }
   ],
   "source": [
    "student_marks_df = pd.read_csv(\"../dataset/student_marks.csv\")\n",
    "student_marks_df.head()"
   ]
  },
  {
   "cell_type": "markdown",
   "id": "2d6e896c",
   "metadata": {},
   "source": [
    "## Description\n",
    "1. Jumlah observasi adalah 100\n",
    "2. Fields\n",
    "    - number_courses: jumlah kursus yang diikuti oleh pelajar untuk menunjang proses belajarnya.\n",
    "    - time_study: rata-rata waktu yang digunakan untuk belajar dalam sehari.\n",
    "    - marks: nilai yang diperoleh pelajar."
   ]
  },
  {
   "cell_type": "markdown",
   "id": "35aeb878",
   "metadata": {},
   "source": [
    "# Data Cleaning"
   ]
  },
  {
   "cell_type": "markdown",
   "id": "47fe81b7",
   "metadata": {},
   "source": [
    "## Rename Column\n",
    "Rename *Marks* column to *marks*"
   ]
  },
  {
   "cell_type": "code",
   "execution_count": 3,
   "id": "6e80e512",
   "metadata": {
    "ExecuteTime": {
     "end_time": "2022-02-22T09:56:49.857660Z",
     "start_time": "2022-02-22T09:56:49.830575Z"
    }
   },
   "outputs": [
    {
     "data": {
      "text/html": [
       "<div>\n",
       "<style scoped>\n",
       "    .dataframe tbody tr th:only-of-type {\n",
       "        vertical-align: middle;\n",
       "    }\n",
       "\n",
       "    .dataframe tbody tr th {\n",
       "        vertical-align: top;\n",
       "    }\n",
       "\n",
       "    .dataframe thead th {\n",
       "        text-align: right;\n",
       "    }\n",
       "</style>\n",
       "<table border=\"1\" class=\"dataframe\">\n",
       "  <thead>\n",
       "    <tr style=\"text-align: right;\">\n",
       "      <th></th>\n",
       "      <th>number_courses</th>\n",
       "      <th>time_study</th>\n",
       "      <th>marks</th>\n",
       "    </tr>\n",
       "  </thead>\n",
       "  <tbody>\n",
       "    <tr>\n",
       "      <th>0</th>\n",
       "      <td>3</td>\n",
       "      <td>4.508</td>\n",
       "      <td>19.202</td>\n",
       "    </tr>\n",
       "    <tr>\n",
       "      <th>1</th>\n",
       "      <td>4</td>\n",
       "      <td>0.096</td>\n",
       "      <td>7.734</td>\n",
       "    </tr>\n",
       "    <tr>\n",
       "      <th>2</th>\n",
       "      <td>4</td>\n",
       "      <td>3.133</td>\n",
       "      <td>13.811</td>\n",
       "    </tr>\n",
       "    <tr>\n",
       "      <th>3</th>\n",
       "      <td>6</td>\n",
       "      <td>7.909</td>\n",
       "      <td>53.018</td>\n",
       "    </tr>\n",
       "    <tr>\n",
       "      <th>4</th>\n",
       "      <td>8</td>\n",
       "      <td>7.811</td>\n",
       "      <td>55.299</td>\n",
       "    </tr>\n",
       "  </tbody>\n",
       "</table>\n",
       "</div>"
      ],
      "text/plain": [
       "   number_courses  time_study   marks\n",
       "0               3       4.508  19.202\n",
       "1               4       0.096   7.734\n",
       "2               4       3.133  13.811\n",
       "3               6       7.909  53.018\n",
       "4               8       7.811  55.299"
      ]
     },
     "execution_count": 3,
     "metadata": {},
     "output_type": "execute_result"
    }
   ],
   "source": [
    "student_marks_df = student_marks_df.rename(columns={\"Marks\": \"marks\"})\n",
    "student_marks_df.head()"
   ]
  },
  {
   "cell_type": "markdown",
   "id": "1ceea766",
   "metadata": {},
   "source": [
    "## Check Missing Value\n",
    "No missing value"
   ]
  },
  {
   "cell_type": "code",
   "execution_count": 4,
   "id": "a8d35469",
   "metadata": {
    "ExecuteTime": {
     "end_time": "2022-02-22T09:56:49.889022Z",
     "start_time": "2022-02-22T09:56:49.865686Z"
    }
   },
   "outputs": [
    {
     "data": {
      "text/plain": [
       "number_courses    0\n",
       "time_study        0\n",
       "marks             0\n",
       "dtype: int64"
      ]
     },
     "execution_count": 4,
     "metadata": {},
     "output_type": "execute_result"
    }
   ],
   "source": [
    "student_marks_df.isna().sum()"
   ]
  },
  {
   "cell_type": "markdown",
   "id": "d4bd62f4",
   "metadata": {},
   "source": [
    "## Inconsistent Data Entry\n",
    "Data entry is consistent"
   ]
  },
  {
   "cell_type": "code",
   "execution_count": 5,
   "id": "948b4286",
   "metadata": {
    "ExecuteTime": {
     "end_time": "2022-02-22T09:56:49.919691Z",
     "start_time": "2022-02-22T09:56:49.893990Z"
    }
   },
   "outputs": [
    {
     "name": "stdout",
     "output_type": "stream",
     "text": [
      "Number of unique value in number_courses [3 4 6 8 5 7]\n",
      "\n",
      "Number of unique value in time_study [4.508 0.096 3.133 7.909 7.811 3.211 6.063 3.413 4.41  6.173 7.353 0.423\n",
      " 4.218 4.274 2.908 4.26  5.719 6.08  7.711 3.977 4.733 6.126 2.051 4.875\n",
      " 3.635 1.407 0.508 4.378 0.156 1.299 3.864 1.923 0.932 6.594 4.083 7.543\n",
      " 2.966 7.283 6.533 7.775 0.14  2.754 3.591 1.557 1.954 2.061 3.797 4.779\n",
      " 5.635 3.913 6.703 4.13  0.771 6.049 7.591 2.913 7.641 7.649 6.198 7.468\n",
      " 0.376 2.438 3.606 4.869 0.13  2.142 5.473 0.55  1.395 3.948 3.736 2.518\n",
      " 4.633 1.629 6.954 0.803 6.379 5.985 7.451 0.805 7.957 2.262 7.41  3.197\n",
      " 1.982 6.201 4.067 1.033 1.803 6.376 4.182 2.73  5.027 6.471 3.919 3.561\n",
      " 0.301 7.163 0.309 6.335]\n",
      "\n",
      "Number of unique value in marks [19.202  7.734 13.811 53.018 55.299 17.822 29.889 17.264 20.348 30.862\n",
      " 42.036 12.132 24.318 17.672 11.397 19.466 30.548 38.49  50.986 25.133\n",
      " 22.073 35.939 12.209 28.043 16.517  6.623 12.647 26.532  9.333  8.837\n",
      " 24.172  8.1   15.038 39.965 17.171 43.978 13.119 46.453 41.358 51.142\n",
      "  7.336 15.725 19.771 10.429  9.742  8.924 16.703 22.701 26.882 19.106\n",
      " 40.602 22.184  7.892 36.653 53.158 18.238 53.359 51.583 31.236 51.343\n",
      " 10.522 10.844 19.59  21.379 12.591 13.562 27.569  6.185  8.92  21.4\n",
      " 16.606 13.416 20.398  7.014 39.952  6.217 36.746 38.278 49.544  6.349\n",
      " 54.321 17.705 44.099 16.106 16.461 39.957 23.149  6.053 11.253 40.024\n",
      " 24.394 19.564 23.916 42.426 24.451 19.128  5.609 41.444 12.027 32.357]\n"
     ]
    }
   ],
   "source": [
    "print(f\"Number of unique value in number_courses {student_marks_df.number_courses.unique()}\\n\")\n",
    "print(f\"Number of unique value in time_study {student_marks_df.time_study.unique()}\\n\")\n",
    "print(f\"Number of unique value in marks {student_marks_df.marks.unique()}\")"
   ]
  },
  {
   "cell_type": "markdown",
   "id": "2f504aab",
   "metadata": {},
   "source": [
    "# EDA"
   ]
  },
  {
   "cell_type": "markdown",
   "id": "5ea5a8f8",
   "metadata": {},
   "source": [
    "## Description"
   ]
  },
  {
   "cell_type": "code",
   "execution_count": 6,
   "id": "aaebf097",
   "metadata": {
    "ExecuteTime": {
     "end_time": "2022-02-22T09:58:11.521715Z",
     "start_time": "2022-02-22T09:58:11.470743Z"
    }
   },
   "outputs": [
    {
     "data": {
      "text/html": [
       "<div>\n",
       "<style scoped>\n",
       "    .dataframe tbody tr th:only-of-type {\n",
       "        vertical-align: middle;\n",
       "    }\n",
       "\n",
       "    .dataframe tbody tr th {\n",
       "        vertical-align: top;\n",
       "    }\n",
       "\n",
       "    .dataframe thead th {\n",
       "        text-align: right;\n",
       "    }\n",
       "</style>\n",
       "<table border=\"1\" class=\"dataframe\">\n",
       "  <thead>\n",
       "    <tr style=\"text-align: right;\">\n",
       "      <th></th>\n",
       "      <th>number_courses</th>\n",
       "      <th>time_study</th>\n",
       "      <th>marks</th>\n",
       "    </tr>\n",
       "  </thead>\n",
       "  <tbody>\n",
       "    <tr>\n",
       "      <th>count</th>\n",
       "      <td>100.000000</td>\n",
       "      <td>100.000000</td>\n",
       "      <td>100.000000</td>\n",
       "    </tr>\n",
       "    <tr>\n",
       "      <th>mean</th>\n",
       "      <td>5.290000</td>\n",
       "      <td>4.077140</td>\n",
       "      <td>24.417690</td>\n",
       "    </tr>\n",
       "    <tr>\n",
       "      <th>std</th>\n",
       "      <td>1.799523</td>\n",
       "      <td>2.372914</td>\n",
       "      <td>14.326199</td>\n",
       "    </tr>\n",
       "    <tr>\n",
       "      <th>min</th>\n",
       "      <td>3.000000</td>\n",
       "      <td>0.096000</td>\n",
       "      <td>5.609000</td>\n",
       "    </tr>\n",
       "    <tr>\n",
       "      <th>25%</th>\n",
       "      <td>4.000000</td>\n",
       "      <td>2.058500</td>\n",
       "      <td>12.633000</td>\n",
       "    </tr>\n",
       "    <tr>\n",
       "      <th>50%</th>\n",
       "      <td>5.000000</td>\n",
       "      <td>4.022000</td>\n",
       "      <td>20.059500</td>\n",
       "    </tr>\n",
       "    <tr>\n",
       "      <th>75%</th>\n",
       "      <td>7.000000</td>\n",
       "      <td>6.179250</td>\n",
       "      <td>36.676250</td>\n",
       "    </tr>\n",
       "    <tr>\n",
       "      <th>max</th>\n",
       "      <td>8.000000</td>\n",
       "      <td>7.957000</td>\n",
       "      <td>55.299000</td>\n",
       "    </tr>\n",
       "  </tbody>\n",
       "</table>\n",
       "</div>"
      ],
      "text/plain": [
       "       number_courses  time_study       marks\n",
       "count      100.000000  100.000000  100.000000\n",
       "mean         5.290000    4.077140   24.417690\n",
       "std          1.799523    2.372914   14.326199\n",
       "min          3.000000    0.096000    5.609000\n",
       "25%          4.000000    2.058500   12.633000\n",
       "50%          5.000000    4.022000   20.059500\n",
       "75%          7.000000    6.179250   36.676250\n",
       "max          8.000000    7.957000   55.299000"
      ]
     },
     "execution_count": 6,
     "metadata": {},
     "output_type": "execute_result"
    }
   ],
   "source": [
    "student_marks_df.describe()"
   ]
  },
  {
   "cell_type": "code",
   "execution_count": 7,
   "id": "782db1ff",
   "metadata": {
    "ExecuteTime": {
     "end_time": "2022-02-22T10:03:04.907852Z",
     "start_time": "2022-02-22T10:03:04.879508Z"
    }
   },
   "outputs": [
    {
     "data": {
      "text/plain": [
       "number_courses     5.0000\n",
       "time_study         4.0220\n",
       "marks             20.0595\n",
       "dtype: float64"
      ]
     },
     "execution_count": 7,
     "metadata": {},
     "output_type": "execute_result"
    }
   ],
   "source": [
    "student_marks_df.median()"
   ]
  },
  {
   "cell_type": "code",
   "execution_count": 8,
   "id": "23c4b190",
   "metadata": {
    "ExecuteTime": {
     "end_time": "2022-02-22T10:04:26.465008Z",
     "start_time": "2022-02-22T10:04:24.903519Z"
    }
   },
   "outputs": [],
   "source": [
    "import seaborn as sns"
   ]
  },
  {
   "cell_type": "code",
   "execution_count": 10,
   "id": "d72e7cd5",
   "metadata": {
    "ExecuteTime": {
     "end_time": "2022-02-22T10:05:15.750397Z",
     "start_time": "2022-02-22T10:05:15.044118Z"
    }
   },
   "outputs": [
    {
     "data": {
      "image/png": "[encoded data removed]",
      "text/plain": [
       "<Figure size 360x360 with 1 Axes>"
      ]
     },
     "metadata": {
      "needs_background": "light"
     },
     "output_type": "display_data"
    }
   ],
   "source": [
    "sns.displot(data=student_marks_df, x=\"marks\", kde=True);"
   ]
  },
  {
   "cell_type": "code",
   "execution_count": 12,
   "id": "ac49003e",
   "metadata": {
    "ExecuteTime": {
     "end_time": "2022-02-22T10:06:06.879434Z",
     "start_time": "2022-02-22T10:06:06.367824Z"
    }
   },
   "outputs": [
    {
     "data": {
      "image/png": "[encoded data removed]",
      "text/plain": [
       "<Figure size 360x360 with 1 Axes>"
      ]
     },
     "metadata": {
      "needs_background": "light"
     },
     "output_type": "display_data"
    }
   ],
   "source": [
    "sns.displot(data=student_marks_df, x=\"number_courses\", kde=True);"
   ]
  },
  {
   "cell_type": "code",
   "execution_count": 11,
   "id": "718efb50",
   "metadata": {
    "ExecuteTime": {
     "end_time": "2022-02-22T10:05:35.873694Z",
     "start_time": "2022-02-22T10:05:35.351314Z"
    }
   },
   "outputs": [
    {
     "data": {
      "image/png": "[encoded data removed]",
      "text/plain": [
       "<Figure size 360x360 with 1 Axes>"
      ]
     },
     "metadata": {
      "needs_background": "light"
     },
     "output_type": "display_data"
    }
   ],
   "source": [
    "sns.displot(data=student_marks_df, x=\"time_study\", kde=True);"
   ]
  },
  {
   "cell_type": "code",
   "execution_count": null,
   "id": "2a3a90d9",
   "metadata": {},
   "outputs": [],
   "source": []
  }
 ],
 "metadata": {
  "kernelspec": {
   "display_name": "Python 3 (ipykernel)",
   "language": "python",
   "name": "python3"
  },
  "language_info": {
   "codemirror_mode": {
    "name": "ipython",
    "version": 3
   },
   "file_extension": ".py",
   "mimetype": "text/x-python",
   "name": "python",
   "nbconvert_exporter": "python",
   "pygments_lexer": "ipython3",
   "version": "3.8.12"
  },
  "nbTranslate": {
   "displayLangs": [
    "*"
   ],
   "hotkey": "alt-t",
   "langInMainMenu": true,
   "sourceLang": "en",
   "targetLang": "fr",
   "useGoogleTranslate": true
  },
  "toc": {
   "base_numbering": 1,
   "nav_menu": {},
   "number_sections": true,
   "sideBar": true,
   "skip_h1_title": false,
   "title_cell": "Table of Contents",
   "title_sidebar": "Contents",
   "toc_cell": false,
   "toc_position": {
    "height": "calc(100% - 180px)",
    "left": "10px",
    "top": "150px",
    "width": "256px"
   },
   "toc_section_display": true,
   "toc_window_display": true
  }
 },
 "nbformat": 4,
 "nbformat_minor": 5
}
