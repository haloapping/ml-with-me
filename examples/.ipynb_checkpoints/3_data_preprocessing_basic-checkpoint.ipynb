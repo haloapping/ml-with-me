{
 "cells": [
  {
   "cell_type": "markdown",
   "id": "e821af49",
   "metadata": {
    "slideshow": {
     "slide_type": "slide"
    }
   },
   "source": [
    "<img src=\"../images/spongebob.jpg\" width=400/>"
   ]
  },
  {
   "cell_type": "markdown",
   "id": "dc8f1928",
   "metadata": {
    "slideshow": {
     "slide_type": "slide"
    }
   },
   "source": [
    "# Import Library"
   ]
  },
  {
   "cell_type": "code",
   "execution_count": 1,
   "id": "1736774c",
   "metadata": {
    "ExecuteTime": {
     "end_time": "2022-02-22T03:00:29.373143Z",
     "start_time": "2022-02-22T03:00:27.310269Z"
    }
   },
   "outputs": [],
   "source": [
    "import numpy as np\n",
    "from sklearn import preprocessing"
   ]
  },
  {
   "cell_type": "markdown",
   "id": "01856999",
   "metadata": {
    "slideshow": {
     "slide_type": "slide"
    }
   },
   "source": [
    "# Sample Data"
   ]
  },
  {
   "cell_type": "code",
   "execution_count": 2,
   "id": "2a1c9e3b",
   "metadata": {
    "ExecuteTime": {
     "end_time": "2022-02-22T03:00:29.404370Z",
     "start_time": "2022-02-22T03:00:29.382147Z"
    }
   },
   "outputs": [],
   "source": [
    "sample_data = np.array([[2.1, -1.9, 0.5],\n",
    "                       [-1.5, 2.4, 3.5],\n",
    "                       [-0.5, 0.6, 0.55],\n",
    "                       [-0.55, 2.5, -5.7]])"
   ]
  },
  {
   "cell_type": "code",
   "execution_count": 3,
   "id": "7a4fd03a",
   "metadata": {
    "ExecuteTime": {
     "end_time": "2022-02-22T03:00:29.451502Z",
     "start_time": "2022-02-22T03:00:29.413291Z"
    }
   },
   "outputs": [
    {
     "data": {
      "text/plain": [
       "array([[ 2.1 , -1.9 ,  0.5 ],\n",
       "       [-1.5 ,  2.4 ,  3.5 ],\n",
       "       [-0.5 ,  0.6 ,  0.55],\n",
       "       [-0.55,  2.5 , -5.7 ]])"
      ]
     },
     "execution_count": 3,
     "metadata": {},
     "output_type": "execute_result"
    }
   ],
   "source": [
    "sample_data"
   ]
  },
  {
   "cell_type": "code",
   "execution_count": 4,
   "id": "3c8c5df0",
   "metadata": {
    "ExecuteTime": {
     "end_time": "2022-02-22T03:00:29.482458Z",
     "start_time": "2022-02-22T03:00:29.461908Z"
    }
   },
   "outputs": [
    {
     "name": "stdout",
     "output_type": "stream",
     "text": [
      "Number of row    : 4\n",
      "Number of column : 3\n"
     ]
    }
   ],
   "source": [
    "row, column = sample_data.shape\n",
    "print(f\"Number of row    : {row}\")\n",
    "print(f\"Number of column : {column}\")"
   ]
  },
  {
   "cell_type": "markdown",
   "id": "7f7151fb",
   "metadata": {
    "slideshow": {
     "slide_type": "slide"
    }
   },
   "source": [
    "# Preprocessing Data"
   ]
  },
  {
   "cell_type": "markdown",
   "id": "74b61a32",
   "metadata": {},
   "source": [
    "## Binarization\n",
    "Mengubah data menjadi 0 atau 1 berdasarkan batasan yang ditentukan."
   ]
  },
  {
   "cell_type": "code",
   "execution_count": 5,
   "id": "3d4d1ca2",
   "metadata": {
    "ExecuteTime": {
     "end_time": "2022-02-22T03:00:29.514347Z",
     "start_time": "2022-02-22T03:00:29.489458Z"
    }
   },
   "outputs": [
    {
     "name": "stdout",
     "output_type": "stream",
     "text": [
      "Before:\n",
      "[[ 2.1  -1.9   0.5 ]\n",
      " [-1.5   2.4   3.5 ]\n",
      " [-0.5   0.6   0.55]\n",
      " [-0.55  2.5  -5.7 ]]\n",
      "\n",
      "After:\n",
      "[[1. 0. 0.]\n",
      " [0. 1. 1.]\n",
      " [0. 1. 1.]\n",
      " [0. 1. 0.]]\n"
     ]
    }
   ],
   "source": [
    "binarizer = preprocessing.Binarizer(threshold=0.5)\n",
    "binarized_data = binarizer.fit_transform(sample_data)\n",
    "\n",
    "print(f\"Before:\\n{sample_data}\\n\")\n",
    "print(f\"After:\\n{binarized_data}\")"
   ]
  },
  {
   "cell_type": "markdown",
   "id": "30793c9f",
   "metadata": {
    "slideshow": {
     "slide_type": "subslide"
    }
   },
   "source": [
    "## Min Max Scaling\n",
    "Membuat sekumpulan nilai berada direntang nilai yang telah ditentukan batasannya."
   ]
  },
  {
   "cell_type": "code",
   "execution_count": 6,
   "id": "aa716277",
   "metadata": {
    "ExecuteTime": {
     "end_time": "2022-02-22T03:00:29.545721Z",
     "start_time": "2022-02-22T03:00:29.520344Z"
    }
   },
   "outputs": [
    {
     "name": "stdout",
     "output_type": "stream",
     "text": [
      "Before:\n",
      "[[ 2.1  -1.9   0.5 ]\n",
      " [-1.5   2.4   3.5 ]\n",
      " [-0.5   0.6   0.55]\n",
      " [-0.55  2.5  -5.7 ]]\n",
      "\n",
      "After:\n",
      "[[1.         0.         0.67391304]\n",
      " [0.         0.97727273 1.        ]\n",
      " [0.27777778 0.56818182 0.67934783]\n",
      " [0.26388889 1.         0.        ]]\n"
     ]
    }
   ],
   "source": [
    "min_max_scaler = preprocessing.MinMaxScaler(feature_range=(0, 1))\n",
    "min_max_data = min_max_scaler.fit_transform(sample_data)\n",
    "\n",
    "print(f\"Before:\\n{sample_data}\\n\")\n",
    "print(f\"After:\\n{min_max_data}\")"
   ]
  },
  {
   "cell_type": "markdown",
   "id": "d72fae5f",
   "metadata": {
    "slideshow": {
     "slide_type": "subslide"
    }
   },
   "source": [
    "## Standard Scaler"
   ]
  },
  {
   "cell_type": "code",
   "execution_count": 7,
   "id": "9c5cad7f",
   "metadata": {
    "ExecuteTime": {
     "end_time": "2022-02-22T03:00:29.576409Z",
     "start_time": "2022-02-22T03:00:29.550344Z"
    }
   },
   "outputs": [
    {
     "name": "stdout",
     "output_type": "stream",
     "text": [
      "Before:\n",
      "[[ 2.1  -1.9   0.5 ]\n",
      " [-1.5   2.4   3.5 ]\n",
      " [-0.5   0.6   0.55]\n",
      " [-0.55  2.5  -5.7 ]]\n",
      "\n",
      "After:\n",
      "[[ 1.65348366 -1.56892908  0.23488666]\n",
      " [-1.03693043  0.84049772  1.12969298]\n",
      " [-0.28959318 -0.16809954  0.2498001 ]\n",
      " [-0.32696005  0.8965309  -1.61437974]]\n"
     ]
    }
   ],
   "source": [
    "standard_scaler = preprocessing.StandardScaler()\n",
    "standard_scaler_data = standard_scaler.fit_transform(sample_data)\n",
    "\n",
    "print(f\"Before:\\n{sample_data}\\n\")\n",
    "print(f\"After:\\n{standard_scaler_data}\")"
   ]
  },
  {
   "cell_type": "markdown",
   "id": "7cba48bf",
   "metadata": {
    "slideshow": {
     "slide_type": "subslide"
    }
   },
   "source": [
    "## L1 Normalization: Least Absolute Deviations"
   ]
  },
  {
   "cell_type": "code",
   "execution_count": 8,
   "id": "2548335a",
   "metadata": {
    "ExecuteTime": {
     "end_time": "2022-02-22T03:00:29.607104Z",
     "start_time": "2022-02-22T03:00:29.581816Z"
    }
   },
   "outputs": [
    {
     "name": "stdout",
     "output_type": "stream",
     "text": [
      "Before:\n",
      "[[ 2.1  -1.9   0.5 ]\n",
      " [-1.5   2.4   3.5 ]\n",
      " [-0.5   0.6   0.55]\n",
      " [-0.55  2.5  -5.7 ]]\n",
      "\n",
      "After:\n",
      "[[ 0.46666667 -0.42222222  0.11111111]\n",
      " [-0.2027027   0.32432432  0.47297297]\n",
      " [-0.3030303   0.36363636  0.33333333]\n",
      " [-0.06285714  0.28571429 -0.65142857]]\n"
     ]
    }
   ],
   "source": [
    "l1_normalizer = preprocessing.Normalizer(norm=\"l1\")\n",
    "l1_normalizer_data = l1_normalizer.fit_transform(sample_data)\n",
    "\n",
    "print(f\"Before:\\n{sample_data}\\n\")\n",
    "print(f\"After:\\n{l1_normalizer_data}\")"
   ]
  },
  {
   "cell_type": "markdown",
   "id": "880ef61d",
   "metadata": {
    "slideshow": {
     "slide_type": "subslide"
    }
   },
   "source": [
    "## L2 Normalization: Least Square"
   ]
  },
  {
   "cell_type": "code",
   "execution_count": 9,
   "id": "d009b554",
   "metadata": {
    "ExecuteTime": {
     "end_time": "2022-02-22T03:00:29.638401Z",
     "start_time": "2022-02-22T03:00:29.613164Z"
    }
   },
   "outputs": [
    {
     "name": "stdout",
     "output_type": "stream",
     "text": [
      "Before:\n",
      "[[ 2.1  -1.9   0.5 ]\n",
      " [-1.5   2.4   3.5 ]\n",
      " [-0.5   0.6   0.55]\n",
      " [-0.55  2.5  -5.7 ]]\n",
      "\n",
      "After:\n",
      "[[ 0.73024155 -0.66069474  0.17386704]\n",
      " [-0.33325106  0.53320169  0.7775858 ]\n",
      " [-0.52342392  0.62810871  0.57576631]\n",
      " [-0.08802254  0.40010244 -0.91223356]]\n"
     ]
    }
   ],
   "source": [
    "l2_normalizer = preprocessing.Normalizer(norm=\"l2\")\n",
    "l2_normalizer_data = l2_normalizer.fit_transform(sample_data)\n",
    "\n",
    "print(f\"Before:\\n{sample_data}\\n\")\n",
    "print(f\"After:\\n{l2_normalizer_data}\")"
   ]
  },
  {
   "cell_type": "code",
   "execution_count": null,
   "id": "4ed6e47b",
   "metadata": {},
   "outputs": [],
   "source": []
  }
 ],
 "metadata": {
  "celltoolbar": "Slideshow",
  "kernelspec": {
   "display_name": "Python 3 (ipykernel)",
   "language": "python",
   "name": "python3"
  },
  "language_info": {
   "codemirror_mode": {
    "name": "ipython",
    "version": 3
   },
   "file_extension": ".py",
   "mimetype": "text/x-python",
   "name": "python",
   "nbconvert_exporter": "python",
   "pygments_lexer": "ipython3",
   "version": "3.8.12"
  },
  "nbTranslate": {
   "displayLangs": [
    "*"
   ],
   "hotkey": "alt-t",
   "langInMainMenu": true,
   "sourceLang": "en",
   "targetLang": "fr",
   "useGoogleTranslate": true
  },
  "toc": {
   "base_numbering": 1,
   "nav_menu": {},
   "number_sections": true,
   "sideBar": true,
   "skip_h1_title": false,
   "title_cell": "Table of Contents",
   "title_sidebar": "Contents",
   "toc_cell": false,
   "toc_position": {},
   "toc_section_display": true,
   "toc_window_display": false
  }
 },
 "nbformat": 4,
 "nbformat_minor": 5
}
