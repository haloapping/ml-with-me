{
 "cells": [
  {
   "cell_type": "markdown",
   "id": "ed3ebbd8",
   "metadata": {
    "ExecuteTime": {
     "end_time": "2022-03-01T13:31:32.708088Z",
     "start_time": "2022-03-01T13:31:32.693274Z"
    },
    "slideshow": {
     "slide_type": "slide"
    }
   },
   "source": [
    "<img src=\"../images/marman-1.jpg\" width=\"500\">\n",
    "<center>Marman Coklat Keju Enak Beutt.. 🤤</center>"
   ]
  },
  {
   "cell_type": "markdown",
   "id": "d03556ad",
   "metadata": {
    "slideshow": {
     "slide_type": "slide"
    }
   },
   "source": [
    "# TF-IDF (Term Frequency-Inverse Document Frequency)\n",
    "\n",
    "- Salah satu metode statistik yang digunakan untuk mengukur seberapa penting suatu token terhadap suatu dokumen tertentu dari sekumpulan dokumen atau corpus."
   ]
  },
  {
   "cell_type": "markdown",
   "id": "abe09c9f",
   "metadata": {
    "slideshow": {
     "slide_type": "subslide"
    }
   },
   "source": [
    "## Term Frequency\n",
    "\n",
    "- Hasil pembagian suatu istilah atau token tertentu dengan jumlah token pada dokumen.\n",
    "\n",
    "    $tf(t,\\ d)\\ =\\ \\frac{f_{t,\\ d}}{\\sum_{t'\\ \\in\\ d}{f_{t',\\ d}}}$, dimana\n",
    "\n",
    "- $f_{t,\\ d}\\ =\\$ jumlah token tertentu dalam suatu dokumen\n",
    "\n",
    "- $\\sum_{t'\\ \\in\\ d}{f_{t',\\ d}}\\ =\\$ jumlah keseluruhan token pada dokumen yang mengandung token tertentu."
   ]
  },
  {
   "cell_type": "markdown",
   "id": "94712819",
   "metadata": {
    "slideshow": {
     "slide_type": "subslide"
    }
   },
   "source": [
    "## Inverse Document Frequency\n",
    "\n",
    "- Without smooting: $idf(t) = log \\frac{1\\ +\\ n}{1\\ +\\ df(t)}$\n",
    "- With smoothing: $idf(t) = log \\frac{1\\ +\\ n}{1\\ +\\ df(t)} + 1$\n",
    "- Dimana:\n",
    "    - $n\\ =\\$ jumlah total dokumen pada korpus.\n",
    "    \n",
    "    - $df(t)\\ =\\$ jumlah dokumen dalam kumpulan dokumen yang mengandung istilah t."
   ]
  },
  {
   "cell_type": "markdown",
   "id": "115d5597",
   "metadata": {
    "slideshow": {
     "slide_type": "slide"
    }
   },
   "source": [
    "## TF-IDF\n",
    "\n",
    "\n",
    "- Hasil perkalian antara nilia term frequency dengan inverse document frequency.\n",
    "\n",
    "- $tf\\text{-}idf(t,\\ d)\\ =\\ tf(t, d)\\ \\times \\ idf(t)$, dimana:\n",
    "    - $tf(t, d)\\ =\\$ term frequency.\n",
    "    \n",
    "    - $idf(t)\\ =\\$ inverse document frequency."
   ]
  },
  {
   "cell_type": "markdown",
   "id": "12b664a4",
   "metadata": {
    "slideshow": {
     "slide_type": "slide"
    }
   },
   "source": [
    "# Dataset"
   ]
  },
  {
   "cell_type": "code",
   "execution_count": 1,
   "id": "9b362245",
   "metadata": {
    "ExecuteTime": {
     "end_time": "2022-03-01T13:36:35.893775Z",
     "start_time": "2022-03-01T13:36:35.810624Z"
    }
   },
   "outputs": [
    {
     "data": {
      "text/plain": [
       "['Saya suka makan bakso.',\n",
       " 'Saya suka makan gado-gado.',\n",
       " 'Saya suka makan pisang ijo.',\n",
       " 'Saya sukanya sama kamu.',\n",
       " 'Tapi, kamu gak suka sama aku.']"
      ]
     },
     "execution_count": 1,
     "metadata": {},
     "output_type": "execute_result"
    }
   ],
   "source": [
    "corpus = [\n",
    "    \"Saya suka makan bakso.\",\n",
    "    \"Saya suka makan gado-gado.\",\n",
    "    \"Saya suka makan pisang ijo.\",\n",
    "    \"Saya sukanya sama kamu.\",\n",
    "    \"Tapi, kamu gak suka sama aku.\"\n",
    "]\n",
    "\n",
    "corpus"
   ]
  },
  {
   "cell_type": "markdown",
   "id": "980f5f4c",
   "metadata": {
    "hide_input": false,
    "slideshow": {
     "slide_type": "slide"
    }
   },
   "source": [
    "# TF-IDF Calculation"
   ]
  },
  {
   "cell_type": "code",
   "execution_count": 2,
   "id": "3f89cc49",
   "metadata": {
    "ExecuteTime": {
     "end_time": "2022-03-01T13:36:35.942372Z",
     "start_time": "2022-03-01T13:36:35.913231Z"
    }
   },
   "outputs": [
    {
     "data": {
      "text/plain": [
       "['Saya suka makan bakso.',\n",
       " 'Saya suka makan gado-gado.',\n",
       " 'Saya suka makan pisang ijo.',\n",
       " 'Saya sukanya sama kamu.',\n",
       " 'Tapi, kamu gak suka sama aku.']"
      ]
     },
     "execution_count": 2,
     "metadata": {},
     "output_type": "execute_result"
    }
   ],
   "source": [
    "corpus"
   ]
  },
  {
   "cell_type": "markdown",
   "id": "39296401",
   "metadata": {
    "slideshow": {
     "slide_type": "subslide"
    }
   },
   "source": [
    "## Index and Document"
   ]
  },
  {
   "cell_type": "code",
   "execution_count": 8,
   "id": "af3cba44",
   "metadata": {
    "ExecuteTime": {
     "end_time": "2022-03-01T13:40:04.925094Z",
     "start_time": "2022-03-01T13:40:04.897388Z"
    },
    "hide_input": false,
    "scrolled": true
   },
   "outputs": [
    {
     "data": {
      "text/html": [
       "<div>\n",
       "<style scoped>\n",
       "    .dataframe tbody tr th:only-of-type {\n",
       "        vertical-align: middle;\n",
       "    }\n",
       "\n",
       "    .dataframe tbody tr th {\n",
       "        vertical-align: top;\n",
       "    }\n",
       "\n",
       "    .dataframe thead th {\n",
       "        text-align: right;\n",
       "    }\n",
       "</style>\n",
       "<table border=\"1\" class=\"dataframe\">\n",
       "  <thead>\n",
       "    <tr style=\"text-align: right;\">\n",
       "      <th></th>\n",
       "      <th>idx_doc</th>\n",
       "      <th>doc</th>\n",
       "    </tr>\n",
       "  </thead>\n",
       "  <tbody>\n",
       "    <tr>\n",
       "      <th>0</th>\n",
       "      <td>0</td>\n",
       "      <td>Saya suka makan bakso.</td>\n",
       "    </tr>\n",
       "    <tr>\n",
       "      <th>1</th>\n",
       "      <td>1</td>\n",
       "      <td>Saya suka makan gado-gado.</td>\n",
       "    </tr>\n",
       "    <tr>\n",
       "      <th>2</th>\n",
       "      <td>2</td>\n",
       "      <td>Saya suka makan pisang ijo.</td>\n",
       "    </tr>\n",
       "    <tr>\n",
       "      <th>3</th>\n",
       "      <td>3</td>\n",
       "      <td>Saya sukanya sama kamu.</td>\n",
       "    </tr>\n",
       "    <tr>\n",
       "      <th>4</th>\n",
       "      <td>4</td>\n",
       "      <td>Tapi, kamu gak suka sama aku.</td>\n",
       "    </tr>\n",
       "  </tbody>\n",
       "</table>\n",
       "</div>"
      ],
      "text/plain": [
       "   idx_doc                            doc\n",
       "0        0         Saya suka makan bakso.\n",
       "1        1     Saya suka makan gado-gado.\n",
       "2        2    Saya suka makan pisang ijo.\n",
       "3        3        Saya sukanya sama kamu.\n",
       "4        4  Tapi, kamu gak suka sama aku."
      ]
     },
     "execution_count": 8,
     "metadata": {},
     "output_type": "execute_result"
    }
   ],
   "source": [
    "import pandas as pd\n",
    "\n",
    "document = pd.DataFrame(\n",
    "    data=[[idx, doc] for idx, doc in enumerate(corpus)],\n",
    "    columns=[\"idx_doc\", \"doc\"]\n",
    ")\n",
    "\n",
    "document"
   ]
  },
  {
   "cell_type": "markdown",
   "id": "cbd69721",
   "metadata": {
    "hide_input": false,
    "slideshow": {
     "slide_type": "subslide"
    }
   },
   "source": [
    "## Index and Token"
   ]
  },
  {
   "cell_type": "code",
   "execution_count": 9,
   "id": "2692e389",
   "metadata": {
    "ExecuteTime": {
     "end_time": "2022-03-01T13:40:11.494394Z",
     "start_time": "2022-03-01T13:40:11.453658Z"
    },
    "hide_input": false,
    "scrolled": false
   },
   "outputs": [
    {
     "data": {
      "text/html": [
       "<div>\n",
       "<style scoped>\n",
       "    .dataframe tbody tr th:only-of-type {\n",
       "        vertical-align: middle;\n",
       "    }\n",
       "\n",
       "    .dataframe tbody tr th {\n",
       "        vertical-align: top;\n",
       "    }\n",
       "\n",
       "    .dataframe thead th {\n",
       "        text-align: right;\n",
       "    }\n",
       "</style>\n",
       "<table border=\"1\" class=\"dataframe\">\n",
       "  <thead>\n",
       "    <tr style=\"text-align: right;\">\n",
       "      <th></th>\n",
       "      <th>idx_token</th>\n",
       "      <th>token</th>\n",
       "    </tr>\n",
       "  </thead>\n",
       "  <tbody>\n",
       "    <tr>\n",
       "      <th>0</th>\n",
       "      <td>0</td>\n",
       "      <td>aku</td>\n",
       "    </tr>\n",
       "    <tr>\n",
       "      <th>1</th>\n",
       "      <td>1</td>\n",
       "      <td>bakso</td>\n",
       "    </tr>\n",
       "    <tr>\n",
       "      <th>2</th>\n",
       "      <td>2</td>\n",
       "      <td>gado</td>\n",
       "    </tr>\n",
       "    <tr>\n",
       "      <th>3</th>\n",
       "      <td>3</td>\n",
       "      <td>gak</td>\n",
       "    </tr>\n",
       "    <tr>\n",
       "      <th>4</th>\n",
       "      <td>4</td>\n",
       "      <td>ijo</td>\n",
       "    </tr>\n",
       "    <tr>\n",
       "      <th>5</th>\n",
       "      <td>5</td>\n",
       "      <td>kamu</td>\n",
       "    </tr>\n",
       "    <tr>\n",
       "      <th>6</th>\n",
       "      <td>6</td>\n",
       "      <td>makan</td>\n",
       "    </tr>\n",
       "    <tr>\n",
       "      <th>7</th>\n",
       "      <td>7</td>\n",
       "      <td>pisang</td>\n",
       "    </tr>\n",
       "    <tr>\n",
       "      <th>8</th>\n",
       "      <td>8</td>\n",
       "      <td>sama</td>\n",
       "    </tr>\n",
       "    <tr>\n",
       "      <th>9</th>\n",
       "      <td>9</td>\n",
       "      <td>saya</td>\n",
       "    </tr>\n",
       "    <tr>\n",
       "      <th>10</th>\n",
       "      <td>10</td>\n",
       "      <td>suka</td>\n",
       "    </tr>\n",
       "    <tr>\n",
       "      <th>11</th>\n",
       "      <td>11</td>\n",
       "      <td>sukanya</td>\n",
       "    </tr>\n",
       "    <tr>\n",
       "      <th>12</th>\n",
       "      <td>12</td>\n",
       "      <td>tapi</td>\n",
       "    </tr>\n",
       "  </tbody>\n",
       "</table>\n",
       "</div>"
      ],
      "text/plain": [
       "    idx_token    token\n",
       "0           0      aku\n",
       "1           1    bakso\n",
       "2           2     gado\n",
       "3           3      gak\n",
       "4           4      ijo\n",
       "5           5     kamu\n",
       "6           6    makan\n",
       "7           7   pisang\n",
       "8           8     sama\n",
       "9           9     saya\n",
       "10         10     suka\n",
       "11         11  sukanya\n",
       "12         12     tapi"
      ]
     },
     "execution_count": 9,
     "metadata": {},
     "output_type": "execute_result"
    }
   ],
   "source": [
    "from sklearn.feature_extraction.text import TfidfVectorizer\n",
    "\n",
    "vectorizer = TfidfVectorizer()\n",
    "response = vectorizer.fit_transform(corpus)\n",
    "\n",
    "tokens = pd.DataFrame(\n",
    "    data=[[idx, token] for idx, token in enumerate(vectorizer.get_feature_names())],\n",
    "    columns=[\"idx_token\", \"token\"]\n",
    ")\n",
    "\n",
    "tokens"
   ]
  },
  {
   "cell_type": "markdown",
   "id": "86178ca4",
   "metadata": {
    "hide_input": true,
    "slideshow": {
     "slide_type": "subslide"
    }
   },
   "source": [
    "## TF-IDF Table"
   ]
  },
  {
   "cell_type": "code",
   "execution_count": 5,
   "id": "d06f37b6",
   "metadata": {
    "ExecuteTime": {
     "end_time": "2022-03-01T13:36:39.597957Z",
     "start_time": "2022-03-01T13:36:39.535252Z"
    },
    "hide_input": false,
    "scrolled": false
   },
   "outputs": [
    {
     "data": {
      "text/html": [
       "<div>\n",
       "<style scoped>\n",
       "    .dataframe tbody tr th:only-of-type {\n",
       "        vertical-align: middle;\n",
       "    }\n",
       "\n",
       "    .dataframe tbody tr th {\n",
       "        vertical-align: top;\n",
       "    }\n",
       "\n",
       "    .dataframe thead th {\n",
       "        text-align: right;\n",
       "    }\n",
       "</style>\n",
       "<table border=\"1\" class=\"dataframe\">\n",
       "  <thead>\n",
       "    <tr style=\"text-align: right;\">\n",
       "      <th></th>\n",
       "      <th>idx_doc</th>\n",
       "      <th>idx_token</th>\n",
       "      <th>tf_idf</th>\n",
       "    </tr>\n",
       "  </thead>\n",
       "  <tbody>\n",
       "    <tr>\n",
       "      <th>0</th>\n",
       "      <td>0</td>\n",
       "      <td>1</td>\n",
       "      <td>0.6928236190934441</td>\n",
       "    </tr>\n",
       "    <tr>\n",
       "      <th>1</th>\n",
       "      <td>0</td>\n",
       "      <td>6</td>\n",
       "      <td>0.4639920522561333</td>\n",
       "    </tr>\n",
       "    <tr>\n",
       "      <th>2</th>\n",
       "      <td>0</td>\n",
       "      <td>10</td>\n",
       "      <td>0.39032474189410776</td>\n",
       "    </tr>\n",
       "    <tr>\n",
       "      <th>3</th>\n",
       "      <td>0</td>\n",
       "      <td>9</td>\n",
       "      <td>0.39032474189410776</td>\n",
       "    </tr>\n",
       "    <tr>\n",
       "      <th>4</th>\n",
       "      <td>1</td>\n",
       "      <td>2</td>\n",
       "      <td>0.8870672547201419</td>\n",
       "    </tr>\n",
       "    <tr>\n",
       "      <th>5</th>\n",
       "      <td>1</td>\n",
       "      <td>6</td>\n",
       "      <td>0.29703963942899264</td>\n",
       "    </tr>\n",
       "    <tr>\n",
       "      <th>6</th>\n",
       "      <td>1</td>\n",
       "      <td>10</td>\n",
       "      <td>0.2498791089818884</td>\n",
       "    </tr>\n",
       "    <tr>\n",
       "      <th>7</th>\n",
       "      <td>1</td>\n",
       "      <td>9</td>\n",
       "      <td>0.2498791089818884</td>\n",
       "    </tr>\n",
       "    <tr>\n",
       "      <th>8</th>\n",
       "      <td>2</td>\n",
       "      <td>4</td>\n",
       "      <td>0.5694966280887995</td>\n",
       "    </tr>\n",
       "    <tr>\n",
       "      <th>9</th>\n",
       "      <td>2</td>\n",
       "      <td>7</td>\n",
       "      <td>0.5694966280887995</td>\n",
       "    </tr>\n",
       "    <tr>\n",
       "      <th>10</th>\n",
       "      <td>2</td>\n",
       "      <td>6</td>\n",
       "      <td>0.38139852905942934</td>\n",
       "    </tr>\n",
       "    <tr>\n",
       "      <th>11</th>\n",
       "      <td>2</td>\n",
       "      <td>10</td>\n",
       "      <td>0.32084446638696984</td>\n",
       "    </tr>\n",
       "    <tr>\n",
       "      <th>12</th>\n",
       "      <td>2</td>\n",
       "      <td>9</td>\n",
       "      <td>0.32084446638696984</td>\n",
       "    </tr>\n",
       "    <tr>\n",
       "      <th>13</th>\n",
       "      <td>3</td>\n",
       "      <td>5</td>\n",
       "      <td>0.498511878090309</td>\n",
       "    </tr>\n",
       "    <tr>\n",
       "      <th>14</th>\n",
       "      <td>3</td>\n",
       "      <td>8</td>\n",
       "      <td>0.498511878090309</td>\n",
       "    </tr>\n",
       "    <tr>\n",
       "      <th>15</th>\n",
       "      <td>3</td>\n",
       "      <td>11</td>\n",
       "      <td>0.6178926235233461</td>\n",
       "    </tr>\n",
       "    <tr>\n",
       "      <th>16</th>\n",
       "      <td>3</td>\n",
       "      <td>9</td>\n",
       "      <td>0.348109926030819</td>\n",
       "    </tr>\n",
       "    <tr>\n",
       "      <th>17</th>\n",
       "      <td>4</td>\n",
       "      <td>0</td>\n",
       "      <td>0.46528077621032954</td>\n",
       "    </tr>\n",
       "    <tr>\n",
       "      <th>18</th>\n",
       "      <td>4</td>\n",
       "      <td>3</td>\n",
       "      <td>0.46528077621032954</td>\n",
       "    </tr>\n",
       "    <tr>\n",
       "      <th>19</th>\n",
       "      <td>4</td>\n",
       "      <td>12</td>\n",
       "      <td>0.46528077621032954</td>\n",
       "    </tr>\n",
       "    <tr>\n",
       "      <th>20</th>\n",
       "      <td>4</td>\n",
       "      <td>5</td>\n",
       "      <td>0.3753856006004972</td>\n",
       "    </tr>\n",
       "    <tr>\n",
       "      <th>21</th>\n",
       "      <td>4</td>\n",
       "      <td>8</td>\n",
       "      <td>0.3753856006004972</td>\n",
       "    </tr>\n",
       "    <tr>\n",
       "      <th>22</th>\n",
       "      <td>4</td>\n",
       "      <td>10</td>\n",
       "      <td>0.26213107330293306</td>\n",
       "    </tr>\n",
       "  </tbody>\n",
       "</table>\n",
       "</div>"
      ],
      "text/plain": [
       "   idx_doc idx_token               tf_idf\n",
       "0        0         1   0.6928236190934441\n",
       "1        0         6   0.4639920522561333\n",
       "2        0        10  0.39032474189410776\n",
       "3        0         9  0.39032474189410776\n",
       "4        1         2   0.8870672547201419\n",
       "5        1         6  0.29703963942899264\n",
       "6        1        10   0.2498791089818884\n",
       "7        1         9   0.2498791089818884\n",
       "8        2         4   0.5694966280887995\n",
       "9        2         7   0.5694966280887995\n",
       "10       2         6  0.38139852905942934\n",
       "11       2        10  0.32084446638696984\n",
       "12       2         9  0.32084446638696984\n",
       "13       3         5    0.498511878090309\n",
       "14       3         8    0.498511878090309\n",
       "15       3        11   0.6178926235233461\n",
       "16       3         9    0.348109926030819\n",
       "17       4         0  0.46528077621032954\n",
       "18       4         3  0.46528077621032954\n",
       "19       4        12  0.46528077621032954\n",
       "20       4         5   0.3753856006004972\n",
       "21       4         8   0.3753856006004972\n",
       "22       4        10  0.26213107330293306"
      ]
     },
     "execution_count": 5,
     "metadata": {},
     "output_type": "execute_result"
    }
   ],
   "source": [
    "tf_idf = str(response).split(\"\\n\")\n",
    "tf_idf = [data.strip() for data in tf_idf]\n",
    "tf_idf = [data.replace(\"(\", \"\") for data in tf_idf]\n",
    "tf_idf = [data.replace(\")\", \"\") for data in tf_idf]\n",
    "tf_idf = [data.replace(\" \", \"\") for data in tf_idf]\n",
    "tf_idf = [data.replace(\"\\t\", \",\") for data in tf_idf]\n",
    "tf_idf = [data.split(\",\") for data in tf_idf]\n",
    "\n",
    "pd.DataFrame(\n",
    "    data=tf_idf,\n",
    "    columns=[\"idx_doc\", \"idx_token\", \"tf_idf\"]\n",
    ")"
   ]
  },
  {
   "cell_type": "code",
   "execution_count": 6,
   "id": "e0b9cfa3",
   "metadata": {
    "ExecuteTime": {
     "end_time": "2022-03-01T13:36:39.639853Z",
     "start_time": "2022-03-01T13:36:39.604611Z"
    },
    "hide_input": false,
    "slideshow": {
     "slide_type": "subslide"
    }
   },
   "outputs": [
    {
     "data": {
      "text/html": [
       "<div>\n",
       "<style scoped>\n",
       "    .dataframe tbody tr th:only-of-type {\n",
       "        vertical-align: middle;\n",
       "    }\n",
       "\n",
       "    .dataframe tbody tr th {\n",
       "        vertical-align: top;\n",
       "    }\n",
       "\n",
       "    .dataframe thead th {\n",
       "        text-align: right;\n",
       "    }\n",
       "</style>\n",
       "<table border=\"1\" class=\"dataframe\">\n",
       "  <thead>\n",
       "    <tr style=\"text-align: right;\">\n",
       "      <th></th>\n",
       "      <th>D1</th>\n",
       "      <th>D2</th>\n",
       "      <th>D3</th>\n",
       "      <th>D4</th>\n",
       "      <th>D5</th>\n",
       "    </tr>\n",
       "  </thead>\n",
       "  <tbody>\n",
       "    <tr>\n",
       "      <th>aku</th>\n",
       "      <td>0.000000</td>\n",
       "      <td>0.000000</td>\n",
       "      <td>0.000000</td>\n",
       "      <td>0.000000</td>\n",
       "      <td>0.465281</td>\n",
       "    </tr>\n",
       "    <tr>\n",
       "      <th>bakso</th>\n",
       "      <td>0.692824</td>\n",
       "      <td>0.000000</td>\n",
       "      <td>0.000000</td>\n",
       "      <td>0.000000</td>\n",
       "      <td>0.000000</td>\n",
       "    </tr>\n",
       "    <tr>\n",
       "      <th>gado</th>\n",
       "      <td>0.000000</td>\n",
       "      <td>0.887067</td>\n",
       "      <td>0.000000</td>\n",
       "      <td>0.000000</td>\n",
       "      <td>0.000000</td>\n",
       "    </tr>\n",
       "    <tr>\n",
       "      <th>gak</th>\n",
       "      <td>0.000000</td>\n",
       "      <td>0.000000</td>\n",
       "      <td>0.000000</td>\n",
       "      <td>0.000000</td>\n",
       "      <td>0.465281</td>\n",
       "    </tr>\n",
       "    <tr>\n",
       "      <th>ijo</th>\n",
       "      <td>0.000000</td>\n",
       "      <td>0.000000</td>\n",
       "      <td>0.569497</td>\n",
       "      <td>0.000000</td>\n",
       "      <td>0.000000</td>\n",
       "    </tr>\n",
       "    <tr>\n",
       "      <th>kamu</th>\n",
       "      <td>0.000000</td>\n",
       "      <td>0.000000</td>\n",
       "      <td>0.000000</td>\n",
       "      <td>0.498512</td>\n",
       "      <td>0.375386</td>\n",
       "    </tr>\n",
       "    <tr>\n",
       "      <th>makan</th>\n",
       "      <td>0.463992</td>\n",
       "      <td>0.297040</td>\n",
       "      <td>0.381399</td>\n",
       "      <td>0.000000</td>\n",
       "      <td>0.000000</td>\n",
       "    </tr>\n",
       "    <tr>\n",
       "      <th>pisang</th>\n",
       "      <td>0.000000</td>\n",
       "      <td>0.000000</td>\n",
       "      <td>0.569497</td>\n",
       "      <td>0.000000</td>\n",
       "      <td>0.000000</td>\n",
       "    </tr>\n",
       "    <tr>\n",
       "      <th>sama</th>\n",
       "      <td>0.000000</td>\n",
       "      <td>0.000000</td>\n",
       "      <td>0.000000</td>\n",
       "      <td>0.498512</td>\n",
       "      <td>0.375386</td>\n",
       "    </tr>\n",
       "    <tr>\n",
       "      <th>saya</th>\n",
       "      <td>0.390325</td>\n",
       "      <td>0.249879</td>\n",
       "      <td>0.320844</td>\n",
       "      <td>0.348110</td>\n",
       "      <td>0.000000</td>\n",
       "    </tr>\n",
       "    <tr>\n",
       "      <th>suka</th>\n",
       "      <td>0.390325</td>\n",
       "      <td>0.249879</td>\n",
       "      <td>0.320844</td>\n",
       "      <td>0.000000</td>\n",
       "      <td>0.262131</td>\n",
       "    </tr>\n",
       "    <tr>\n",
       "      <th>sukanya</th>\n",
       "      <td>0.000000</td>\n",
       "      <td>0.000000</td>\n",
       "      <td>0.000000</td>\n",
       "      <td>0.617893</td>\n",
       "      <td>0.000000</td>\n",
       "    </tr>\n",
       "    <tr>\n",
       "      <th>tapi</th>\n",
       "      <td>0.000000</td>\n",
       "      <td>0.000000</td>\n",
       "      <td>0.000000</td>\n",
       "      <td>0.000000</td>\n",
       "      <td>0.465281</td>\n",
       "    </tr>\n",
       "  </tbody>\n",
       "</table>\n",
       "</div>"
      ],
      "text/plain": [
       "               D1        D2        D3        D4        D5\n",
       "aku      0.000000  0.000000  0.000000  0.000000  0.465281\n",
       "bakso    0.692824  0.000000  0.000000  0.000000  0.000000\n",
       "gado     0.000000  0.887067  0.000000  0.000000  0.000000\n",
       "gak      0.000000  0.000000  0.000000  0.000000  0.465281\n",
       "ijo      0.000000  0.000000  0.569497  0.000000  0.000000\n",
       "kamu     0.000000  0.000000  0.000000  0.498512  0.375386\n",
       "makan    0.463992  0.297040  0.381399  0.000000  0.000000\n",
       "pisang   0.000000  0.000000  0.569497  0.000000  0.000000\n",
       "sama     0.000000  0.000000  0.000000  0.498512  0.375386\n",
       "saya     0.390325  0.249879  0.320844  0.348110  0.000000\n",
       "suka     0.390325  0.249879  0.320844  0.000000  0.262131\n",
       "sukanya  0.000000  0.000000  0.000000  0.617893  0.000000\n",
       "tapi     0.000000  0.000000  0.000000  0.000000  0.465281"
      ]
     },
     "execution_count": 6,
     "metadata": {},
     "output_type": "execute_result"
    }
   ],
   "source": [
    "tf_idf_df = pd.DataFrame(\n",
    "    data=response.todense().T,\n",
    "    index=vectorizer.get_feature_names(),\n",
    "    columns=[f\"D{i+1}\" for i in range(len(corpus))]\n",
    ")\n",
    "\n",
    "tf_idf_df"
   ]
  }
 ],
 "metadata": {
  "celltoolbar": "Slideshow",
  "kernelspec": {
   "display_name": "Python 3 (ipykernel)",
   "language": "python",
   "name": "python3"
  },
  "language_info": {
   "codemirror_mode": {
    "name": "ipython",
    "version": 3
   },
   "file_extension": ".py",
   "mimetype": "text/x-python",
   "name": "python",
   "nbconvert_exporter": "python",
   "pygments_lexer": "ipython3",
   "version": "3.8.12"
  },
  "nbTranslate": {
   "displayLangs": [
    "*"
   ],
   "hotkey": "alt-t",
   "langInMainMenu": true,
   "sourceLang": "en",
   "targetLang": "fr",
   "useGoogleTranslate": true
  },
  "toc": {
   "base_numbering": 1,
   "nav_menu": {},
   "number_sections": true,
   "sideBar": true,
   "skip_h1_title": false,
   "title_cell": "Table of Contents",
   "title_sidebar": "Contents",
   "toc_cell": false,
   "toc_position": {},
   "toc_section_display": true,
   "toc_window_display": false
  }
 },
 "nbformat": 4,
 "nbformat_minor": 5
}
