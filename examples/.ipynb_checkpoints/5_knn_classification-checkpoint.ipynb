{
 "cells": [
  {
   "cell_type": "markdown",
   "id": "af40e7d4",
   "metadata": {
    "slideshow": {
     "slide_type": "slide"
    }
   },
   "source": [
    "<img src=\"../images/jomblo.png\" width=400 />"
   ]
  },
  {
   "cell_type": "markdown",
   "id": "d3c3a8f1",
   "metadata": {
    "slideshow": {
     "slide_type": "slide"
    }
   },
   "source": [
    "# Objective\n",
    "Menentukan status seseorang apakah jomblo atau pacaran berdasarkan jumlah mantan dan tinggi badan."
   ]
  },
  {
   "cell_type": "markdown",
   "id": "cfba3411",
   "metadata": {
    "slideshow": {
     "slide_type": "slide"
    }
   },
   "source": [
    "# Sample Dataset"
   ]
  },
  {
   "cell_type": "code",
   "execution_count": 1,
   "id": "a7ec0647",
   "metadata": {
    "ExecuteTime": {
     "end_time": "2022-02-22T03:01:51.691028Z",
     "start_time": "2022-02-22T03:01:50.360182Z"
    }
   },
   "outputs": [
    {
     "data": {
      "text/html": [
       "<div>\n",
       "<style scoped>\n",
       "    .dataframe tbody tr th:only-of-type {\n",
       "        vertical-align: middle;\n",
       "    }\n",
       "\n",
       "    .dataframe tbody tr th {\n",
       "        vertical-align: top;\n",
       "    }\n",
       "\n",
       "    .dataframe thead th {\n",
       "        text-align: right;\n",
       "    }\n",
       "</style>\n",
       "<table border=\"1\" class=\"dataframe\">\n",
       "  <thead>\n",
       "    <tr style=\"text-align: right;\">\n",
       "      <th></th>\n",
       "      <th>tinggi</th>\n",
       "      <th>mantan</th>\n",
       "      <th>status</th>\n",
       "    </tr>\n",
       "  </thead>\n",
       "  <tbody>\n",
       "    <tr>\n",
       "      <th>0</th>\n",
       "      <td>158</td>\n",
       "      <td>3</td>\n",
       "      <td>jomblo</td>\n",
       "    </tr>\n",
       "    <tr>\n",
       "      <th>1</th>\n",
       "      <td>170</td>\n",
       "      <td>6</td>\n",
       "      <td>jomblo</td>\n",
       "    </tr>\n",
       "    <tr>\n",
       "      <th>2</th>\n",
       "      <td>183</td>\n",
       "      <td>1</td>\n",
       "      <td>pacaran</td>\n",
       "    </tr>\n",
       "    <tr>\n",
       "      <th>3</th>\n",
       "      <td>155</td>\n",
       "      <td>5</td>\n",
       "      <td>pacaran</td>\n",
       "    </tr>\n",
       "    <tr>\n",
       "      <th>4</th>\n",
       "      <td>163</td>\n",
       "      <td>10</td>\n",
       "      <td>jomblo</td>\n",
       "    </tr>\n",
       "    <tr>\n",
       "      <th>5</th>\n",
       "      <td>180</td>\n",
       "      <td>2</td>\n",
       "      <td>pacaran</td>\n",
       "    </tr>\n",
       "    <tr>\n",
       "      <th>6</th>\n",
       "      <td>158</td>\n",
       "      <td>2</td>\n",
       "      <td>jomblo</td>\n",
       "    </tr>\n",
       "    <tr>\n",
       "      <th>7</th>\n",
       "      <td>178</td>\n",
       "      <td>7</td>\n",
       "      <td>pacaran</td>\n",
       "    </tr>\n",
       "  </tbody>\n",
       "</table>\n",
       "</div>"
      ],
      "text/plain": [
       "   tinggi  mantan   status\n",
       "0     158       3   jomblo\n",
       "1     170       6   jomblo\n",
       "2     183       1  pacaran\n",
       "3     155       5  pacaran\n",
       "4     163      10   jomblo\n",
       "5     180       2  pacaran\n",
       "6     158       2   jomblo\n",
       "7     178       7  pacaran"
      ]
     },
     "execution_count": 1,
     "metadata": {},
     "output_type": "execute_result"
    }
   ],
   "source": [
    "import pandas as pd\n",
    "\n",
    "status = {\n",
    "    \"tinggi\": [158, 170, 183, 155, 163, 180, 158, 178],\n",
    "    \"mantan\": [3, 6, 1, 5, 10, 2, 2, 7],\n",
    "    \"status\": [\"jomblo\", \"jomblo\", \"pacaran\", \"pacaran\", \"jomblo\", \"pacaran\", \"jomblo\", \"pacaran\"]\n",
    "}\n",
    "\n",
    "status_df = pd.DataFrame(status)\n",
    "status_df"
   ]
  },
  {
   "cell_type": "markdown",
   "id": "0ed14916",
   "metadata": {
    "ExecuteTime": {
     "end_time": "2022-02-14T00:21:26.306113Z",
     "start_time": "2022-02-14T00:21:26.290957Z"
    },
    "slideshow": {
     "slide_type": "slide"
    }
   },
   "source": [
    "# Visualize Data"
   ]
  },
  {
   "cell_type": "code",
   "execution_count": null,
   "id": "88206df7",
   "metadata": {
    "ExecuteTime": {
     "start_time": "2022-02-22T03:01:50.451Z"
    }
   },
   "outputs": [],
   "source": [
    "import matplotlib.pyplot as plt\n",
    "\n",
    "fig, ax = plt.subplots()\n",
    "for status, data in status_df.groupby('status'):\n",
    "    ax.scatter(data[\"tinggi\"], data[\"mantan\"], label=status)\n",
    "    \n",
    "plt.legend(loc='upper left')\n",
    "plt.xlim(140, 190)\n",
    "plt.ylim(0, 12)\n",
    "plt.title(\"Sebaran Data Tinggi Badan, Jumlah Mantan dan Status\")\n",
    "plt.xlabel(\"Tinggi Badan (cm)\")\n",
    "plt.ylabel(\"Jumlah Mantan\")\n",
    "plt.grid(True)\n",
    "plt.show()"
   ]
  },
  {
   "cell_type": "markdown",
   "id": "c214d64a",
   "metadata": {
    "slideshow": {
     "slide_type": "slide"
    }
   },
   "source": [
    "# Preprocessing Dataset"
   ]
  },
  {
   "cell_type": "markdown",
   "id": "ca6e9242",
   "metadata": {},
   "source": [
    "## Split features and target"
   ]
  },
  {
   "cell_type": "code",
   "execution_count": null,
   "id": "5bd31a8f",
   "metadata": {
    "ExecuteTime": {
     "start_time": "2022-02-22T03:01:50.557Z"
    }
   },
   "outputs": [],
   "source": [
    "import numpy as np\n",
    "\n",
    "X_train = np.array(status_df[[\"tinggi\", \"mantan\"]])\n",
    "y_train = np.array(status_df[\"status\"])\n",
    "\n",
    "print(f\"X_train:\\n{X_train}\\n\")\n",
    "print(f\"y_train:\\n{y_train}\")"
   ]
  },
  {
   "cell_type": "markdown",
   "id": "411051f2",
   "metadata": {
    "slideshow": {
     "slide_type": "subslide"
    }
   },
   "source": [
    "## Label Binarizer"
   ]
  },
  {
   "cell_type": "code",
   "execution_count": null,
   "id": "c2db6ac0",
   "metadata": {
    "ExecuteTime": {
     "start_time": "2022-02-22T03:01:50.641Z"
    }
   },
   "outputs": [],
   "source": [
    "from sklearn.preprocessing import LabelBinarizer\n",
    "\n",
    "binarizer = LabelBinarizer()\n",
    "y_train = binarizer.fit_transform(y_train)\n",
    "print(f\"New y_train:\\n{y_train}\")"
   ]
  },
  {
   "cell_type": "code",
   "execution_count": null,
   "id": "8ccde1ca",
   "metadata": {
    "ExecuteTime": {
     "start_time": "2022-02-22T03:01:50.713Z"
    }
   },
   "outputs": [],
   "source": [
    "y_train = y_train.flatten()"
   ]
  },
  {
   "cell_type": "markdown",
   "id": "fbd469c7",
   "metadata": {
    "slideshow": {
     "slide_type": "slide"
    }
   },
   "source": [
    "# KNN (K-Nearest Neighbors) Classification Model\n",
    "- Melakukan klasifikasi dengan cara menghitung *distance* antara *datapoint* baru dengan *datapoint-datapoint* terdekat yang ada disekitar *datapoint* yang diprediksi kelasnya.\n",
    "- Salah satu cara menghitung *distance* dapat menggunakan *Euclidean Distance*.\n",
    "- Jumlah tetangga (*neighbors*) terdekat yang dihitung ditentukan sebelumnya.\n",
    "- Setelah itu divoting untuk menentukan *datapoint* baru masuk ke kelas yang mana."
   ]
  },
  {
   "cell_type": "markdown",
   "id": "0ab87c0b",
   "metadata": {},
   "source": [
    "## Train Model"
   ]
  },
  {
   "cell_type": "code",
   "execution_count": null,
   "id": "6db3a927",
   "metadata": {
    "ExecuteTime": {
     "start_time": "2022-02-22T03:01:50.836Z"
    }
   },
   "outputs": [],
   "source": [
    "from sklearn.neighbors import KNeighborsClassifier\n",
    "\n",
    "K = 3\n",
    "knn_model = KNeighborsClassifier(n_neighbors=K)\n",
    "knn_model.fit(X_train, y_train);"
   ]
  },
  {
   "cell_type": "markdown",
   "id": "d0c94ad9",
   "metadata": {
    "slideshow": {
     "slide_type": "subslide"
    }
   },
   "source": [
    "## Predict with Trained Model"
   ]
  },
  {
   "cell_type": "code",
   "execution_count": null,
   "id": "26e5c13d",
   "metadata": {
    "ExecuteTime": {
     "start_time": "2022-02-22T03:01:50.934Z"
    }
   },
   "outputs": [],
   "source": [
    "tinggi_badan_gebetan = 170\n",
    "jumlah_mantan_gebetan = 1\n",
    "\n",
    "tinggi_badan_aku = 165\n",
    "jumlah_mantan_aku = 1 \n",
    "\n",
    "X_new = np.array([[tinggi_badan_gebetan, jumlah_mantan_gebetan],\n",
    "                  [tinggi_badan_aku, jumlah_mantan_aku]])\n",
    "X_new"
   ]
  },
  {
   "cell_type": "code",
   "execution_count": null,
   "id": "281a228a",
   "metadata": {
    "ExecuteTime": {
     "start_time": "2022-02-22T03:01:51.007Z"
    }
   },
   "outputs": [],
   "source": [
    "y_new = knn_model.predict(X_new)\n",
    "y_new"
   ]
  },
  {
   "cell_type": "code",
   "execution_count": null,
   "id": "0fb5a8ca",
   "metadata": {
    "ExecuteTime": {
     "start_time": "2022-02-22T03:01:51.072Z"
    }
   },
   "outputs": [],
   "source": [
    "binarizer.inverse_transform(y_new)"
   ]
  },
  {
   "cell_type": "markdown",
   "id": "e958a8b6",
   "metadata": {
    "slideshow": {
     "slide_type": "subslide"
    }
   },
   "source": [
    "## Visualize KNN Model"
   ]
  },
  {
   "cell_type": "code",
   "execution_count": null,
   "id": "621472ec",
   "metadata": {
    "ExecuteTime": {
     "start_time": "2022-02-22T03:01:51.177Z"
    }
   },
   "outputs": [],
   "source": [
    "import matplotlib.pyplot as plt\n",
    "\n",
    "fig, ax = plt.subplots()\n",
    "for status, data in status_df.groupby('status'):\n",
    "    ax.scatter(data[\"tinggi\"], data[\"mantan\"], label=status)\n",
    "\n",
    "plt.scatter(tinggi_badan_aku,\n",
    "            jumlah_mantan_aku,\n",
    "            marker=\"^\",\n",
    "            color=\"green\",\n",
    "            label=\"aku (jomblo)\")\n",
    "\n",
    "plt.text(tinggi_badan_aku, jumlah_mantan_aku, 'aku', horizontalalignment='right')\n",
    "\n",
    "plt.scatter(tinggi_badan_gebetan,\n",
    "            jumlah_mantan_gebetan,\n",
    "            marker=\"s\",\n",
    "            color=\"yellow\",\n",
    "            label=\"gebetan (pacaran)\")\n",
    "\n",
    "plt.text(tinggi_badan_gebetan, jumlah_mantan_gebetan, 'gebetan')\n",
    "\n",
    "\n",
    "plt.legend(loc='upper left')\n",
    "plt.xlim(140, 190)\n",
    "plt.ylim(0, 12)\n",
    "plt.title(\"Sebaran Data Tinggi Badan, Jumlah Mantan dan Status\")\n",
    "plt.xlabel(\"Tinggi Badan (cm)\")\n",
    "plt.ylabel(\"Jumlah Mantan\")\n",
    "plt.grid(True)\n",
    "plt.show()"
   ]
  },
  {
   "cell_type": "markdown",
   "id": "90341e3d",
   "metadata": {
    "slideshow": {
     "slide_type": "subslide"
    }
   },
   "source": [
    "## Distance Calculation (Euclidean Distance)\n",
    "$distance = \\sqrt{(t_1 - t_2)^2 + (b_1 - b_2)^2}$"
   ]
  },
  {
   "cell_type": "markdown",
   "id": "894475a5",
   "metadata": {
    "ExecuteTime": {
     "end_time": "2022-02-14T01:04:01.004383Z",
     "start_time": "2022-02-14T01:04:00.990055Z"
    }
   },
   "source": [
    "### Aku"
   ]
  },
  {
   "cell_type": "code",
   "execution_count": null,
   "id": "504834ca",
   "metadata": {
    "ExecuteTime": {
     "start_time": "2022-02-22T03:01:51.272Z"
    }
   },
   "outputs": [],
   "source": [
    "aku = np.array([tinggi_badan_aku, jumlah_mantan_aku])\n",
    "aku"
   ]
  },
  {
   "cell_type": "code",
   "execution_count": null,
   "id": "0652f0ea",
   "metadata": {
    "ExecuteTime": {
     "start_time": "2022-02-22T03:01:51.334Z"
    }
   },
   "outputs": [],
   "source": [
    "from scipy.spatial.distance import euclidean\n",
    "\n",
    "distance_aku = [euclidean(aku, d) for d in X_train]\n",
    "distance_aku"
   ]
  },
  {
   "cell_type": "code",
   "execution_count": null,
   "id": "a3dfd00a",
   "metadata": {
    "ExecuteTime": {
     "start_time": "2022-02-22T03:01:51.400Z"
    }
   },
   "outputs": [],
   "source": [
    "status_df[\"distance\"] = distance_aku\n",
    "status_df.sort_values([\"distance\"])"
   ]
  },
  {
   "cell_type": "markdown",
   "id": "de647a17",
   "metadata": {},
   "source": [
    "### Gebetan"
   ]
  },
  {
   "cell_type": "code",
   "execution_count": null,
   "id": "a81d80a3",
   "metadata": {
    "ExecuteTime": {
     "start_time": "2022-02-22T03:01:51.518Z"
    }
   },
   "outputs": [],
   "source": [
    "gebetan = np.array([tinggi_badan_gebetan, jumlah_mantan_gebetan])\n",
    "gebetan"
   ]
  },
  {
   "cell_type": "code",
   "execution_count": null,
   "id": "217dd9d9",
   "metadata": {
    "ExecuteTime": {
     "start_time": "2022-02-22T03:01:51.598Z"
    }
   },
   "outputs": [],
   "source": [
    "distance_gebetan = [euclidean(gebetan, d) for d in X_train]\n",
    "distance_gebetan"
   ]
  },
  {
   "cell_type": "code",
   "execution_count": null,
   "id": "587e359a",
   "metadata": {
    "ExecuteTime": {
     "start_time": "2022-02-22T03:01:51.670Z"
    }
   },
   "outputs": [],
   "source": [
    "status_df[\"distance\"] = distance_gebetan\n",
    "status_df.sort_values([\"distance\"])"
   ]
  },
  {
   "cell_type": "markdown",
   "id": "fa04c571",
   "metadata": {
    "slideshow": {
     "slide_type": "slide"
    }
   },
   "source": [
    "# Evaluate Model"
   ]
  },
  {
   "cell_type": "markdown",
   "id": "d91d0df1",
   "metadata": {},
   "source": [
    "## Testing Set"
   ]
  },
  {
   "cell_type": "code",
   "execution_count": null,
   "id": "b13ed517",
   "metadata": {
    "ExecuteTime": {
     "start_time": "2022-02-22T03:01:51.747Z"
    }
   },
   "outputs": [],
   "source": [
    "X_test = np.array([[150, 1],\n",
    "                  [167, 4],\n",
    "                  [180, 2],\n",
    "                  [155, 5]])\n",
    "\n",
    "y_test = np.array([\"jomblo\", \"pacaran\", \"pacaran\", \"jomblo\"])\n",
    "y_test = binarizer.fit_transform(y_test)\n",
    "print(f\"X_test:\\n{X_test}\\n\")\n",
    "print(f\"y_test:\\n{y_test}\")"
   ]
  },
  {
   "cell_type": "markdown",
   "id": "6a7ce74b",
   "metadata": {
    "slideshow": {
     "slide_type": "subslide"
    }
   },
   "source": [
    "## Predict with test dataset"
   ]
  },
  {
   "cell_type": "code",
   "execution_count": null,
   "id": "8952e600",
   "metadata": {
    "ExecuteTime": {
     "start_time": "2022-02-22T03:01:51.818Z"
    }
   },
   "outputs": [],
   "source": [
    "y_pred = knn_model.predict(X_test)"
   ]
  },
  {
   "cell_type": "code",
   "execution_count": null,
   "id": "baf9f946",
   "metadata": {
    "ExecuteTime": {
     "start_time": "2022-02-22T03:01:51.868Z"
    }
   },
   "outputs": [],
   "source": [
    "y_pred"
   ]
  },
  {
   "cell_type": "code",
   "execution_count": null,
   "id": "76eb5caf",
   "metadata": {
    "ExecuteTime": {
     "start_time": "2022-02-22T03:01:51.919Z"
    }
   },
   "outputs": [],
   "source": [
    "binarizer.inverse_transform(y_pred)"
   ]
  },
  {
   "cell_type": "markdown",
   "id": "e8307911",
   "metadata": {
    "slideshow": {
     "slide_type": "slide"
    }
   },
   "source": [
    "# Metrics Evaluation"
   ]
  },
  {
   "cell_type": "markdown",
   "id": "40fe1abb",
   "metadata": {
    "slideshow": {
     "slide_type": "-"
    }
   },
   "source": [
    "## Confusion Matrix\n",
    "- Menjelaskan seberapa besar kebingungan modell dalam melakukan prediksi yang direpresentasikan dengan TP (*True Positive*), TN (*True Negative*), FP (*False Positive*), dan FN (*False Negative*).\n",
    "- *True Positive* adalah model memprediksi positif dan secara actual benar-benar positif. Prediksi model dengan keadaan sebenarnya sesuai dalam hal ini positif.\n",
    "- *True Negative* adalah model memprediksi negatif dan secara actual benar-benar negatif. Prediksi model dengan keadaan sebenarnya sesuai dalam hal ini negatif.\n",
    "- *False Positive* adalah model memprediksi positif, tetapi kenyatannya negatif. Prediksi model dengan keadaan sebenarnya tidak sesuai dalam hal ini seharusnya negatif.\n",
    "- *False Negative* adalah model memprediksi negatif, tetapi kenyatannya positif. Prediksi model dengan keadaan sebenarnya tidak sesuai dalam hal ini seharusnya positif."
   ]
  },
  {
   "cell_type": "code",
   "execution_count": null,
   "id": "02c38061",
   "metadata": {
    "ExecuteTime": {
     "start_time": "2022-02-22T03:01:52.029Z"
    }
   },
   "outputs": [],
   "source": [
    "from sklearn.metrics import confusion_matrix, ConfusionMatrixDisplay\n",
    "\n",
    "confusion_matrix = confusion_matrix(y_test, y_pred)\n",
    "print(f\"- FP (True Positive)  : {confusion_matrix[1, 1]}\")\n",
    "print(f\"- FP (False Positive) : {confusion_matrix[0, 1]}\")\n",
    "print(f\"- TN (True Negative)  : {confusion_matrix[0, 0]}\")\n",
    "print(f\"- FN (False Negative) : {confusion_matrix[1, 0]}\")"
   ]
  },
  {
   "cell_type": "code",
   "execution_count": null,
   "id": "a30cc031",
   "metadata": {
    "ExecuteTime": {
     "start_time": "2022-02-22T03:01:52.138Z"
    }
   },
   "outputs": [],
   "source": [
    "disp = ConfusionMatrixDisplay(confusion_matrix=confusion_matrix, display_labels=knn_model.classes_)\n",
    "disp.plot()\n",
    "plt.xlabel(\"Predict\")\n",
    "plt.ylabel(\"Actual\")\n",
    "plt.xticks([0, 1], [\"Jomblo\", \"Pacaran\"])\n",
    "plt.yticks([0, 1], [\"Jomblo\", \"Pacaran\"])\n",
    "plt.show()"
   ]
  },
  {
   "cell_type": "markdown",
   "id": "0cb3273d",
   "metadata": {
    "slideshow": {
     "slide_type": "subslide"
    }
   },
   "source": [
    "## Accuracy\n",
    "- *Accuracy* adalah persentase model memprediksi dengan benar untuk setiap kelas.\n",
    "- Kekurangan: apabila jumlah *dataset* setiap *class* tidak seimbang, maka hasil akurasi tidak adil.\n",
    "\n",
    "- $accuracy = \\frac{TP\\ +\\ TN}{TP\\ +\\ TN\\ +\\ FP\\ +\\ FN}$"
   ]
  },
  {
   "cell_type": "code",
   "execution_count": null,
   "id": "171e127a",
   "metadata": {
    "ExecuteTime": {
     "start_time": "2022-02-22T03:01:52.255Z"
    }
   },
   "outputs": [],
   "source": [
    "from sklearn.metrics import accuracy_score\n",
    "\n",
    "accuracy = accuracy_score(y_test, y_pred)\n",
    "print(f\"Accuracy: {accuracy}\")"
   ]
  },
  {
   "cell_type": "markdown",
   "id": "8f6d3774",
   "metadata": {
    "slideshow": {
     "slide_type": "subslide"
    }
   },
   "source": [
    "## Precision\n",
    "- Dari data yang diprediksi positif, berapa banyak yang benar.\n",
    "- Digunakan apabila evaluasi fokus untuk menurunkan FP (*False Positive*).\n",
    "- $precision = \\frac{TP}{TP\\ +\\ FP}$"
   ]
  },
  {
   "cell_type": "code",
   "execution_count": null,
   "id": "3e8f7b61",
   "metadata": {
    "ExecuteTime": {
     "start_time": "2022-02-22T03:01:52.335Z"
    }
   },
   "outputs": [],
   "source": [
    "from sklearn.metrics import precision_score\n",
    "\n",
    "precision = precision_score(y_test, y_pred)\n",
    "print(f\"Precision: {precision}\")"
   ]
  },
  {
   "cell_type": "markdown",
   "id": "95e2a730",
   "metadata": {
    "slideshow": {
     "slide_type": "subslide"
    }
   },
   "source": [
    "## Recall\n",
    "- Istilah lainnya adalah *Sensitivity*.\n",
    "- Dari data yang berlabel positif, berapa banyak yang diprediksi benar oleh model.\n",
    "- Digunakan apabila evaluasi fokus untuk menurunkan FN (*False Negative*).\n",
    "- $recall = \\frac{TP}{TP\\ +\\ FN}$"
   ]
  },
  {
   "cell_type": "code",
   "execution_count": null,
   "id": "82836a76",
   "metadata": {
    "ExecuteTime": {
     "start_time": "2022-02-22T03:01:52.410Z"
    }
   },
   "outputs": [],
   "source": [
    "from sklearn.metrics import recall_score\n",
    "\n",
    "recall = recall_score(y_test, y_pred)\n",
    "print(f\"Precision: {recall}\")"
   ]
  },
  {
   "cell_type": "markdown",
   "id": "ec9f4f96",
   "metadata": {
    "slideshow": {
     "slide_type": "subslide"
    }
   },
   "source": [
    "## F1-Score\n",
    "- Nilai hramonik antara Precision dan Recall.\n",
    "- $F1 = 2 \\times \\frac{Precision\\ \\times\\ Recall}{Precision\\ +\\ Recall}$"
   ]
  },
  {
   "cell_type": "code",
   "execution_count": null,
   "id": "9f20f67b",
   "metadata": {
    "ExecuteTime": {
     "start_time": "2022-02-22T03:01:52.493Z"
    }
   },
   "outputs": [],
   "source": [
    "from sklearn.metrics import f1_score\n",
    "\n",
    "f1_score= f1_score(y_test, y_pred)\n",
    "print(f\"F1: {f1_score}\")"
   ]
  },
  {
   "cell_type": "markdown",
   "id": "62f55333",
   "metadata": {
    "slideshow": {
     "slide_type": "subslide"
    }
   },
   "source": [
    "## Classification Report\n",
    "Memaparkan laporan berupa metrik evaluasi dalam bentuk tabel. Informasi yang disajikan lebih lengkap untuk setiap *class* yang diprediksi."
   ]
  },
  {
   "cell_type": "code",
   "execution_count": null,
   "id": "7b3ac97e",
   "metadata": {
    "ExecuteTime": {
     "start_time": "2022-02-22T03:01:52.583Z"
    }
   },
   "outputs": [],
   "source": [
    "from sklearn.metrics import classification_report\n",
    "\n",
    "classification_report = classification_report(y_test, y_pred)\n",
    "print(f\"Classification Report:\\n{classification_report}\")"
   ]
  },
  {
   "cell_type": "markdown",
   "id": "ffcb112f",
   "metadata": {
    "slideshow": {
     "slide_type": "subslide"
    }
   },
   "source": [
    "## Matthews Correlation Coefficient (MCC)\n",
    "- Metrik evaluasi yang dikhususkan untuk kasus *binary* dan *multiclass classification*.\n",
    "- $MCC = \\frac{TP\\ \\times\\ TN\\ +\\ FP\\ \\times\\ FN}{ \\sqrt{ (TP\\ +\\ FP)\\ \\times\\ (TP\\ +\\ FN)\\ \\times\\ (TN\\ +\\ FP)\\ \\times\\ (TN\\ +\\ FN)}}$"
   ]
  },
  {
   "cell_type": "code",
   "execution_count": null,
   "id": "d5e06041",
   "metadata": {
    "ExecuteTime": {
     "start_time": "2022-02-22T03:01:52.640Z"
    }
   },
   "outputs": [],
   "source": [
    "from sklearn.metrics import matthews_corrcoef\n",
    "\n",
    "mcc = matthews_corrcoef(y_test, y_pred)\n",
    "print(f\"MCC: {mcc}\")"
   ]
  }
 ],
 "metadata": {
  "celltoolbar": "Slideshow",
  "kernelspec": {
   "display_name": "Python 3 (ipykernel)",
   "language": "python",
   "name": "python3"
  },
  "language_info": {
   "codemirror_mode": {
    "name": "ipython",
    "version": 3
   },
   "file_extension": ".py",
   "mimetype": "text/x-python",
   "name": "python",
   "nbconvert_exporter": "python",
   "pygments_lexer": "ipython3",
   "version": "3.8.12"
  },
  "nbTranslate": {
   "displayLangs": [
    "*"
   ],
   "hotkey": "alt-t",
   "langInMainMenu": true,
   "sourceLang": "en",
   "targetLang": "fr",
   "useGoogleTranslate": true
  },
  "toc": {
   "base_numbering": 1,
   "nav_menu": {},
   "number_sections": true,
   "sideBar": true,
   "skip_h1_title": false,
   "title_cell": "Table of Contents",
   "title_sidebar": "Contents",
   "toc_cell": false,
   "toc_position": {},
   "toc_section_display": true,
   "toc_window_display": true
  }
 },
 "nbformat": 4,
 "nbformat_minor": 5
}
