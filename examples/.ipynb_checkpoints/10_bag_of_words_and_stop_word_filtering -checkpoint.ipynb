{
 "cells": [
  {
   "cell_type": "markdown",
   "id": "4626f129",
   "metadata": {
    "slideshow": {
     "slide_type": "slide"
    }
   },
   "source": [
    "<img src=\"../images/gado-gado.jpg\" width=\"500\">\n",
    "<center>Gado-Gado<br>Salah satu makanan favorit <a href=\"https://haloapping.github.io/\">Apping</a></center>"
   ]
  },
  {
   "cell_type": "markdown",
   "id": "58d363d5",
   "metadata": {
    "slideshow": {
     "slide_type": "slide"
    }
   },
   "source": [
    "# Bag of Words\n",
    "\n",
    "- Menyederhanakan representasi teks menjadi kumpulan kata dengan mengabaikan *grammar* dan posisi kata pada kalimat. Teks akan dikonversi menjadi *lowercase* dan tanda baca diabaikan."
   ]
  },
  {
   "cell_type": "markdown",
   "id": "eae8c5b9",
   "metadata": {
    "slideshow": {
     "slide_type": "slide"
    }
   },
   "source": [
    "# Dataset\n",
    "\n",
    "- Corpus adalah isitilah dataset pada bidang NLP (*Natural Languange Processing*).\n",
    "- Biasanya berisi sekumpulan kalimat."
   ]
  },
  {
   "cell_type": "code",
   "execution_count": 1,
   "id": "e43c2001",
   "metadata": {
    "ExecuteTime": {
     "end_time": "2022-03-01T02:17:42.725724Z",
     "start_time": "2022-03-01T02:17:42.694290Z"
    }
   },
   "outputs": [
    {
     "data": {
      "text/plain": [
       "['Saya suka sama dia, tetapi dia tidak suka sama aku.',\n",
       " 'Akhirnya aku jomblo lagi.',\n",
       " 'Capek banget perjuangin kamu, tapi kamu gak perjuangin aku.']"
      ]
     },
     "execution_count": 1,
     "metadata": {},
     "output_type": "execute_result"
    }
   ],
   "source": [
    "corpus = [\n",
    "    \"Saya suka sama dia, tetapi dia tidak suka sama aku.\",\n",
    "    \"Akhirnya aku jomblo lagi.\",\n",
    "    \"Capek banget perjuangin kamu, tapi kamu gak perjuangin aku.\"\n",
    "]\n",
    "\n",
    "corpus"
   ]
  },
  {
   "cell_type": "markdown",
   "id": "131507e8",
   "metadata": {
    "ExecuteTime": {
     "end_time": "2022-03-01T00:57:51.618099Z",
     "start_time": "2022-03-01T00:57:51.590489Z"
    },
    "slideshow": {
     "slide_type": "slide"
    }
   },
   "source": [
    "# `CountVectorizer` pada ScikitLearn.\n",
    "\n",
    "- Untuk menerapkan Bag of Words, dapat digunakan kelas `CountVectorizer` pada ScikitLearn.\n",
    "- Dapat menggunakan *Frequency Vectors* atau *One Hot Vectors*."
   ]
  },
  {
   "cell_type": "markdown",
   "id": "f71a43ce",
   "metadata": {
    "slideshow": {
     "slide_type": "slide"
    }
   },
   "source": [
    "## Frequency Vectors\n",
    "\n",
    "- Mengubah sekumpulan kata dalam representasi matrix dengan menghitung frekuensi kemunculan untuk setiap token."
   ]
  },
  {
   "cell_type": "markdown",
   "id": "ce294633",
   "metadata": {},
   "source": [
    "### Encoding"
   ]
  },
  {
   "cell_type": "code",
   "execution_count": 13,
   "id": "2b464708",
   "metadata": {
    "ExecuteTime": {
     "end_time": "2022-03-01T02:19:00.542497Z",
     "start_time": "2022-03-01T02:19:00.526408Z"
    }
   },
   "outputs": [
    {
     "name": "stdout",
     "output_type": "stream",
     "text": [
      "Representation in matrix:\n",
      "[[0 1 0 0 2 0 0 0 0 0 2 1 2 0 1 1]\n",
      " [1 1 0 0 0 0 1 0 1 0 0 0 0 0 0 0]\n",
      " [0 1 1 1 0 1 0 2 0 2 0 0 0 1 0 0]]\n",
      "\n",
      "Freq Word:\n",
      "['akhirnya', 'aku', 'banget', 'capek', 'dia', 'gak', 'jomblo', 'kamu', 'lagi', 'perjuangin', 'sama', 'saya', 'suka', 'tapi', 'tetapi', 'tidak']\n",
      "\n",
      "Corpus:\n",
      "kalimat 1: Saya suka sama dia, tetapi dia tidak suka sama aku.\n",
      "kalimat 2: Akhirnya aku jomblo lagi.\n",
      "kalimat 3: Capek banget perjuangin kamu, tapi kamu gak perjuangin aku.\n"
     ]
    }
   ],
   "source": [
    "from sklearn.feature_extraction.text import CountVectorizer\n",
    "\n",
    "freq_vectorizer = CountVectorizer()\n",
    "freq_vectorized = freq_vectorizer.fit_transform(corpus).todense()\n",
    "print(f\"Representation in matrix:\\n{freq_vectorized}\\n\")\n",
    "print(f\"Freq Word:\\n{freq_vectorizer.get_feature_names()}\\n\")\n",
    "print(f\"Corpus:\")\n",
    "for idx, text in enumerate(corpus): print(f\"kalimat {idx + 1}: {text}\")"
   ]
  },
  {
   "cell_type": "code",
   "execution_count": 3,
   "id": "9d884019",
   "metadata": {
    "ExecuteTime": {
     "end_time": "2022-03-01T02:17:43.942408Z",
     "start_time": "2022-03-01T02:17:43.565069Z"
    },
    "hide_input": true,
    "scrolled": true
   },
   "outputs": [
    {
     "data": {
      "text/html": [
       "<div>\n",
       "<style scoped>\n",
       "    .dataframe tbody tr th:only-of-type {\n",
       "        vertical-align: middle;\n",
       "    }\n",
       "\n",
       "    .dataframe tbody tr th {\n",
       "        vertical-align: top;\n",
       "    }\n",
       "\n",
       "    .dataframe thead th {\n",
       "        text-align: right;\n",
       "    }\n",
       "</style>\n",
       "<table border=\"1\" class=\"dataframe\">\n",
       "  <thead>\n",
       "    <tr style=\"text-align: right;\">\n",
       "      <th></th>\n",
       "      <th>akhirnya</th>\n",
       "      <th>aku</th>\n",
       "      <th>banget</th>\n",
       "      <th>capek</th>\n",
       "      <th>dia</th>\n",
       "      <th>gak</th>\n",
       "      <th>jomblo</th>\n",
       "      <th>kamu</th>\n",
       "      <th>lagi</th>\n",
       "      <th>perjuangin</th>\n",
       "      <th>sama</th>\n",
       "      <th>saya</th>\n",
       "      <th>suka</th>\n",
       "      <th>tapi</th>\n",
       "      <th>tetapi</th>\n",
       "      <th>tidak</th>\n",
       "    </tr>\n",
       "  </thead>\n",
       "  <tbody>\n",
       "    <tr>\n",
       "      <th>kalimat 1</th>\n",
       "      <td>0</td>\n",
       "      <td>1</td>\n",
       "      <td>0</td>\n",
       "      <td>0</td>\n",
       "      <td>2</td>\n",
       "      <td>0</td>\n",
       "      <td>0</td>\n",
       "      <td>0</td>\n",
       "      <td>0</td>\n",
       "      <td>0</td>\n",
       "      <td>2</td>\n",
       "      <td>1</td>\n",
       "      <td>2</td>\n",
       "      <td>0</td>\n",
       "      <td>1</td>\n",
       "      <td>1</td>\n",
       "    </tr>\n",
       "    <tr>\n",
       "      <th>kalimat 2</th>\n",
       "      <td>1</td>\n",
       "      <td>1</td>\n",
       "      <td>0</td>\n",
       "      <td>0</td>\n",
       "      <td>0</td>\n",
       "      <td>0</td>\n",
       "      <td>1</td>\n",
       "      <td>0</td>\n",
       "      <td>1</td>\n",
       "      <td>0</td>\n",
       "      <td>0</td>\n",
       "      <td>0</td>\n",
       "      <td>0</td>\n",
       "      <td>0</td>\n",
       "      <td>0</td>\n",
       "      <td>0</td>\n",
       "    </tr>\n",
       "    <tr>\n",
       "      <th>kalimat 3</th>\n",
       "      <td>0</td>\n",
       "      <td>1</td>\n",
       "      <td>1</td>\n",
       "      <td>1</td>\n",
       "      <td>0</td>\n",
       "      <td>1</td>\n",
       "      <td>0</td>\n",
       "      <td>2</td>\n",
       "      <td>0</td>\n",
       "      <td>2</td>\n",
       "      <td>0</td>\n",
       "      <td>0</td>\n",
       "      <td>0</td>\n",
       "      <td>1</td>\n",
       "      <td>0</td>\n",
       "      <td>0</td>\n",
       "    </tr>\n",
       "  </tbody>\n",
       "</table>\n",
       "</div>"
      ],
      "text/plain": [
       "           akhirnya  aku  banget  capek  dia  gak  jomblo  kamu  lagi  \\\n",
       "kalimat 1         0    1       0      0    2    0       0     0     0   \n",
       "kalimat 2         1    1       0      0    0    0       1     0     1   \n",
       "kalimat 3         0    1       1      1    0    1       0     2     0   \n",
       "\n",
       "           perjuangin  sama  saya  suka  tapi  tetapi  tidak  \n",
       "kalimat 1           0     2     1     2     0       1      1  \n",
       "kalimat 2           0     0     0     0     0       0      0  \n",
       "kalimat 3           2     0     0     0     1       0      0  "
      ]
     },
     "execution_count": 3,
     "metadata": {},
     "output_type": "execute_result"
    }
   ],
   "source": [
    "import pandas as pd\n",
    "\n",
    "index = [\"kalimat \" + str(i) for i in range(1, len(corpus) + 1)]\n",
    "columns = freq_vectorizer.get_feature_names()\n",
    "\n",
    "freq_martrix = pd.DataFrame(\n",
    "    data=freq_vectorized,\n",
    "    index=index,\n",
    "    columns=columns\n",
    ")\n",
    "\n",
    "freq_martrix"
   ]
  },
  {
   "cell_type": "markdown",
   "id": "ce288610",
   "metadata": {
    "slideshow": {
     "slide_type": "subslide"
    }
   },
   "source": [
    "### Euclidean Distance untuk Mengukur Kedekatan/Jarak antar Dokumen"
   ]
  },
  {
   "cell_type": "code",
   "execution_count": 4,
   "id": "133f47ef",
   "metadata": {
    "ExecuteTime": {
     "end_time": "2022-03-01T02:17:43.982529Z",
     "start_time": "2022-03-01T02:17:43.942964Z"
    }
   },
   "outputs": [
    {
     "name": "stdout",
     "output_type": "stream",
     "text": [
      "Jarak dokumen 1 dan 2: [[4.24264069]]\n",
      "Jarak dokumen 1 dan 3: [[5.19615242]]\n",
      "Jarak dokumen 2 dan 3: [[3.87298335]]\n"
     ]
    }
   ],
   "source": [
    "from sklearn.metrics.pairwise import euclidean_distances\n",
    "\n",
    "for i in range(len(freq_vectorized)):\n",
    "    for j in range(i, len(freq_vectorized)):\n",
    "        if i == j:\n",
    "            continue\n",
    "            \n",
    "        distance = euclidean_distances(freq_vectorized[i], freq_vectorized[j])\n",
    "        print(f\"Jarak dokumen {i + 1} dan {j + 1}: {distance}\")"
   ]
  },
  {
   "cell_type": "markdown",
   "id": "629c7be1",
   "metadata": {
    "slideshow": {
     "slide_type": "slide"
    }
   },
   "source": [
    "## One Hot Encoding Vectors\n",
    "\n",
    "Mengubah sekumpulan kata dalam representasi matrix dengan memberikan label 0 jika token tersebut tidak berada dalam kalimat dan 1 jika sebaliknya."
   ]
  },
  {
   "cell_type": "markdown",
   "id": "3dec502c",
   "metadata": {},
   "source": [
    "### Encoding"
   ]
  },
  {
   "cell_type": "code",
   "execution_count": 12,
   "id": "a945521e",
   "metadata": {
    "ExecuteTime": {
     "end_time": "2022-03-01T02:18:55.962823Z",
     "start_time": "2022-03-01T02:18:55.933312Z"
    }
   },
   "outputs": [
    {
     "name": "stdout",
     "output_type": "stream",
     "text": [
      "Representation in matrix:\n",
      "[[0 1 0 0 1 0 0 0 0 0 1 1 1 0 1 1]\n",
      " [1 1 0 0 0 0 1 0 1 0 0 0 0 0 0 0]\n",
      " [0 1 1 1 0 1 0 1 0 1 0 0 0 1 0 0]]\n",
      "\n",
      "Freq Word:\n",
      "['akhirnya', 'aku', 'banget', 'capek', 'dia', 'gak', 'jomblo', 'kamu', 'lagi', 'perjuangin', 'sama', 'saya', 'suka', 'tapi', 'tetapi', 'tidak']\n",
      "\n",
      "Corpus:\n",
      "kalimat1: Saya suka sama dia, tetapi dia tidak suka sama aku.\n",
      "kalimat2: Akhirnya aku jomblo lagi.\n",
      "kalimat3: Capek banget perjuangin kamu, tapi kamu gak perjuangin aku.\n"
     ]
    }
   ],
   "source": [
    "from sklearn.feature_extraction.text import CountVectorizer\n",
    "\n",
    "one_hot_vectorizer = CountVectorizer(binary=True)\n",
    "one_hot_vectorized = one_hot_vectorizer.fit_transform(corpus).todense()\n",
    "print(f\"Representation in matrix:\\n{one_hot_vectorized}\\n\")\n",
    "print(f\"Freq Word:\\n{one_hot_vectorizer.get_feature_names()}\\n\")\n",
    "print(f\"Corpus:\")\n",
    "for idx, text in enumerate(corpus): print(f\"kalimat{idx + 1}: {text}\")"
   ]
  },
  {
   "cell_type": "code",
   "execution_count": 6,
   "id": "57da513a",
   "metadata": {
    "ExecuteTime": {
     "end_time": "2022-03-01T02:17:44.022293Z",
     "start_time": "2022-03-01T02:17:44.005066Z"
    },
    "hide_input": true
   },
   "outputs": [
    {
     "data": {
      "text/html": [
       "<div>\n",
       "<style scoped>\n",
       "    .dataframe tbody tr th:only-of-type {\n",
       "        vertical-align: middle;\n",
       "    }\n",
       "\n",
       "    .dataframe tbody tr th {\n",
       "        vertical-align: top;\n",
       "    }\n",
       "\n",
       "    .dataframe thead th {\n",
       "        text-align: right;\n",
       "    }\n",
       "</style>\n",
       "<table border=\"1\" class=\"dataframe\">\n",
       "  <thead>\n",
       "    <tr style=\"text-align: right;\">\n",
       "      <th></th>\n",
       "      <th>akhirnya</th>\n",
       "      <th>aku</th>\n",
       "      <th>banget</th>\n",
       "      <th>capek</th>\n",
       "      <th>dia</th>\n",
       "      <th>gak</th>\n",
       "      <th>jomblo</th>\n",
       "      <th>kamu</th>\n",
       "      <th>lagi</th>\n",
       "      <th>perjuangin</th>\n",
       "      <th>sama</th>\n",
       "      <th>saya</th>\n",
       "      <th>suka</th>\n",
       "      <th>tapi</th>\n",
       "      <th>tetapi</th>\n",
       "      <th>tidak</th>\n",
       "    </tr>\n",
       "  </thead>\n",
       "  <tbody>\n",
       "    <tr>\n",
       "      <th>kalimat 1</th>\n",
       "      <td>0</td>\n",
       "      <td>1</td>\n",
       "      <td>0</td>\n",
       "      <td>0</td>\n",
       "      <td>1</td>\n",
       "      <td>0</td>\n",
       "      <td>0</td>\n",
       "      <td>0</td>\n",
       "      <td>0</td>\n",
       "      <td>0</td>\n",
       "      <td>1</td>\n",
       "      <td>1</td>\n",
       "      <td>1</td>\n",
       "      <td>0</td>\n",
       "      <td>1</td>\n",
       "      <td>1</td>\n",
       "    </tr>\n",
       "    <tr>\n",
       "      <th>kalimat 2</th>\n",
       "      <td>1</td>\n",
       "      <td>1</td>\n",
       "      <td>0</td>\n",
       "      <td>0</td>\n",
       "      <td>0</td>\n",
       "      <td>0</td>\n",
       "      <td>1</td>\n",
       "      <td>0</td>\n",
       "      <td>1</td>\n",
       "      <td>0</td>\n",
       "      <td>0</td>\n",
       "      <td>0</td>\n",
       "      <td>0</td>\n",
       "      <td>0</td>\n",
       "      <td>0</td>\n",
       "      <td>0</td>\n",
       "    </tr>\n",
       "    <tr>\n",
       "      <th>kalimat 3</th>\n",
       "      <td>0</td>\n",
       "      <td>1</td>\n",
       "      <td>1</td>\n",
       "      <td>1</td>\n",
       "      <td>0</td>\n",
       "      <td>1</td>\n",
       "      <td>0</td>\n",
       "      <td>1</td>\n",
       "      <td>0</td>\n",
       "      <td>1</td>\n",
       "      <td>0</td>\n",
       "      <td>0</td>\n",
       "      <td>0</td>\n",
       "      <td>1</td>\n",
       "      <td>0</td>\n",
       "      <td>0</td>\n",
       "    </tr>\n",
       "  </tbody>\n",
       "</table>\n",
       "</div>"
      ],
      "text/plain": [
       "           akhirnya  aku  banget  capek  dia  gak  jomblo  kamu  lagi  \\\n",
       "kalimat 1         0    1       0      0    1    0       0     0     0   \n",
       "kalimat 2         1    1       0      0    0    0       1     0     1   \n",
       "kalimat 3         0    1       1      1    0    1       0     1     0   \n",
       "\n",
       "           perjuangin  sama  saya  suka  tapi  tetapi  tidak  \n",
       "kalimat 1           0     1     1     1     0       1      1  \n",
       "kalimat 2           0     0     0     0     0       0      0  \n",
       "kalimat 3           1     0     0     0     1       0      0  "
      ]
     },
     "execution_count": 6,
     "metadata": {},
     "output_type": "execute_result"
    }
   ],
   "source": [
    "import pandas as pd\n",
    "\n",
    "index = [\"kalimat \" + str(i) for i in range(1, len(corpus) + 1)]\n",
    "columns = one_hot_vectorizer.get_feature_names()\n",
    "\n",
    "pd.DataFrame(\n",
    "    data=one_hot_vectorized,\n",
    "    index=index,\n",
    "    columns=columns\n",
    ")"
   ]
  },
  {
   "cell_type": "markdown",
   "id": "ab04f15c",
   "metadata": {
    "slideshow": {
     "slide_type": "subslide"
    }
   },
   "source": [
    "### Euclidean Distance untuk Mengukur Kedekatan/Jarak antar Dokumen"
   ]
  },
  {
   "cell_type": "code",
   "execution_count": 7,
   "id": "02a167c6",
   "metadata": {
    "ExecuteTime": {
     "end_time": "2022-03-01T02:17:44.042305Z",
     "start_time": "2022-03-01T02:17:44.024038Z"
    }
   },
   "outputs": [
    {
     "name": "stdout",
     "output_type": "stream",
     "text": [
      "Jarak dokumen 1 dan 2: [[3.]]\n",
      "Jarak dokumen 1 dan 3: [[3.46410162]]\n",
      "Jarak dokumen 2 dan 3: [[3.]]\n"
     ]
    }
   ],
   "source": [
    "from sklearn.metrics.pairwise import euclidean_distances\n",
    "\n",
    "for i in range(len(one_hot_vectorized)):\n",
    "    for j in range(i, len(one_hot_vectorized)):\n",
    "        if i == j:\n",
    "            continue\n",
    "            \n",
    "        distance = euclidean_distances(one_hot_vectorized[i], one_hot_vectorized[j])\n",
    "        print(f\"Jarak dokumen {i + 1} dan {j + 1}: {distance}\")"
   ]
  },
  {
   "cell_type": "markdown",
   "id": "e314e6d5",
   "metadata": {
    "slideshow": {
     "slide_type": "slide"
    }
   },
   "source": [
    "# Stop Word Filtering\n",
    "\n",
    "- Menyederhanakan kumpulan kata, dimana kata-kata yang tidak memiliki makna atau kurang memberikan informasi akan diabaikan.\n",
    "- Kata-kata tersebut, antara lain kata permisah, kata penghunung, kata bantu, dan preposisi."
   ]
  },
  {
   "cell_type": "markdown",
   "id": "18e95667",
   "metadata": {
    "slideshow": {
     "slide_type": "subslide"
    }
   },
   "source": [
    "## Stop Word Filtering dengan CountVectorizer"
   ]
  },
  {
   "cell_type": "code",
   "execution_count": 8,
   "id": "86b1c1da",
   "metadata": {
    "ExecuteTime": {
     "end_time": "2022-03-01T02:17:44.062479Z",
     "start_time": "2022-03-01T02:17:44.044880Z"
    }
   },
   "outputs": [
    {
     "data": {
      "text/plain": [
       "['Saya suka sama dia, tetapi dia tidak suka sama aku.',\n",
       " 'Akhirnya aku jomblo lagi.',\n",
       " 'Capek banget perjuangin kamu, tapi kamu gak perjuangin aku.']"
      ]
     },
     "execution_count": 8,
     "metadata": {},
     "output_type": "execute_result"
    }
   ],
   "source": [
    "corpus"
   ]
  },
  {
   "cell_type": "code",
   "execution_count": 11,
   "id": "84cbc57c",
   "metadata": {
    "ExecuteTime": {
     "end_time": "2022-03-01T02:18:49.662397Z",
     "start_time": "2022-03-01T02:18:49.653256Z"
    }
   },
   "outputs": [
    {
     "name": "stdout",
     "output_type": "stream",
     "text": [
      "Representation stop word:\n",
      "[[0 1 0 0 2 0 0 0 0 2 1 2]\n",
      " [1 1 0 0 0 1 0 1 0 0 0 0]\n",
      " [0 1 1 1 0 0 2 0 2 0 0 0]]\n",
      "\n",
      "Stop Word:\n",
      "frozenset({'tidak', 'gak', 'tapi', 'tetapi'})\n",
      "\n",
      "Corpus:\n",
      "kalimat 1: Saya suka sama dia, tetapi dia tidak suka sama aku.\n",
      "kalimat 2: Akhirnya aku jomblo lagi.\n",
      "kalimat 3: Capek banget perjuangin kamu, tapi kamu gak perjuangin aku.\n"
     ]
    }
   ],
   "source": [
    "from sklearn.feature_extraction.text import CountVectorizer\n",
    "\n",
    "stop_word_vectorizer = CountVectorizer(stop_words=[\"tetapi\", \"tapi\", \"tidak\", \"gak\"])\n",
    "stop_word_vectorized = stop_word_vectorizer.fit_transform(corpus).todense()\n",
    "\n",
    "print(f\"Representation stop word:\\n{stop_word_vectorized}\\n\")\n",
    "print(f\"Stop Word:\\n{stop_word_vectorizer.get_stop_words()}\\n\")\n",
    "print(f\"Corpus:\")\n",
    "for idx, text in enumerate(corpus): print(f\"kalimat {idx + 1}: {text}\")"
   ]
  },
  {
   "cell_type": "code",
   "execution_count": 10,
   "id": "c7208e62",
   "metadata": {
    "ExecuteTime": {
     "end_time": "2022-03-01T02:17:44.102659Z",
     "start_time": "2022-03-01T02:17:44.083402Z"
    },
    "hide_input": true
   },
   "outputs": [
    {
     "data": {
      "text/html": [
       "<div>\n",
       "<style scoped>\n",
       "    .dataframe tbody tr th:only-of-type {\n",
       "        vertical-align: middle;\n",
       "    }\n",
       "\n",
       "    .dataframe tbody tr th {\n",
       "        vertical-align: top;\n",
       "    }\n",
       "\n",
       "    .dataframe thead th {\n",
       "        text-align: right;\n",
       "    }\n",
       "</style>\n",
       "<table border=\"1\" class=\"dataframe\">\n",
       "  <thead>\n",
       "    <tr style=\"text-align: right;\">\n",
       "      <th></th>\n",
       "      <th>akhirnya</th>\n",
       "      <th>aku</th>\n",
       "      <th>banget</th>\n",
       "      <th>capek</th>\n",
       "      <th>dia</th>\n",
       "      <th>jomblo</th>\n",
       "      <th>kamu</th>\n",
       "      <th>lagi</th>\n",
       "      <th>perjuangin</th>\n",
       "      <th>sama</th>\n",
       "      <th>saya</th>\n",
       "      <th>suka</th>\n",
       "    </tr>\n",
       "  </thead>\n",
       "  <tbody>\n",
       "    <tr>\n",
       "      <th>kalimat 1</th>\n",
       "      <td>0</td>\n",
       "      <td>1</td>\n",
       "      <td>0</td>\n",
       "      <td>0</td>\n",
       "      <td>2</td>\n",
       "      <td>0</td>\n",
       "      <td>0</td>\n",
       "      <td>0</td>\n",
       "      <td>0</td>\n",
       "      <td>2</td>\n",
       "      <td>1</td>\n",
       "      <td>2</td>\n",
       "    </tr>\n",
       "    <tr>\n",
       "      <th>kalimat 2</th>\n",
       "      <td>1</td>\n",
       "      <td>1</td>\n",
       "      <td>0</td>\n",
       "      <td>0</td>\n",
       "      <td>0</td>\n",
       "      <td>1</td>\n",
       "      <td>0</td>\n",
       "      <td>1</td>\n",
       "      <td>0</td>\n",
       "      <td>0</td>\n",
       "      <td>0</td>\n",
       "      <td>0</td>\n",
       "    </tr>\n",
       "    <tr>\n",
       "      <th>kalimat 3</th>\n",
       "      <td>0</td>\n",
       "      <td>1</td>\n",
       "      <td>1</td>\n",
       "      <td>1</td>\n",
       "      <td>0</td>\n",
       "      <td>0</td>\n",
       "      <td>2</td>\n",
       "      <td>0</td>\n",
       "      <td>2</td>\n",
       "      <td>0</td>\n",
       "      <td>0</td>\n",
       "      <td>0</td>\n",
       "    </tr>\n",
       "  </tbody>\n",
       "</table>\n",
       "</div>"
      ],
      "text/plain": [
       "           akhirnya  aku  banget  capek  dia  jomblo  kamu  lagi  perjuangin  \\\n",
       "kalimat 1         0    1       0      0    2       0     0     0           0   \n",
       "kalimat 2         1    1       0      0    0       1     0     1           0   \n",
       "kalimat 3         0    1       1      1    0       0     2     0           2   \n",
       "\n",
       "           sama  saya  suka  \n",
       "kalimat 1     2     1     2  \n",
       "kalimat 2     0     0     0  \n",
       "kalimat 3     0     0     0  "
      ]
     },
     "execution_count": 10,
     "metadata": {},
     "output_type": "execute_result"
    }
   ],
   "source": [
    "import pandas as pd\n",
    "\n",
    "index = [\"kalimat \" + str(i) for i in range(1, len(corpus) + 1)]\n",
    "columns = stop_word_vectorizer.get_feature_names()\n",
    "\n",
    "pd.DataFrame(\n",
    "    data=stop_word_vectorized,\n",
    "    index=index,\n",
    "    columns=columns\n",
    ")"
   ]
  }
 ],
 "metadata": {
  "celltoolbar": "Slideshow",
  "kernelspec": {
   "display_name": "Python 3 (ipykernel)",
   "language": "python",
   "name": "python3"
  },
  "language_info": {
   "codemirror_mode": {
    "name": "ipython",
    "version": 3
   },
   "file_extension": ".py",
   "mimetype": "text/x-python",
   "name": "python",
   "nbconvert_exporter": "python",
   "pygments_lexer": "ipython3",
   "version": "3.8.12"
  },
  "nbTranslate": {
   "displayLangs": [
    "*"
   ],
   "hotkey": "alt-t",
   "langInMainMenu": true,
   "sourceLang": "en",
   "targetLang": "fr",
   "useGoogleTranslate": true
  },
  "toc": {
   "base_numbering": 1,
   "nav_menu": {},
   "number_sections": true,
   "sideBar": true,
   "skip_h1_title": false,
   "title_cell": "Table of Contents",
   "title_sidebar": "Contents",
   "toc_cell": false,
   "toc_position": {},
   "toc_section_display": true,
   "toc_window_display": false
  }
 },
 "nbformat": 4,
 "nbformat_minor": 5
}
