{
 "cells": [
  {
   "cell_type": "markdown",
   "id": "e166d0b3",
   "metadata": {
    "slideshow": {
     "slide_type": "slide"
    }
   },
   "source": [
    "# Logistic Regression\n",
    "\n",
    "- Model machine learning yang digunakan untuk task klasifikasi.\n",
    "- Digunakan untuk klasifikasi biner (2 kelas)."
   ]
  },
  {
   "cell_type": "markdown",
   "id": "d8ee3a56",
   "metadata": {
    "slideshow": {
     "slide_type": "subslide"
    }
   },
   "source": [
    "- Formula Dasar:\n",
    "    - Simple Linear Regression:\n",
    "        - $y\\ =\\ \\alpha + \\beta x$\n",
    "        - $g(x)\\ =\\ \\alpha + \\beta x$\n",
    "        \n",
    "    - Multiple Linear Regression:\n",
    "        - $y\\ =\\ \\alpha + \\beta_1 x_1 + \\beta_2 x_2 + ... + \\beta_n x_n$\n",
    "        - $g(X)\\ =\\ \\alpha + \\beta X$\n",
    "    - Logistic Regression:\n",
    "        - $g(X)\\ =\\ sigmoid(\\alpha + \\beta X)$\n",
    "        - $sigmoid(x)\\ =\\ \\frac{1}{1 + e^{-x}}$\n",
    "<img src=\"../images/sigmoid_function.png\" width=\"500\">"
   ]
  },
  {
   "cell_type": "markdown",
   "id": "3d85abd7",
   "metadata": {
    "slideshow": {
     "slide_type": "slide"
    }
   },
   "source": [
    "# Dataset: SMS Spam Colection Dataset"
   ]
  },
  {
   "cell_type": "code",
   "execution_count": 1,
   "id": "8a60e3f8",
   "metadata": {
    "ExecuteTime": {
     "end_time": "2022-03-02T03:42:11.749345Z",
     "start_time": "2022-03-02T03:42:09.742455Z"
    }
   },
   "outputs": [
    {
     "data": {
      "text/html": [
       "<div>\n",
       "<style scoped>\n",
       "    .dataframe tbody tr th:only-of-type {\n",
       "        vertical-align: middle;\n",
       "    }\n",
       "\n",
       "    .dataframe tbody tr th {\n",
       "        vertical-align: top;\n",
       "    }\n",
       "\n",
       "    .dataframe thead th {\n",
       "        text-align: right;\n",
       "    }\n",
       "</style>\n",
       "<table border=\"1\" class=\"dataframe\">\n",
       "  <thead>\n",
       "    <tr style=\"text-align: right;\">\n",
       "      <th></th>\n",
       "      <th>label</th>\n",
       "      <th>sms</th>\n",
       "    </tr>\n",
       "  </thead>\n",
       "  <tbody>\n",
       "    <tr>\n",
       "      <th>2968</th>\n",
       "      <td>ham</td>\n",
       "      <td>NEFT Transaction with reference number  &amp;lt;#&amp;...</td>\n",
       "    </tr>\n",
       "    <tr>\n",
       "      <th>2820</th>\n",
       "      <td>ham</td>\n",
       "      <td>Don't forget who owns you and who's private pr...</td>\n",
       "    </tr>\n",
       "    <tr>\n",
       "      <th>4186</th>\n",
       "      <td>ham</td>\n",
       "      <td>I'm good. Have you registered to vote?</td>\n",
       "    </tr>\n",
       "    <tr>\n",
       "      <th>809</th>\n",
       "      <td>ham</td>\n",
       "      <td>I am taking half day leave bec i am not well</td>\n",
       "    </tr>\n",
       "    <tr>\n",
       "      <th>2311</th>\n",
       "      <td>spam</td>\n",
       "      <td>You have won a Nokia 7250i. This is what you g...</td>\n",
       "    </tr>\n",
       "  </tbody>\n",
       "</table>\n",
       "</div>"
      ],
      "text/plain": [
       "     label                                                sms\n",
       "2968   ham  NEFT Transaction with reference number  &lt;#&...\n",
       "2820   ham  Don't forget who owns you and who's private pr...\n",
       "4186   ham             I'm good. Have you registered to vote?\n",
       "809    ham       I am taking half day leave bec i am not well\n",
       "2311  spam  You have won a Nokia 7250i. This is what you g..."
      ]
     },
     "execution_count": 1,
     "metadata": {},
     "output_type": "execute_result"
    }
   ],
   "source": [
    "import pandas as pd\n",
    "\n",
    "sms_spam_df = pd.read_csv(\n",
    "    filepath_or_buffer=\"../dataset/smsspamcollection/SMSSpamCollection\",\n",
    "    sep=\"\\t\",\n",
    "    header=None,\n",
    "    names=[\"label\", \"sms\"]\n",
    ")\n",
    "\n",
    "sms_spam_df.sample(n=5)"
   ]
  },
  {
   "cell_type": "code",
   "execution_count": 2,
   "id": "835bfbe8",
   "metadata": {
    "ExecuteTime": {
     "end_time": "2022-03-02T03:42:11.781873Z",
     "start_time": "2022-03-02T03:42:11.757638Z"
    }
   },
   "outputs": [
    {
     "data": {
      "text/plain": [
       "ham     4825\n",
       "spam     747\n",
       "Name: label, dtype: int64"
      ]
     },
     "execution_count": 2,
     "metadata": {},
     "output_type": "execute_result"
    }
   ],
   "source": [
    "sms_spam_df[\"label\"].value_counts()"
   ]
  },
  {
   "cell_type": "markdown",
   "id": "a665a816",
   "metadata": {
    "slideshow": {
     "slide_type": "slide"
    }
   },
   "source": [
    "# Training and Testing Dataset"
   ]
  },
  {
   "cell_type": "code",
   "execution_count": 3,
   "id": "870a9d60",
   "metadata": {
    "ExecuteTime": {
     "end_time": "2022-03-02T03:42:13.944910Z",
     "start_time": "2022-03-02T03:42:11.788203Z"
    }
   },
   "outputs": [
    {
     "data": {
      "text/plain": [
       "array(['ham', 'spam'], dtype='<U4')"
      ]
     },
     "execution_count": 3,
     "metadata": {},
     "output_type": "execute_result"
    }
   ],
   "source": [
    "from sklearn.preprocessing import LabelBinarizer\n",
    "\n",
    "X = sms_spam_df[\"sms\"].values\n",
    "y = sms_spam_df[\"label\"].values\n",
    "\n",
    "label_binarizer = LabelBinarizer()\n",
    "y = label_binarizer.fit_transform(y).ravel()\n",
    "label_binarizer.classes_"
   ]
  },
  {
   "cell_type": "code",
   "execution_count": 4,
   "id": "f793fd15",
   "metadata": {
    "ExecuteTime": {
     "end_time": "2022-03-02T03:42:14.112111Z",
     "start_time": "2022-03-02T03:42:13.954726Z"
    }
   },
   "outputs": [
    {
     "name": "stdout",
     "output_type": "stream",
     "text": [
      "Train Set\n",
      "['WINNER!! As a valued network customer you have been selected to receivea £900 prize reward! To claim call 09061701461. Claim code KL341. Valid 12 hours only.'\n",
      " \"So how's scotland. Hope you are not over showing your JJC tendencies. Take care. Live the dream\"\n",
      " 'when you and derek done with class?' \"Aight, lemme know what's up\"\n",
      " 'Yo we are watching a movie on netflix']\n",
      "[1 0 0 0 0]\n",
      "\n",
      "--------------------------------------------------\n",
      "\n",
      "Test Set\n",
      "['Squeeeeeze!! This is christmas hug.. If u lik my frndshp den hug me back.. If u get 3 u r cute:) 6 u r luvd:* 9 u r so lucky;) None? People hate u:'\n",
      " \"And also I've sorta blown him off a couple times recently so id rather not text him out of the blue looking for weed\"\n",
      " 'Mmm thats better now i got a roast down me! i\\x92d b better if i had a few drinks down me 2! Good indian?'\n",
      " 'Mm have some kanji dont eat anything heavy ok'\n",
      " \"So there's a ring that comes with the guys costumes. It's there so they can gift their future yowifes. Hint hint\"]\n",
      "[0 0 0 0 0]\n"
     ]
    }
   ],
   "source": [
    "from sklearn.model_selection import train_test_split\n",
    "\n",
    "X_train, X_test, y_train, y_test = train_test_split(X, y, test_size=0.25, random_state=42)\n",
    "\n",
    "print(f\"Train Set\")\n",
    "print(f\"{X_train[:5]}\")\n",
    "print(f\"{y_train[:5]}\\n\")\n",
    "\n",
    "print(\"-\" * 50)\n",
    "\n",
    "print(f\"\\nTest Set\")\n",
    "print(f\"{X_test[:5]}\")\n",
    "print(f\"{y_test[:5]}\")"
   ]
  },
  {
   "cell_type": "markdown",
   "id": "f533c71a",
   "metadata": {
    "slideshow": {
     "slide_type": "slide"
    }
   },
   "source": [
    "# Feature Extraction dengan TF-IDF"
   ]
  },
  {
   "cell_type": "code",
   "execution_count": 5,
   "id": "4ad9315c",
   "metadata": {
    "ExecuteTime": {
     "end_time": "2022-03-02T03:42:14.600162Z",
     "start_time": "2022-03-02T03:42:14.120104Z"
    }
   },
   "outputs": [
    {
     "data": {
      "text/html": [
       "<div>\n",
       "<style scoped>\n",
       "    .dataframe tbody tr th:only-of-type {\n",
       "        vertical-align: middle;\n",
       "    }\n",
       "\n",
       "    .dataframe tbody tr th {\n",
       "        vertical-align: top;\n",
       "    }\n",
       "\n",
       "    .dataframe thead th {\n",
       "        text-align: right;\n",
       "    }\n",
       "</style>\n",
       "<table border=\"1\" class=\"dataframe\">\n",
       "  <thead>\n",
       "    <tr style=\"text-align: right;\">\n",
       "      <th></th>\n",
       "      <th>idx_doc</th>\n",
       "      <th>idx_token</th>\n",
       "      <th>tf_idf</th>\n",
       "    </tr>\n",
       "  </thead>\n",
       "  <tbody>\n",
       "    <tr>\n",
       "      <th>0</th>\n",
       "      <td>0</td>\n",
       "      <td>3270</td>\n",
       "      <td>0.22054637918276537</td>\n",
       "    </tr>\n",
       "    <tr>\n",
       "      <th>1</th>\n",
       "      <td>0</td>\n",
       "      <td>268</td>\n",
       "      <td>0.24268694798090706</td>\n",
       "    </tr>\n",
       "    <tr>\n",
       "      <th>2</th>\n",
       "      <td>0</td>\n",
       "      <td>6771</td>\n",
       "      <td>0.22054637918276537</td>\n",
       "    </tr>\n",
       "    <tr>\n",
       "      <th>3</th>\n",
       "      <td>0</td>\n",
       "      <td>3684</td>\n",
       "      <td>0.29820405490236296</td>\n",
       "    </tr>\n",
       "    <tr>\n",
       "      <th>4</th>\n",
       "      <td>0</td>\n",
       "      <td>1760</td>\n",
       "      <td>0.2170940285037797</td>\n",
       "    </tr>\n",
       "  </tbody>\n",
       "</table>\n",
       "</div>"
      ],
      "text/plain": [
       "  idx_doc idx_token               tf_idf\n",
       "0       0      3270  0.22054637918276537\n",
       "1       0       268  0.24268694798090706\n",
       "2       0      6771  0.22054637918276537\n",
       "3       0      3684  0.29820405490236296\n",
       "4       0      1760   0.2170940285037797"
      ]
     },
     "execution_count": 5,
     "metadata": {},
     "output_type": "execute_result"
    }
   ],
   "source": [
    "from sklearn.feature_extraction.text import TfidfVectorizer\n",
    "\n",
    "tf_idf_vectorizer = TfidfVectorizer(stop_words=\"english\")\n",
    "\n",
    "X_train_tfidf = tf_idf_vectorizer.fit_transform(X_train)\n",
    "X_train_tfidf_df = str(X_train_tfidf).split(\"\\n\")\n",
    "X_train_tfidf_df = [data.strip() for data in X_train_tfidf_df]\n",
    "X_train_tfidf_df = [data.replace(\"(\", \"\") for data in X_train_tfidf_df]\n",
    "X_train_tfidf_df = [data.replace(\")\", \"\") for data in X_train_tfidf_df]\n",
    "X_train_tfidf_df = [data.replace(\" \", \"\") for data in X_train_tfidf_df]\n",
    "X_train_tfidf_df = [data.replace(\"\\t\", \",\") for data in X_train_tfidf_df]\n",
    "X_train_tfidf_df = [data.split(\",\") for data in X_train_tfidf_df]\n",
    "\n",
    "X_train_tfidf_df = pd.DataFrame(\n",
    "    data=X_train_tfidf_df,\n",
    "    columns=[\"idx_doc\", \"idx_token\", \"tf_idf\"]\n",
    ")\n",
    "\n",
    "X_test_tfidf = tf_idf_vectorizer.transform(X_test)\n",
    "X_test_tfidf_df = str(X_test_tfidf).split(\"\\n\")\n",
    "X_test_tfidf_df = [data.strip() for data in X_test_tfidf_df]\n",
    "X_test_tfidf_df = [data.replace(\"(\", \"\") for data in X_test_tfidf_df]\n",
    "X_test_tfidf_df = [data.replace(\")\", \"\") for data in X_test_tfidf_df]\n",
    "X_test_tfidf_df = [data.replace(\" \", \"\") for data in X_test_tfidf_df]\n",
    "X_test_tfidf_df = [data.replace(\"\\t\", \",\") for data in X_test_tfidf_df]\n",
    "X_test_tfidf_df = [data.split(\",\") for data in X_test_tfidf_df]\n",
    "X_test_tfidf_df = pd.DataFrame(\n",
    "    data=X_test_tfidf_df,\n",
    "    columns=[\"idx_doc\", \"idx_token\", \"tf_idf\"]\n",
    ")\n",
    "\n",
    "X_train_tfidf_df.head()"
   ]
  },
  {
   "cell_type": "code",
   "execution_count": 6,
   "id": "35235477",
   "metadata": {
    "ExecuteTime": {
     "end_time": "2022-03-02T03:42:14.655425Z",
     "start_time": "2022-03-02T03:42:14.608555Z"
    }
   },
   "outputs": [
    {
     "data": {
      "text/html": [
       "<div>\n",
       "<style scoped>\n",
       "    .dataframe tbody tr th:only-of-type {\n",
       "        vertical-align: middle;\n",
       "    }\n",
       "\n",
       "    .dataframe tbody tr th {\n",
       "        vertical-align: top;\n",
       "    }\n",
       "\n",
       "    .dataframe thead th {\n",
       "        text-align: right;\n",
       "    }\n",
       "</style>\n",
       "<table border=\"1\" class=\"dataframe\">\n",
       "  <thead>\n",
       "    <tr style=\"text-align: right;\">\n",
       "      <th></th>\n",
       "      <th>idx_doc</th>\n",
       "      <th>idx_token</th>\n",
       "      <th>tf_idf</th>\n",
       "    </tr>\n",
       "  </thead>\n",
       "  <tbody>\n",
       "    <tr>\n",
       "      <th>0</th>\n",
       "      <td>0</td>\n",
       "      <td>4798</td>\n",
       "      <td>0.2249854341740055</td>\n",
       "    </tr>\n",
       "    <tr>\n",
       "      <th>1</th>\n",
       "      <td>0</td>\n",
       "      <td>3979</td>\n",
       "      <td>0.28142633196821903</td>\n",
       "    </tr>\n",
       "    <tr>\n",
       "      <th>2</th>\n",
       "      <td>0</td>\n",
       "      <td>3839</td>\n",
       "      <td>0.3091529161984464</td>\n",
       "    </tr>\n",
       "    <tr>\n",
       "      <th>3</th>\n",
       "      <td>0</td>\n",
       "      <td>3289</td>\n",
       "      <td>0.6591729096397505</td>\n",
       "    </tr>\n",
       "    <tr>\n",
       "      <th>4</th>\n",
       "      <td>0</td>\n",
       "      <td>3128</td>\n",
       "      <td>0.32958645481987525</td>\n",
       "    </tr>\n",
       "  </tbody>\n",
       "</table>\n",
       "</div>"
      ],
      "text/plain": [
       "  idx_doc idx_token               tf_idf\n",
       "0       0      4798   0.2249854341740055\n",
       "1       0      3979  0.28142633196821903\n",
       "2       0      3839   0.3091529161984464\n",
       "3       0      3289   0.6591729096397505\n",
       "4       0      3128  0.32958645481987525"
      ]
     },
     "execution_count": 6,
     "metadata": {},
     "output_type": "execute_result"
    }
   ],
   "source": [
    "X_test_tfidf_df.head()"
   ]
  },
  {
   "cell_type": "markdown",
   "id": "f0409084",
   "metadata": {
    "slideshow": {
     "slide_type": "slide"
    }
   },
   "source": [
    "# Klasifikasi Biner dengan Logistic Regression"
   ]
  },
  {
   "cell_type": "code",
   "execution_count": 7,
   "id": "63649140",
   "metadata": {
    "ExecuteTime": {
     "end_time": "2022-03-02T03:42:15.226673Z",
     "start_time": "2022-03-02T03:42:14.667227Z"
    }
   },
   "outputs": [
    {
     "name": "stdout",
     "output_type": "stream",
     "text": [
      "Pred: 0 - Squeeeeeze!! This is christmas hug.. If u lik my frndshp den hug me back.. If u get 3 u r cute:) 6 u r luvd:* 9 u r so lucky;) None? People hate u:\n",
      "\n",
      "Pred: 0 - And also I've sorta blown him off a couple times recently so id rather not text him out of the blue looking for weed\n",
      "\n",
      "Pred: 0 - Mmm thats better now i got a roast down me! id b better if i had a few drinks down me 2! Good indian?\n",
      "\n",
      "Pred: 0 - Mm have some kanji dont eat anything heavy ok\n",
      "\n",
      "Pred: 0 - So there's a ring that comes with the guys costumes. It's there so they can gift their future yowifes. Hint hint\n",
      "\n"
     ]
    }
   ],
   "source": [
    "from sklearn.linear_model import LogisticRegression\n",
    "\n",
    "lg_model = LogisticRegression()\n",
    "lg_model.fit(X_train_tfidf, y_train)\n",
    "y_pred = lg_model.predict(X_test_tfidf)\n",
    "\n",
    "for pred, sms in zip(y_pred[:5], X_test[:5]):\n",
    "    print(f\"Pred: {pred} - {sms}\\n\")"
   ]
  },
  {
   "cell_type": "markdown",
   "id": "84d611a7",
   "metadata": {
    "slideshow": {
     "slide_type": "slide"
    }
   },
   "source": [
    "# Evaluation\n",
    "\n",
    "- Terminologi Dasar:\n",
    "    - TP (True Positive): model telah dengan benar memprediksi kelas positif sebagai positif.\n",
    "    - TN (True Negative): model telah dengan benar memprediksi kelas negatif sebagai negatif.\n",
    "    - FP (False Positive): model telah dengan keliru memprediksi kelas negatif sebagai positif.\n",
    "    - FN (False Negative): model telah dengan keliru memprediksi kelas positif sebagai negatif.\n",
    "\n",
    "\n",
    "- Metrik:\n",
    "    - Confusion Matrix\n",
    "    - Accuracy\n",
    "    - Precision and Recall\n",
    "    - F1 Score\n",
    "    - ROC"
   ]
  },
  {
   "cell_type": "markdown",
   "id": "012402c0",
   "metadata": {
    "slideshow": {
     "slide_type": "subslide"
    }
   },
   "source": [
    "## Confusion Matrix"
   ]
  },
  {
   "cell_type": "code",
   "execution_count": 8,
   "id": "43a971fa",
   "metadata": {
    "ExecuteTime": {
     "end_time": "2022-03-02T03:42:15.258798Z",
     "start_time": "2022-03-02T03:42:15.232814Z"
    }
   },
   "outputs": [
    {
     "data": {
      "text/plain": [
       "array([[1207,    0],\n",
       "       [  45,  141]], dtype=int64)"
      ]
     },
     "execution_count": 8,
     "metadata": {},
     "output_type": "execute_result"
    }
   ],
   "source": [
    "from sklearn.metrics import confusion_matrix\n",
    "\n",
    "matrix = confusion_matrix(y_test, y_pred)\n",
    "matrix"
   ]
  },
  {
   "cell_type": "code",
   "execution_count": 9,
   "id": "00b45744",
   "metadata": {
    "ExecuteTime": {
     "end_time": "2022-03-02T03:42:15.290018Z",
     "start_time": "2022-03-02T03:42:15.263785Z"
    }
   },
   "outputs": [
    {
     "data": {
      "text/plain": [
       "ham     4825\n",
       "spam     747\n",
       "Name: label, dtype: int64"
      ]
     },
     "execution_count": 9,
     "metadata": {},
     "output_type": "execute_result"
    }
   ],
   "source": [
    "sms_spam_df[\"label\"].value_counts()"
   ]
  },
  {
   "cell_type": "code",
   "execution_count": 10,
   "id": "21db6e47",
   "metadata": {
    "ExecuteTime": {
     "end_time": "2022-03-02T03:42:15.313475Z",
     "start_time": "2022-03-02T03:42:15.299030Z"
    }
   },
   "outputs": [
    {
     "name": "stdout",
     "output_type": "stream",
     "text": [
      "True Positif  : 141\n",
      "True Negatif  : 1207\n",
      "False Positif : 0\n",
      "False Negatif : 45\n"
     ]
    }
   ],
   "source": [
    "print(f\"True Positif  : {matrix[1, 1]}\")\n",
    "print(f\"True Negatif  : {matrix[0, 0]}\")\n",
    "print(f\"False Positif : {matrix[0, 1]}\")\n",
    "print(f\"False Negatif : {matrix[1, 0]}\")"
   ]
  },
  {
   "cell_type": "code",
   "execution_count": 11,
   "id": "494b4ac3",
   "metadata": {
    "ExecuteTime": {
     "end_time": "2022-03-02T03:42:19.572421Z",
     "start_time": "2022-03-02T03:42:15.319245Z"
    }
   },
   "outputs": [
    {
     "data": {
      "image/png": "[encoded data removed]",
      "text/plain": [
       "<Figure size 288x288 with 2 Axes>"
      ]
     },
     "metadata": {
      "needs_background": "light"
     },
     "output_type": "display_data"
    }
   ],
   "source": [
    "import matplotlib.pyplot as plt\n",
    "\n",
    "plt.matshow(matrix)\n",
    "plt.colorbar()\n",
    "\n",
    "plt.title(\"Confusion Matrix\")\n",
    "plt.xlabel(\"Predict Label\")\n",
    "plt.ylabel(\"Actual Label\")\n",
    "plt.show()"
   ]
  },
  {
   "cell_type": "markdown",
   "id": "76cd25ad",
   "metadata": {
    "slideshow": {
     "slide_type": "subslide"
    }
   },
   "source": [
    "## Accuracy\n",
    "\n",
    "- Evaluasi dengan membandingkan semua prediksi yang tepat dengan keseluruhan prediksi.\n",
    "- $accuracy\\ =\\ \\frac{TP+TN}{TP+TN+FP+FN}\\ =\\ \\frac{correct}{total}$"
   ]
  },
  {
   "cell_type": "code",
   "execution_count": 12,
   "id": "9bf5aaa6",
   "metadata": {
    "ExecuteTime": {
     "end_time": "2022-03-02T03:42:19.606821Z",
     "start_time": "2022-03-02T03:42:19.579334Z"
    }
   },
   "outputs": [
    {
     "data": {
      "text/plain": [
       "0.9676956209619526"
      ]
     },
     "execution_count": 12,
     "metadata": {},
     "output_type": "execute_result"
    }
   ],
   "source": [
    "from sklearn.metrics import accuracy_score\n",
    "\n",
    "accuracy_score(y_test, y_pred)"
   ]
  },
  {
   "cell_type": "markdown",
   "id": "8915e670",
   "metadata": {
    "slideshow": {
     "slide_type": "subslide"
    }
   },
   "source": [
    "## Precision\n",
    "\n",
    "- Dari data yang diprediksi positif, berapa banyak yang benar.\n",
    "- $precision\\ =\\ \\frac{TP}{TP + FP}$"
   ]
  },
  {
   "cell_type": "code",
   "execution_count": 13,
   "id": "5f7c6d46",
   "metadata": {
    "ExecuteTime": {
     "end_time": "2022-03-02T03:42:19.637489Z",
     "start_time": "2022-03-02T03:42:19.614856Z"
    }
   },
   "outputs": [
    {
     "data": {
      "text/plain": [
       "1.0"
      ]
     },
     "execution_count": 13,
     "metadata": {},
     "output_type": "execute_result"
    }
   ],
   "source": [
    "from sklearn.metrics import precision_score\n",
    "\n",
    "precision_score(y_test, y_pred)"
   ]
  },
  {
   "cell_type": "markdown",
   "id": "46805602",
   "metadata": {
    "slideshow": {
     "slide_type": "subslide"
    }
   },
   "source": [
    "## Recall\n",
    "\n",
    "- Dari data yang berlabel positif (actual), berapa banyak yang diprediksi benar.\n",
    "- $recall\\ =\\ \\frac{TP}{TP + FN}$"
   ]
  },
  {
   "cell_type": "code",
   "execution_count": 14,
   "id": "2aba0e3d",
   "metadata": {
    "ExecuteTime": {
     "end_time": "2022-03-02T03:42:19.677491Z",
     "start_time": "2022-03-02T03:42:19.645214Z"
    }
   },
   "outputs": [
    {
     "data": {
      "text/plain": [
       "0.7580645161290323"
      ]
     },
     "execution_count": 14,
     "metadata": {},
     "output_type": "execute_result"
    }
   ],
   "source": [
    "from sklearn.metrics import recall_score\n",
    "\n",
    "recall_score(y_test, y_pred)"
   ]
  },
  {
   "cell_type": "markdown",
   "id": "dd7e51a2",
   "metadata": {
    "slideshow": {
     "slide_type": "subslide"
    }
   },
   "source": [
    "## F1 Score\n",
    "\n",
    "- Rata-rata harmonik dari precision dan recall.\n",
    "- $F1\\text{-}score\\ =\\ 2\\ \\times\\ \\frac{precision\\ \\times\\ recall}{precision\\ +\\ recall}$ "
   ]
  },
  {
   "cell_type": "code",
   "execution_count": 15,
   "id": "02aa71d3",
   "metadata": {
    "ExecuteTime": {
     "end_time": "2022-03-02T03:42:19.702426Z",
     "start_time": "2022-03-02T03:42:19.684909Z"
    }
   },
   "outputs": [
    {
     "data": {
      "text/plain": [
       "0.8623853211009175"
      ]
     },
     "execution_count": 15,
     "metadata": {},
     "output_type": "execute_result"
    }
   ],
   "source": [
    "from sklearn.metrics import f1_score\n",
    "\n",
    "f1_score(y_test, y_pred)"
   ]
  },
  {
   "cell_type": "markdown",
   "id": "7652c2ca",
   "metadata": {
    "ExecuteTime": {
     "end_time": "2022-03-02T02:20:45.627051Z",
     "start_time": "2022-03-02T02:20:45.600166Z"
    },
    "slideshow": {
     "slide_type": "subslide"
    }
   },
   "source": [
    "## RCO (Receiver Operating Chsracteristic)\n",
    "\n",
    "- Membandingkan nilai recall (TPR) dan fallout (FPR).\n",
    "- $TPR\\ =\\ \\frac{TP}{TP\\ +\\ FN}$\n",
    "- $FPR\\ =\\ \\frac{FP}{TN\\ +\\ FP}$"
   ]
  },
  {
   "cell_type": "code",
   "execution_count": 28,
   "id": "a26da944",
   "metadata": {
    "ExecuteTime": {
     "end_time": "2022-03-02T05:42:57.844934Z",
     "start_time": "2022-03-02T05:42:57.666513Z"
    }
   },
   "outputs": [
    {
     "data": {
      "image/png": "[encoded data removed]",
      "text/plain": [
       "<Figure size 432x288 with 1 Axes>"
      ]
     },
     "metadata": {
      "needs_background": "light"
     },
     "output_type": "display_data"
    }
   ],
   "source": [
    "from sklearn.metrics import roc_curve, auc\n",
    "\n",
    "prob_estimates = lg_model.predict_proba(X_test_tfidf)\n",
    "fpr, tpr, threshold = roc_curve(y_test, prob_estimates[:, 1])\n",
    "auc_score = auc(fpr, tpr)\n",
    "\n",
    "plt.title(\"ROC (Receiver Operating Characteristic)\")\n",
    "plt.xlabel(\"Fallout or False Positive Rate\")\n",
    "plt.ylabel(\"Recall or True Positive Rate\")\n",
    "plt.plot(fpr, tpr, \"g\", label=f\"AUC={auc_score}\")\n",
    "plt.plot([0, 1], [0, 1], \"--r\", label=f\"random classifier\")\n",
    "plt.legend()\n",
    "plt.show()"
   ]
  },
  {
   "cell_type": "code",
   "execution_count": null,
   "id": "81baec9b",
   "metadata": {},
   "outputs": [],
   "source": []
  }
 ],
 "metadata": {
  "celltoolbar": "Slideshow",
  "kernelspec": {
   "display_name": "Python 3 (ipykernel)",
   "language": "python",
   "name": "python3"
  },
  "language_info": {
   "codemirror_mode": {
    "name": "ipython",
    "version": 3
   },
   "file_extension": ".py",
   "mimetype": "text/x-python",
   "name": "python",
   "nbconvert_exporter": "python",
   "pygments_lexer": "ipython3",
   "version": "3.8.12"
  },
  "nbTranslate": {
   "displayLangs": [
    "*"
   ],
   "hotkey": "alt-t",
   "langInMainMenu": true,
   "sourceLang": "en",
   "targetLang": "fr",
   "useGoogleTranslate": true
  },
  "toc": {
   "base_numbering": 1,
   "nav_menu": {},
   "number_sections": true,
   "sideBar": true,
   "skip_h1_title": false,
   "title_cell": "Table of Contents",
   "title_sidebar": "Contents",
   "toc_cell": false,
   "toc_position": {},
   "toc_section_display": true,
   "toc_window_display": false
  }
 },
 "nbformat": 4,
 "nbformat_minor": 5
}
