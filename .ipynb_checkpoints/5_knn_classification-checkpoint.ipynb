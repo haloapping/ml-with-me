{
 "cells": [
  {
   "cell_type": "markdown",
   "id": "d3c3a8f1",
   "metadata": {
    "slideshow": {
     "slide_type": "slide"
    }
   },
   "source": [
    "# Objective\n",
    "Menentukan status seseorang apakah jomblo atau pacaran berdasarkan jumlah mantan dan tinggi badan."
   ]
  },
  {
   "cell_type": "markdown",
   "id": "cfba3411",
   "metadata": {
    "slideshow": {
     "slide_type": "slide"
    }
   },
   "source": [
    "# Sample Dataset"
   ]
  },
  {
   "cell_type": "code",
   "execution_count": 1,
   "id": "a7ec0647",
   "metadata": {
    "ExecuteTime": {
     "end_time": "2022-02-15T01:10:28.304124Z",
     "start_time": "2022-02-15T01:10:27.725045Z"
    }
   },
   "outputs": [
    {
     "data": {
      "text/html": [
       "<div>\n",
       "<style scoped>\n",
       "    .dataframe tbody tr th:only-of-type {\n",
       "        vertical-align: middle;\n",
       "    }\n",
       "\n",
       "    .dataframe tbody tr th {\n",
       "        vertical-align: top;\n",
       "    }\n",
       "\n",
       "    .dataframe thead th {\n",
       "        text-align: right;\n",
       "    }\n",
       "</style>\n",
       "<table border=\"1\" class=\"dataframe\">\n",
       "  <thead>\n",
       "    <tr style=\"text-align: right;\">\n",
       "      <th></th>\n",
       "      <th>tinggi</th>\n",
       "      <th>mantan</th>\n",
       "      <th>status</th>\n",
       "    </tr>\n",
       "  </thead>\n",
       "  <tbody>\n",
       "    <tr>\n",
       "      <th>0</th>\n",
       "      <td>158</td>\n",
       "      <td>3</td>\n",
       "      <td>jomblo</td>\n",
       "    </tr>\n",
       "    <tr>\n",
       "      <th>1</th>\n",
       "      <td>170</td>\n",
       "      <td>6</td>\n",
       "      <td>jomblo</td>\n",
       "    </tr>\n",
       "    <tr>\n",
       "      <th>2</th>\n",
       "      <td>183</td>\n",
       "      <td>1</td>\n",
       "      <td>pacaran</td>\n",
       "    </tr>\n",
       "    <tr>\n",
       "      <th>3</th>\n",
       "      <td>155</td>\n",
       "      <td>5</td>\n",
       "      <td>pacaran</td>\n",
       "    </tr>\n",
       "    <tr>\n",
       "      <th>4</th>\n",
       "      <td>163</td>\n",
       "      <td>10</td>\n",
       "      <td>jomblo</td>\n",
       "    </tr>\n",
       "    <tr>\n",
       "      <th>5</th>\n",
       "      <td>180</td>\n",
       "      <td>2</td>\n",
       "      <td>pacaran</td>\n",
       "    </tr>\n",
       "    <tr>\n",
       "      <th>6</th>\n",
       "      <td>158</td>\n",
       "      <td>2</td>\n",
       "      <td>jomblo</td>\n",
       "    </tr>\n",
       "    <tr>\n",
       "      <th>7</th>\n",
       "      <td>178</td>\n",
       "      <td>7</td>\n",
       "      <td>pacaran</td>\n",
       "    </tr>\n",
       "  </tbody>\n",
       "</table>\n",
       "</div>"
      ],
      "text/plain": [
       "   tinggi  mantan   status\n",
       "0     158       3   jomblo\n",
       "1     170       6   jomblo\n",
       "2     183       1  pacaran\n",
       "3     155       5  pacaran\n",
       "4     163      10   jomblo\n",
       "5     180       2  pacaran\n",
       "6     158       2   jomblo\n",
       "7     178       7  pacaran"
      ]
     },
     "execution_count": 1,
     "metadata": {},
     "output_type": "execute_result"
    }
   ],
   "source": [
    "import pandas as pd\n",
    "\n",
    "status = {\n",
    "    \"tinggi\": [158, 170, 183, 155, 163, 180, 158, 178],\n",
    "    \"mantan\": [3, 6, 1, 5, 10, 2, 2, 7],\n",
    "    \"status\": [\"jomblo\", \"jomblo\", \"pacaran\", \"pacaran\", \"jomblo\", \"pacaran\", \"jomblo\", \"pacaran\"]\n",
    "}\n",
    "\n",
    "status_df = pd.DataFrame(status)\n",
    "status_df"
   ]
  },
  {
   "cell_type": "markdown",
   "id": "0ed14916",
   "metadata": {
    "ExecuteTime": {
     "end_time": "2022-02-14T00:21:26.306113Z",
     "start_time": "2022-02-14T00:21:26.290957Z"
    },
    "slideshow": {
     "slide_type": "slide"
    }
   },
   "source": [
    "# Visualize Data"
   ]
  },
  {
   "cell_type": "code",
   "execution_count": 2,
   "id": "88206df7",
   "metadata": {
    "ExecuteTime": {
     "end_time": "2022-02-15T01:10:29.612918Z",
     "start_time": "2022-02-15T01:10:28.308123Z"
    }
   },
   "outputs": [
    {
     "data": {
      "image/png": "[encoded data removed]",
      "text/plain": [
       "<Figure size 432x288 with 1 Axes>"
      ]
     },
     "metadata": {
      "needs_background": "light"
     },
     "output_type": "display_data"
    }
   ],
   "source": [
    "import matplotlib.pyplot as plt\n",
    "\n",
    "fig, ax = plt.subplots()\n",
    "for status, data in status_df.groupby('status'):\n",
    "    ax.scatter(data[\"tinggi\"], data[\"mantan\"], label=status)\n",
    "    \n",
    "plt.legend(loc='upper left')\n",
    "plt.xlim(140, 190)\n",
    "plt.ylim(0, 12)\n",
    "plt.title(\"Sebaran Data Tinggi Badan, Jumlah Mantan dan Status\")\n",
    "plt.xlabel(\"Tinggi Badan (cm)\")\n",
    "plt.ylabel(\"Jumlah Mantan\")\n",
    "plt.grid(True)\n",
    "plt.show()"
   ]
  },
  {
   "cell_type": "markdown",
   "id": "c214d64a",
   "metadata": {
    "slideshow": {
     "slide_type": "slide"
    }
   },
   "source": [
    "# Preprocessing Dataset"
   ]
  },
  {
   "cell_type": "markdown",
   "id": "ca6e9242",
   "metadata": {},
   "source": [
    "## Split features and target"
   ]
  },
  {
   "cell_type": "code",
   "execution_count": 3,
   "id": "5bd31a8f",
   "metadata": {
    "ExecuteTime": {
     "end_time": "2022-02-15T01:10:29.628933Z",
     "start_time": "2022-02-15T01:10:29.616919Z"
    }
   },
   "outputs": [
    {
     "name": "stdout",
     "output_type": "stream",
     "text": [
      "X_train:\n",
      "[[158   3]\n",
      " [170   6]\n",
      " [183   1]\n",
      " [155   5]\n",
      " [163  10]\n",
      " [180   2]\n",
      " [158   2]\n",
      " [178   7]]\n",
      "\n",
      "y_train:\n",
      "['jomblo' 'jomblo' 'pacaran' 'pacaran' 'jomblo' 'pacaran' 'jomblo'\n",
      " 'pacaran']\n"
     ]
    }
   ],
   "source": [
    "import numpy as np\n",
    "\n",
    "X_train = np.array(status_df[[\"tinggi\", \"mantan\"]])\n",
    "y_train = np.array(status_df[\"status\"])\n",
    "\n",
    "print(f\"X_train:\\n{X_train}\\n\")\n",
    "print(f\"y_train:\\n{y_train}\")"
   ]
  },
  {
   "cell_type": "markdown",
   "id": "411051f2",
   "metadata": {
    "slideshow": {
     "slide_type": "subslide"
    }
   },
   "source": [
    "## Label Binarizer"
   ]
  },
  {
   "cell_type": "code",
   "execution_count": 4,
   "id": "c2db6ac0",
   "metadata": {
    "ExecuteTime": {
     "end_time": "2022-02-15T01:10:30.253393Z",
     "start_time": "2022-02-15T01:10:29.632921Z"
    }
   },
   "outputs": [
    {
     "name": "stdout",
     "output_type": "stream",
     "text": [
      "New y_train:\n",
      "[[0]\n",
      " [0]\n",
      " [1]\n",
      " [1]\n",
      " [0]\n",
      " [1]\n",
      " [0]\n",
      " [1]]\n"
     ]
    }
   ],
   "source": [
    "from sklearn.preprocessing import LabelBinarizer\n",
    "\n",
    "binarizer = LabelBinarizer()\n",
    "y_train = binarizer.fit_transform(y_train)\n",
    "print(f\"New y_train:\\n{y_train}\")"
   ]
  },
  {
   "cell_type": "code",
   "execution_count": 5,
   "id": "8ccde1ca",
   "metadata": {
    "ExecuteTime": {
     "end_time": "2022-02-15T01:10:30.268763Z",
     "start_time": "2022-02-15T01:10:30.255735Z"
    }
   },
   "outputs": [],
   "source": [
    "y_train = y_train.flatten()"
   ]
  },
  {
   "cell_type": "markdown",
   "id": "fbd469c7",
   "metadata": {
    "slideshow": {
     "slide_type": "slide"
    }
   },
   "source": [
    "# KNN (K-Nearest Neighbors) Classification Model\n",
    "- Melakukan klasifikasi dengan cara menghitung *distance* antara *datapoint* baru dengan *datapoint-datapoint* terdekat yang ada disekitar *datapoint* yang diprediksi kelasnya.\n",
    "- Salah satu cara menghitung *distance* dapat menggunakan *Euclidean Distance*.\n",
    "- Jumlah tetangga (*neighbors*) terdekat yang dihitung ditentukan sebelumnya.\n",
    "- Setelah itu divoting untuk menentukan *datapoint* baru masuk ke kelas yang mana."
   ]
  },
  {
   "cell_type": "markdown",
   "id": "0ab87c0b",
   "metadata": {},
   "source": [
    "## Train Model"
   ]
  },
  {
   "cell_type": "code",
   "execution_count": 6,
   "id": "6db3a927",
   "metadata": {
    "ExecuteTime": {
     "end_time": "2022-02-15T01:10:30.394106Z",
     "start_time": "2022-02-15T01:10:30.271735Z"
    }
   },
   "outputs": [],
   "source": [
    "from sklearn.neighbors import KNeighborsClassifier\n",
    "\n",
    "K = 3\n",
    "knn_model = KNeighborsClassifier(n_neighbors=K)\n",
    "knn_model.fit(X_train, y_train);"
   ]
  },
  {
   "cell_type": "markdown",
   "id": "d0c94ad9",
   "metadata": {
    "slideshow": {
     "slide_type": "subslide"
    }
   },
   "source": [
    "## Predict with Trained Model"
   ]
  },
  {
   "cell_type": "code",
   "execution_count": 7,
   "id": "26e5c13d",
   "metadata": {
    "ExecuteTime": {
     "end_time": "2022-02-15T01:10:30.424706Z",
     "start_time": "2022-02-15T01:10:30.399555Z"
    }
   },
   "outputs": [
    {
     "data": {
      "text/plain": [
       "array([[170,   1],\n",
       "       [165,   1]])"
      ]
     },
     "execution_count": 7,
     "metadata": {},
     "output_type": "execute_result"
    }
   ],
   "source": [
    "tinggi_badan_gebetan = 170\n",
    "jumlah_mantan_gebetan = 1\n",
    "\n",
    "tinggi_badan_aku = 165\n",
    "jumlah_mantan_aku = 1 \n",
    "\n",
    "X_new = np.array([[tinggi_badan_gebetan, jumlah_mantan_gebetan],\n",
    "                  [tinggi_badan_aku, jumlah_mantan_aku]])\n",
    "X_new"
   ]
  },
  {
   "cell_type": "code",
   "execution_count": 8,
   "id": "281a228a",
   "metadata": {
    "ExecuteTime": {
     "end_time": "2022-02-15T01:10:30.440636Z",
     "start_time": "2022-02-15T01:10:30.426627Z"
    }
   },
   "outputs": [
    {
     "data": {
      "text/plain": [
       "array([1, 0])"
      ]
     },
     "execution_count": 8,
     "metadata": {},
     "output_type": "execute_result"
    }
   ],
   "source": [
    "y_new = knn_model.predict(X_new)\n",
    "y_new"
   ]
  },
  {
   "cell_type": "code",
   "execution_count": 9,
   "id": "0fb5a8ca",
   "metadata": {
    "ExecuteTime": {
     "end_time": "2022-02-15T01:10:30.456639Z",
     "start_time": "2022-02-15T01:10:30.443637Z"
    }
   },
   "outputs": [
    {
     "data": {
      "text/plain": [
       "array(['pacaran', 'jomblo'], dtype='<U7')"
      ]
     },
     "execution_count": 9,
     "metadata": {},
     "output_type": "execute_result"
    }
   ],
   "source": [
    "binarizer.inverse_transform(y_new)"
   ]
  },
  {
   "cell_type": "markdown",
   "id": "e958a8b6",
   "metadata": {
    "slideshow": {
     "slide_type": "subslide"
    }
   },
   "source": [
    "## Visualize KNN Model"
   ]
  },
  {
   "cell_type": "code",
   "execution_count": 10,
   "id": "621472ec",
   "metadata": {
    "ExecuteTime": {
     "end_time": "2022-02-15T01:10:30.707715Z",
     "start_time": "2022-02-15T01:10:30.460640Z"
    }
   },
   "outputs": [
    {
     "data": {
      "image/png": "[encoded data removed]",
      "text/plain": [
       "<Figure size 432x288 with 1 Axes>"
      ]
     },
     "metadata": {
      "needs_background": "light"
     },
     "output_type": "display_data"
    }
   ],
   "source": [
    "import matplotlib.pyplot as plt\n",
    "\n",
    "fig, ax = plt.subplots()\n",
    "for status, data in status_df.groupby('status'):\n",
    "    ax.scatter(data[\"tinggi\"], data[\"mantan\"], label=status)\n",
    "\n",
    "plt.scatter(tinggi_badan_aku,\n",
    "            jumlah_mantan_aku,\n",
    "            marker=\"^\",\n",
    "            color=\"green\",\n",
    "            label=\"aku (jomblo)\")\n",
    "\n",
    "plt.text(tinggi_badan_aku, jumlah_mantan_aku, 'aku', horizontalalignment='right')\n",
    "\n",
    "plt.scatter(tinggi_badan_gebetan,\n",
    "            jumlah_mantan_gebetan,\n",
    "            marker=\"s\",\n",
    "            color=\"yellow\",\n",
    "            label=\"gebetan (pacaran)\")\n",
    "\n",
    "plt.text(tinggi_badan_gebetan, jumlah_mantan_gebetan, 'gebetan')\n",
    "\n",
    "\n",
    "plt.legend(loc='upper left')\n",
    "plt.xlim(140, 190)\n",
    "plt.ylim(0, 12)\n",
    "plt.title(\"Sebaran Data Tinggi Badan, Jumlah Mantan dan Status\")\n",
    "plt.xlabel(\"Tinggi Badan (cm)\")\n",
    "plt.ylabel(\"Jumlah Mantan\")\n",
    "plt.grid(True)\n",
    "plt.show()"
   ]
  },
  {
   "cell_type": "markdown",
   "id": "90341e3d",
   "metadata": {
    "slideshow": {
     "slide_type": "subslide"
    }
   },
   "source": [
    "## Distance Calculation (Euclidean Distance)\n",
    "$distance = \\sqrt{(t_1 - t_2)^2 + (b_1 - b_2)^2}$"
   ]
  },
  {
   "cell_type": "markdown",
   "id": "894475a5",
   "metadata": {
    "ExecuteTime": {
     "end_time": "2022-02-14T01:04:01.004383Z",
     "start_time": "2022-02-14T01:04:00.990055Z"
    }
   },
   "source": [
    "### Aku"
   ]
  },
  {
   "cell_type": "code",
   "execution_count": 11,
   "id": "504834ca",
   "metadata": {
    "ExecuteTime": {
     "end_time": "2022-02-15T01:10:30.738728Z",
     "start_time": "2022-02-15T01:10:30.713712Z"
    }
   },
   "outputs": [
    {
     "data": {
      "text/plain": [
       "array([165,   1])"
      ]
     },
     "execution_count": 11,
     "metadata": {},
     "output_type": "execute_result"
    }
   ],
   "source": [
    "aku = np.array([tinggi_badan_aku, jumlah_mantan_aku])\n",
    "aku"
   ]
  },
  {
   "cell_type": "code",
   "execution_count": 12,
   "id": "0652f0ea",
   "metadata": {
    "ExecuteTime": {
     "end_time": "2022-02-15T01:10:30.753742Z",
     "start_time": "2022-02-15T01:10:30.739725Z"
    }
   },
   "outputs": [
    {
     "data": {
      "text/plain": [
       "[7.280109889280518,\n",
       " 7.0710678118654755,\n",
       " 18.0,\n",
       " 10.770329614269007,\n",
       " 9.219544457292887,\n",
       " 15.033296378372908,\n",
       " 7.0710678118654755,\n",
       " 14.317821063276353]"
      ]
     },
     "execution_count": 12,
     "metadata": {},
     "output_type": "execute_result"
    }
   ],
   "source": [
    "from scipy.spatial.distance import euclidean\n",
    "\n",
    "distance_aku = [euclidean(aku, d) for d in X_train]\n",
    "distance_aku"
   ]
  },
  {
   "cell_type": "code",
   "execution_count": 13,
   "id": "a3dfd00a",
   "metadata": {
    "ExecuteTime": {
     "end_time": "2022-02-15T01:10:30.768889Z",
     "start_time": "2022-02-15T01:10:30.756881Z"
    }
   },
   "outputs": [
    {
     "data": {
      "text/html": [
       "<div>\n",
       "<style scoped>\n",
       "    .dataframe tbody tr th:only-of-type {\n",
       "        vertical-align: middle;\n",
       "    }\n",
       "\n",
       "    .dataframe tbody tr th {\n",
       "        vertical-align: top;\n",
       "    }\n",
       "\n",
       "    .dataframe thead th {\n",
       "        text-align: right;\n",
       "    }\n",
       "</style>\n",
       "<table border=\"1\" class=\"dataframe\">\n",
       "  <thead>\n",
       "    <tr style=\"text-align: right;\">\n",
       "      <th></th>\n",
       "      <th>tinggi</th>\n",
       "      <th>mantan</th>\n",
       "      <th>status</th>\n",
       "      <th>distance</th>\n",
       "    </tr>\n",
       "  </thead>\n",
       "  <tbody>\n",
       "    <tr>\n",
       "      <th>1</th>\n",
       "      <td>170</td>\n",
       "      <td>6</td>\n",
       "      <td>jomblo</td>\n",
       "      <td>7.071068</td>\n",
       "    </tr>\n",
       "    <tr>\n",
       "      <th>6</th>\n",
       "      <td>158</td>\n",
       "      <td>2</td>\n",
       "      <td>jomblo</td>\n",
       "      <td>7.071068</td>\n",
       "    </tr>\n",
       "    <tr>\n",
       "      <th>0</th>\n",
       "      <td>158</td>\n",
       "      <td>3</td>\n",
       "      <td>jomblo</td>\n",
       "      <td>7.280110</td>\n",
       "    </tr>\n",
       "    <tr>\n",
       "      <th>4</th>\n",
       "      <td>163</td>\n",
       "      <td>10</td>\n",
       "      <td>jomblo</td>\n",
       "      <td>9.219544</td>\n",
       "    </tr>\n",
       "    <tr>\n",
       "      <th>3</th>\n",
       "      <td>155</td>\n",
       "      <td>5</td>\n",
       "      <td>pacaran</td>\n",
       "      <td>10.770330</td>\n",
       "    </tr>\n",
       "    <tr>\n",
       "      <th>7</th>\n",
       "      <td>178</td>\n",
       "      <td>7</td>\n",
       "      <td>pacaran</td>\n",
       "      <td>14.317821</td>\n",
       "    </tr>\n",
       "    <tr>\n",
       "      <th>5</th>\n",
       "      <td>180</td>\n",
       "      <td>2</td>\n",
       "      <td>pacaran</td>\n",
       "      <td>15.033296</td>\n",
       "    </tr>\n",
       "    <tr>\n",
       "      <th>2</th>\n",
       "      <td>183</td>\n",
       "      <td>1</td>\n",
       "      <td>pacaran</td>\n",
       "      <td>18.000000</td>\n",
       "    </tr>\n",
       "  </tbody>\n",
       "</table>\n",
       "</div>"
      ],
      "text/plain": [
       "   tinggi  mantan   status   distance\n",
       "1     170       6   jomblo   7.071068\n",
       "6     158       2   jomblo   7.071068\n",
       "0     158       3   jomblo   7.280110\n",
       "4     163      10   jomblo   9.219544\n",
       "3     155       5  pacaran  10.770330\n",
       "7     178       7  pacaran  14.317821\n",
       "5     180       2  pacaran  15.033296\n",
       "2     183       1  pacaran  18.000000"
      ]
     },
     "execution_count": 13,
     "metadata": {},
     "output_type": "execute_result"
    }
   ],
   "source": [
    "status_df[\"distance\"] = distance_aku\n",
    "status_df.sort_values([\"distance\"])"
   ]
  },
  {
   "cell_type": "markdown",
   "id": "de647a17",
   "metadata": {},
   "source": [
    "### Gebetan"
   ]
  },
  {
   "cell_type": "code",
   "execution_count": 14,
   "id": "a81d80a3",
   "metadata": {
    "ExecuteTime": {
     "end_time": "2022-02-15T01:10:30.784628Z",
     "start_time": "2022-02-15T01:10:30.771856Z"
    }
   },
   "outputs": [
    {
     "data": {
      "text/plain": [
       "array([170,   1])"
      ]
     },
     "execution_count": 14,
     "metadata": {},
     "output_type": "execute_result"
    }
   ],
   "source": [
    "gebetan = np.array([tinggi_badan_gebetan, jumlah_mantan_gebetan])\n",
    "gebetan"
   ]
  },
  {
   "cell_type": "code",
   "execution_count": 15,
   "id": "217dd9d9",
   "metadata": {
    "ExecuteTime": {
     "end_time": "2022-02-15T01:10:30.799627Z",
     "start_time": "2022-02-15T01:10:30.787602Z"
    }
   },
   "outputs": [
    {
     "data": {
      "text/plain": [
       "[12.165525060596439,\n",
       " 5.0,\n",
       " 13.0,\n",
       " 15.524174696260024,\n",
       " 11.40175425099138,\n",
       " 10.04987562112089,\n",
       " 12.041594578792296,\n",
       " 10.0]"
      ]
     },
     "execution_count": 15,
     "metadata": {},
     "output_type": "execute_result"
    }
   ],
   "source": [
    "distance_gebetan = [euclidean(gebetan, d) for d in X_train]\n",
    "distance_gebetan"
   ]
  },
  {
   "cell_type": "code",
   "execution_count": 16,
   "id": "587e359a",
   "metadata": {
    "ExecuteTime": {
     "end_time": "2022-02-15T01:10:30.829632Z",
     "start_time": "2022-02-15T01:10:30.801601Z"
    }
   },
   "outputs": [
    {
     "data": {
      "text/html": [
       "<div>\n",
       "<style scoped>\n",
       "    .dataframe tbody tr th:only-of-type {\n",
       "        vertical-align: middle;\n",
       "    }\n",
       "\n",
       "    .dataframe tbody tr th {\n",
       "        vertical-align: top;\n",
       "    }\n",
       "\n",
       "    .dataframe thead th {\n",
       "        text-align: right;\n",
       "    }\n",
       "</style>\n",
       "<table border=\"1\" class=\"dataframe\">\n",
       "  <thead>\n",
       "    <tr style=\"text-align: right;\">\n",
       "      <th></th>\n",
       "      <th>tinggi</th>\n",
       "      <th>mantan</th>\n",
       "      <th>status</th>\n",
       "      <th>distance</th>\n",
       "    </tr>\n",
       "  </thead>\n",
       "  <tbody>\n",
       "    <tr>\n",
       "      <th>1</th>\n",
       "      <td>170</td>\n",
       "      <td>6</td>\n",
       "      <td>jomblo</td>\n",
       "      <td>5.000000</td>\n",
       "    </tr>\n",
       "    <tr>\n",
       "      <th>7</th>\n",
       "      <td>178</td>\n",
       "      <td>7</td>\n",
       "      <td>pacaran</td>\n",
       "      <td>10.000000</td>\n",
       "    </tr>\n",
       "    <tr>\n",
       "      <th>5</th>\n",
       "      <td>180</td>\n",
       "      <td>2</td>\n",
       "      <td>pacaran</td>\n",
       "      <td>10.049876</td>\n",
       "    </tr>\n",
       "    <tr>\n",
       "      <th>4</th>\n",
       "      <td>163</td>\n",
       "      <td>10</td>\n",
       "      <td>jomblo</td>\n",
       "      <td>11.401754</td>\n",
       "    </tr>\n",
       "    <tr>\n",
       "      <th>6</th>\n",
       "      <td>158</td>\n",
       "      <td>2</td>\n",
       "      <td>jomblo</td>\n",
       "      <td>12.041595</td>\n",
       "    </tr>\n",
       "    <tr>\n",
       "      <th>0</th>\n",
       "      <td>158</td>\n",
       "      <td>3</td>\n",
       "      <td>jomblo</td>\n",
       "      <td>12.165525</td>\n",
       "    </tr>\n",
       "    <tr>\n",
       "      <th>2</th>\n",
       "      <td>183</td>\n",
       "      <td>1</td>\n",
       "      <td>pacaran</td>\n",
       "      <td>13.000000</td>\n",
       "    </tr>\n",
       "    <tr>\n",
       "      <th>3</th>\n",
       "      <td>155</td>\n",
       "      <td>5</td>\n",
       "      <td>pacaran</td>\n",
       "      <td>15.524175</td>\n",
       "    </tr>\n",
       "  </tbody>\n",
       "</table>\n",
       "</div>"
      ],
      "text/plain": [
       "   tinggi  mantan   status   distance\n",
       "1     170       6   jomblo   5.000000\n",
       "7     178       7  pacaran  10.000000\n",
       "5     180       2  pacaran  10.049876\n",
       "4     163      10   jomblo  11.401754\n",
       "6     158       2   jomblo  12.041595\n",
       "0     158       3   jomblo  12.165525\n",
       "2     183       1  pacaran  13.000000\n",
       "3     155       5  pacaran  15.524175"
      ]
     },
     "execution_count": 16,
     "metadata": {},
     "output_type": "execute_result"
    }
   ],
   "source": [
    "status_df[\"distance\"] = distance_gebetan\n",
    "status_df.sort_values([\"distance\"])"
   ]
  },
  {
   "cell_type": "markdown",
   "id": "fa04c571",
   "metadata": {
    "slideshow": {
     "slide_type": "slide"
    }
   },
   "source": [
    "# Evaluate Model"
   ]
  },
  {
   "cell_type": "markdown",
   "id": "d91d0df1",
   "metadata": {},
   "source": [
    "## Testing Set"
   ]
  },
  {
   "cell_type": "code",
   "execution_count": 17,
   "id": "b13ed517",
   "metadata": {
    "ExecuteTime": {
     "end_time": "2022-02-15T01:10:30.845565Z",
     "start_time": "2022-02-15T01:10:30.830599Z"
    }
   },
   "outputs": [
    {
     "name": "stdout",
     "output_type": "stream",
     "text": [
      "X_test:\n",
      "[[150   1]\n",
      " [167   4]\n",
      " [180   2]\n",
      " [155   5]]\n",
      "\n",
      "y_test:\n",
      "[[0]\n",
      " [1]\n",
      " [1]\n",
      " [0]]\n"
     ]
    }
   ],
   "source": [
    "X_test = np.array([[150, 1],\n",
    "                  [167, 4],\n",
    "                  [180, 2],\n",
    "                  [155, 5]])\n",
    "\n",
    "y_test = np.array([\"jomblo\", \"pacaran\", \"pacaran\", \"jomblo\"])\n",
    "y_test = binarizer.fit_transform(y_test)\n",
    "print(f\"X_test:\\n{X_test}\\n\")\n",
    "print(f\"y_test:\\n{y_test}\")"
   ]
  },
  {
   "cell_type": "markdown",
   "id": "6a7ce74b",
   "metadata": {
    "slideshow": {
     "slide_type": "subslide"
    }
   },
   "source": [
    "## Predict with test dataset"
   ]
  },
  {
   "cell_type": "code",
   "execution_count": 18,
   "id": "8952e600",
   "metadata": {
    "ExecuteTime": {
     "end_time": "2022-02-15T01:10:30.861553Z",
     "start_time": "2022-02-15T01:10:30.847518Z"
    }
   },
   "outputs": [],
   "source": [
    "y_pred = knn_model.predict(X_test)"
   ]
  },
  {
   "cell_type": "code",
   "execution_count": 19,
   "id": "baf9f946",
   "metadata": {
    "ExecuteTime": {
     "end_time": "2022-02-15T01:10:30.877192Z",
     "start_time": "2022-02-15T01:10:30.863519Z"
    }
   },
   "outputs": [
    {
     "data": {
      "text/plain": [
       "array([0, 0, 1, 0])"
      ]
     },
     "execution_count": 19,
     "metadata": {},
     "output_type": "execute_result"
    }
   ],
   "source": [
    "y_pred"
   ]
  },
  {
   "cell_type": "code",
   "execution_count": 20,
   "id": "76eb5caf",
   "metadata": {
    "ExecuteTime": {
     "end_time": "2022-02-15T01:10:30.893184Z",
     "start_time": "2022-02-15T01:10:30.879178Z"
    }
   },
   "outputs": [
    {
     "data": {
      "text/plain": [
       "array(['jomblo', 'jomblo', 'pacaran', 'jomblo'], dtype='<U7')"
      ]
     },
     "execution_count": 20,
     "metadata": {},
     "output_type": "execute_result"
    }
   ],
   "source": [
    "binarizer.inverse_transform(y_pred)"
   ]
  },
  {
   "cell_type": "markdown",
   "id": "e8307911",
   "metadata": {
    "slideshow": {
     "slide_type": "slide"
    }
   },
   "source": [
    "# Metrics Evaluation"
   ]
  },
  {
   "cell_type": "markdown",
   "id": "40fe1abb",
   "metadata": {
    "slideshow": {
     "slide_type": "-"
    }
   },
   "source": [
    "## Confusion Matrix\n",
    "- Menjelaskan seberapa besar kebingungan modell dalam melakukan prediksi yang direpresentasikan dengan TP (*True Positive*), TN (*True Negative*), FP (*False Positive*), dan FN (*False Negative*).\n",
    "- *True Positive* adalah model memprediksi positif dan secara actual benar-benar positif. Prediksi model dengan keadaan sebenarnya sesuai dalam hal ini positif.\n",
    "- *True Negative* adalah model memprediksi negatif dan secara actual benar-benar negatif. Prediksi model dengan keadaan sebenarnya sesuai dalam hal ini negatif.\n",
    "- *False Positive* adalah model memprediksi positif, tetapi kenyatannya negatif. Prediksi model dengan keadaan sebenarnya tidak sesuai dalam hal ini seharusnya negatif.\n",
    "- *False Negative* adalah model memprediksi negatif, tetapi kenyatannya positif. Prediksi model dengan keadaan sebenarnya tidak sesuai dalam hal ini seharusnya positif."
   ]
  },
  {
   "cell_type": "code",
   "execution_count": 21,
   "id": "02c38061",
   "metadata": {
    "ExecuteTime": {
     "end_time": "2022-02-15T01:10:30.908714Z",
     "start_time": "2022-02-15T01:10:30.896185Z"
    }
   },
   "outputs": [
    {
     "name": "stdout",
     "output_type": "stream",
     "text": [
      "- FP (True Positive)  : 1\n",
      "- FP (False Positive) : 0\n",
      "- TN (True Negative)  : 2\n",
      "- FN (False Negative) : 1\n"
     ]
    }
   ],
   "source": [
    "from sklearn.metrics import confusion_matrix, ConfusionMatrixDisplay\n",
    "\n",
    "confusion_matrix = confusion_matrix(y_test, y_pred)\n",
    "print(f\"- FP (True Positive)  : {confusion_matrix[1, 1]}\")\n",
    "print(f\"- FP (False Positive) : {confusion_matrix[0, 1]}\")\n",
    "print(f\"- TN (True Negative)  : {confusion_matrix[0, 0]}\")\n",
    "print(f\"- FN (False Negative) : {confusion_matrix[1, 0]}\")"
   ]
  },
  {
   "cell_type": "code",
   "execution_count": 22,
   "id": "a30cc031",
   "metadata": {
    "ExecuteTime": {
     "end_time": "2022-02-15T01:10:31.095546Z",
     "start_time": "2022-02-15T01:10:30.910748Z"
    }
   },
   "outputs": [
    {
     "data": {
      "image/png": "[encoded data removed]",
      "text/plain": [
       "<Figure size 432x288 with 2 Axes>"
      ]
     },
     "metadata": {
      "needs_background": "light"
     },
     "output_type": "display_data"
    }
   ],
   "source": [
    "disp = ConfusionMatrixDisplay(confusion_matrix=confusion_matrix, display_labels=knn_model.classes_)\n",
    "disp.plot()\n",
    "plt.xlabel(\"Predict\")\n",
    "plt.ylabel(\"Actual\")\n",
    "plt.xticks([0, 1], [\"Jomblo\", \"Pacaran\"])\n",
    "plt.yticks([0, 1], [\"Jomblo\", \"Pacaran\"])\n",
    "plt.show()"
   ]
  },
  {
   "cell_type": "markdown",
   "id": "0cb3273d",
   "metadata": {
    "slideshow": {
     "slide_type": "subslide"
    }
   },
   "source": [
    "## Accuracy\n",
    "- *Accuracy* adalah persentase model memprediksi dengan benar untuk setiap kelas.\n",
    "- Kekurangan: apabila jumlah *dataset* setiap *class* tidak seimbang, maka hasil akurasi tidak adil.\n",
    "\n",
    "- $accuracy = \\frac{TP\\ +\\ TN}{TP\\ +\\ TN\\ +\\ FP\\ +\\ FN}$"
   ]
  },
  {
   "cell_type": "code",
   "execution_count": 23,
   "id": "171e127a",
   "metadata": {
    "ExecuteTime": {
     "end_time": "2022-02-15T01:10:31.111598Z",
     "start_time": "2022-02-15T01:10:31.097465Z"
    }
   },
   "outputs": [
    {
     "name": "stdout",
     "output_type": "stream",
     "text": [
      "Accuracy: 0.75\n"
     ]
    }
   ],
   "source": [
    "from sklearn.metrics import accuracy_score\n",
    "\n",
    "accuracy = accuracy_score(y_test, y_pred)\n",
    "print(f\"Accuracy: {accuracy}\")"
   ]
  },
  {
   "cell_type": "markdown",
   "id": "8f6d3774",
   "metadata": {
    "slideshow": {
     "slide_type": "subslide"
    }
   },
   "source": [
    "## Precision\n",
    "- Dari data yang diprediksi positif, berapa banyak yang benar.\n",
    "- Digunakan apabila evaluasi fokus untuk menurunkan FP (*False Positive*).\n",
    "- $precision = \\frac{TP}{TP\\ +\\ FP}$"
   ]
  },
  {
   "cell_type": "code",
   "execution_count": 24,
   "id": "3e8f7b61",
   "metadata": {
    "ExecuteTime": {
     "end_time": "2022-02-15T01:10:31.126639Z",
     "start_time": "2022-02-15T01:10:31.113630Z"
    }
   },
   "outputs": [
    {
     "name": "stdout",
     "output_type": "stream",
     "text": [
      "Precision: 1.0\n"
     ]
    }
   ],
   "source": [
    "from sklearn.metrics import precision_score\n",
    "\n",
    "precision = precision_score(y_test, y_pred)\n",
    "print(f\"Precision: {precision}\")"
   ]
  },
  {
   "cell_type": "markdown",
   "id": "95e2a730",
   "metadata": {
    "slideshow": {
     "slide_type": "subslide"
    }
   },
   "source": [
    "## Recall\n",
    "- Istilah lainnya adalah *Sensitivity*.\n",
    "- Dari data yang berlabel positif, berapa banyak yang diprediksi benar oleh model.\n",
    "- Digunakan apabila evaluasi fokus untuk menurunkan FN (*False Negative*).\n",
    "- $recall = \\frac{TP}{TP\\ +\\ FN}$"
   ]
  },
  {
   "cell_type": "code",
   "execution_count": 25,
   "id": "82836a76",
   "metadata": {
    "ExecuteTime": {
     "end_time": "2022-02-15T01:10:31.142672Z",
     "start_time": "2022-02-15T01:10:31.128665Z"
    }
   },
   "outputs": [
    {
     "name": "stdout",
     "output_type": "stream",
     "text": [
      "Precision: 0.5\n"
     ]
    }
   ],
   "source": [
    "from sklearn.metrics import recall_score\n",
    "\n",
    "recall = recall_score(y_test, y_pred)\n",
    "print(f\"Precision: {recall}\")"
   ]
  },
  {
   "cell_type": "markdown",
   "id": "ec9f4f96",
   "metadata": {
    "slideshow": {
     "slide_type": "subslide"
    }
   },
   "source": [
    "## F1-Score\n",
    "- Nilai hramonik antara Precision dan Recall.\n",
    "- $F1 = 2 \\times \\frac{Precision\\ \\times\\ Recall}{Precision\\ +\\ Recall}$"
   ]
  },
  {
   "cell_type": "code",
   "execution_count": 26,
   "id": "9f20f67b",
   "metadata": {
    "ExecuteTime": {
     "end_time": "2022-02-15T01:10:31.157664Z",
     "start_time": "2022-02-15T01:10:31.144641Z"
    }
   },
   "outputs": [
    {
     "name": "stdout",
     "output_type": "stream",
     "text": [
      "F1: 0.6666666666666666\n"
     ]
    }
   ],
   "source": [
    "from sklearn.metrics import f1_score\n",
    "\n",
    "f1_score= f1_score(y_test, y_pred)\n",
    "print(f\"F1: {f1_score}\")"
   ]
  },
  {
   "cell_type": "markdown",
   "id": "62f55333",
   "metadata": {
    "slideshow": {
     "slide_type": "subslide"
    }
   },
   "source": [
    "## Classification Report\n",
    "Memaparkan laporan berupa metrik evaluasi dalam bentuk tabel. Informasi yang disajikan lebih lengkap untuk setiap *class* yang diprediksi."
   ]
  },
  {
   "cell_type": "code",
   "execution_count": 27,
   "id": "7b3ac97e",
   "metadata": {
    "ExecuteTime": {
     "end_time": "2022-02-15T01:10:31.173663Z",
     "start_time": "2022-02-15T01:10:31.159662Z"
    }
   },
   "outputs": [
    {
     "name": "stdout",
     "output_type": "stream",
     "text": [
      "Classification Report:\n",
      "              precision    recall  f1-score   support\n",
      "\n",
      "           0       0.67      1.00      0.80         2\n",
      "           1       1.00      0.50      0.67         2\n",
      "\n",
      "    accuracy                           0.75         4\n",
      "   macro avg       0.83      0.75      0.73         4\n",
      "weighted avg       0.83      0.75      0.73         4\n",
      "\n"
     ]
    }
   ],
   "source": [
    "from sklearn.metrics import classification_report\n",
    "\n",
    "classification_report = classification_report(y_test, y_pred)\n",
    "print(f\"Classification Report:\\n{classification_report}\")"
   ]
  },
  {
   "cell_type": "markdown",
   "id": "ffcb112f",
   "metadata": {
    "slideshow": {
     "slide_type": "subslide"
    }
   },
   "source": [
    "## Matthews Correlation Coefficient (MCC)\n",
    "- Metrik evaluasi yang dikhususkan untuk kasus *binary* dan *multiclass classification*.\n",
    "- $MCC = \\frac{TP\\ \\times\\ TN\\ +\\ FP\\ \\times\\ FN}{ \\sqrt{ (TP\\ +\\ FP)\\ \\times\\ (TP\\ +\\ FN)\\ \\times\\ (TN\\ +\\ FP)\\ \\times\\ (TN\\ +\\ FN)}}$"
   ]
  },
  {
   "cell_type": "code",
   "execution_count": 28,
   "id": "d5e06041",
   "metadata": {
    "ExecuteTime": {
     "end_time": "2022-02-15T01:10:31.188675Z",
     "start_time": "2022-02-15T01:10:31.177663Z"
    }
   },
   "outputs": [
    {
     "name": "stdout",
     "output_type": "stream",
     "text": [
      "MCC: 0.5773502691896258\n"
     ]
    }
   ],
   "source": [
    "from sklearn.metrics import matthews_corrcoef\n",
    "\n",
    "mcc = matthews_corrcoef(y_test, y_pred)\n",
    "print(f\"MCC: {mcc}\")"
   ]
  }
 ],
 "metadata": {
  "celltoolbar": "Slideshow",
  "kernelspec": {
   "display_name": "Python 3 (ipykernel)",
   "language": "python",
   "name": "python3"
  },
  "language_info": {
   "codemirror_mode": {
    "name": "ipython",
    "version": 3
   },
   "file_extension": ".py",
   "mimetype": "text/x-python",
   "name": "python",
   "nbconvert_exporter": "python",
   "pygments_lexer": "ipython3",
   "version": "3.8.12"
  },
  "toc": {
   "base_numbering": 1,
   "nav_menu": {},
   "number_sections": true,
   "sideBar": true,
   "skip_h1_title": false,
   "title_cell": "Table of Contents",
   "title_sidebar": "Contents",
   "toc_cell": false,
   "toc_position": {},
   "toc_section_display": true,
   "toc_window_display": false
  }
 },
 "nbformat": 4,
 "nbformat_minor": 5
}
