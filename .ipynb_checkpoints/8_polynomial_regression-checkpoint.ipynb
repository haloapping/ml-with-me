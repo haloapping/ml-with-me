{
 "cells": [
  {
   "cell_type": "markdown",
   "id": "d9fea385",
   "metadata": {
    "slideshow": {
     "slide_type": "slide"
    }
   },
   "source": [
    "<img src=\"images/kenangan-mantan.jpg\" width=400 />"
   ]
  },
  {
   "cell_type": "markdown",
   "id": "a0341615",
   "metadata": {
    "slideshow": {
     "slide_type": "slide"
    }
   },
   "source": [
    "# Dataset"
   ]
  },
  {
   "cell_type": "markdown",
   "id": "f598dbba",
   "metadata": {
    "ExecuteTime": {
     "end_time": "2022-02-16T11:24:46.981806Z",
     "start_time": "2022-02-16T11:24:46.970649Z"
    }
   },
   "source": [
    "## Train Set"
   ]
  },
  {
   "cell_type": "code",
   "execution_count": 1,
   "id": "fadb4ee4",
   "metadata": {
    "ExecuteTime": {
     "end_time": "2022-02-16T13:02:01.197989Z",
     "start_time": "2022-02-16T13:02:00.604188Z"
    }
   },
   "outputs": [
    {
     "data": {
      "text/html": [
       "<div>\n",
       "<style scoped>\n",
       "    .dataframe tbody tr th:only-of-type {\n",
       "        vertical-align: middle;\n",
       "    }\n",
       "\n",
       "    .dataframe tbody tr th {\n",
       "        vertical-align: top;\n",
       "    }\n",
       "\n",
       "    .dataframe thead th {\n",
       "        text-align: right;\n",
       "    }\n",
       "</style>\n",
       "<table border=\"1\" class=\"dataframe\">\n",
       "  <thead>\n",
       "    <tr style=\"text-align: right;\">\n",
       "      <th></th>\n",
       "      <th>diameter_cm</th>\n",
       "      <th>harga</th>\n",
       "    </tr>\n",
       "  </thead>\n",
       "  <tbody>\n",
       "    <tr>\n",
       "      <th>0</th>\n",
       "      <td>15</td>\n",
       "      <td>18000</td>\n",
       "    </tr>\n",
       "    <tr>\n",
       "      <th>1</th>\n",
       "      <td>20</td>\n",
       "      <td>25500</td>\n",
       "    </tr>\n",
       "    <tr>\n",
       "      <th>2</th>\n",
       "      <td>25</td>\n",
       "      <td>27000</td>\n",
       "    </tr>\n",
       "    <tr>\n",
       "      <th>3</th>\n",
       "      <td>30</td>\n",
       "      <td>33000</td>\n",
       "    </tr>\n",
       "    <tr>\n",
       "      <th>4</th>\n",
       "      <td>35</td>\n",
       "      <td>45000</td>\n",
       "    </tr>\n",
       "  </tbody>\n",
       "</table>\n",
       "</div>"
      ],
      "text/plain": [
       "   diameter_cm  harga\n",
       "0           15  18000\n",
       "1           20  25500\n",
       "2           25  27000\n",
       "3           30  33000\n",
       "4           35  45000"
      ]
     },
     "execution_count": 1,
     "metadata": {},
     "output_type": "execute_result"
    }
   ],
   "source": [
    "import pandas as pd\n",
    "\n",
    "marman_train = {\n",
    "    \"diameter_cm\" : [15, 20, 25, 30, 35],\n",
    "    \"harga\": [18_000, 25_500, 27_000, 33_000, 45_000]\n",
    "}\n",
    "\n",
    "marman_train_df = pd.DataFrame(marman_train)\n",
    "marman_train_df"
   ]
  },
  {
   "cell_type": "code",
   "execution_count": 2,
   "id": "624cbe34",
   "metadata": {
    "ExecuteTime": {
     "end_time": "2022-02-16T13:02:01.213671Z",
     "start_time": "2022-02-16T13:02:01.200669Z"
    }
   },
   "outputs": [
    {
     "name": "stdout",
     "output_type": "stream",
     "text": [
      "X_train:\n",
      "[[15]\n",
      " [20]\n",
      " [25]\n",
      " [30]\n",
      " [35]]\n",
      "\n",
      "y_train:\n",
      "[18000 25500 27000 33000 45000]\n"
     ]
    }
   ],
   "source": [
    "import numpy as np\n",
    "\n",
    "X_train = np.array(marman_train_df[[\"diameter_cm\"]])\n",
    "y_train = np.array(marman_train_df[\"harga\"])\n",
    "\n",
    "print(f\"X_train:\\n{X_train}\\n\")\n",
    "print(f\"y_train:\\n{y_train}\")"
   ]
  },
  {
   "cell_type": "markdown",
   "id": "f683b8cd",
   "metadata": {
    "slideshow": {
     "slide_type": "subslide"
    }
   },
   "source": [
    "## Test Set"
   ]
  },
  {
   "cell_type": "code",
   "execution_count": 3,
   "id": "4351d9be",
   "metadata": {
    "ExecuteTime": {
     "end_time": "2022-02-16T13:02:01.232437Z",
     "start_time": "2022-02-16T13:02:01.216808Z"
    }
   },
   "outputs": [
    {
     "data": {
      "text/html": [
       "<div>\n",
       "<style scoped>\n",
       "    .dataframe tbody tr th:only-of-type {\n",
       "        vertical-align: middle;\n",
       "    }\n",
       "\n",
       "    .dataframe tbody tr th {\n",
       "        vertical-align: top;\n",
       "    }\n",
       "\n",
       "    .dataframe thead th {\n",
       "        text-align: right;\n",
       "    }\n",
       "</style>\n",
       "<table border=\"1\" class=\"dataframe\">\n",
       "  <thead>\n",
       "    <tr style=\"text-align: right;\">\n",
       "      <th></th>\n",
       "      <th>diameter_cm</th>\n",
       "      <th>harga</th>\n",
       "    </tr>\n",
       "  </thead>\n",
       "  <tbody>\n",
       "    <tr>\n",
       "      <th>0</th>\n",
       "      <td>17</td>\n",
       "      <td>20000</td>\n",
       "    </tr>\n",
       "    <tr>\n",
       "      <th>1</th>\n",
       "      <td>22</td>\n",
       "      <td>25500</td>\n",
       "    </tr>\n",
       "    <tr>\n",
       "      <th>2</th>\n",
       "      <td>27</td>\n",
       "      <td>29000</td>\n",
       "    </tr>\n",
       "    <tr>\n",
       "      <th>3</th>\n",
       "      <td>35</td>\n",
       "      <td>39000</td>\n",
       "    </tr>\n",
       "    <tr>\n",
       "      <th>4</th>\n",
       "      <td>45</td>\n",
       "      <td>60000</td>\n",
       "    </tr>\n",
       "  </tbody>\n",
       "</table>\n",
       "</div>"
      ],
      "text/plain": [
       "   diameter_cm  harga\n",
       "0           17  20000\n",
       "1           22  25500\n",
       "2           27  29000\n",
       "3           35  39000\n",
       "4           45  60000"
      ]
     },
     "execution_count": 3,
     "metadata": {},
     "output_type": "execute_result"
    }
   ],
   "source": [
    "marman_test = {\n",
    "    \"diameter_cm\" : [17, 22, 27, 35, 45],\n",
    "    \"harga\": [20_000, 25_500, 29_000, 39_000, 60_000]\n",
    "}\n",
    "\n",
    "marman_test_df = pd.DataFrame(marman_test)\n",
    "marman_test_df"
   ]
  },
  {
   "cell_type": "code",
   "execution_count": 4,
   "id": "949e9b62",
   "metadata": {
    "ExecuteTime": {
     "end_time": "2022-02-16T13:02:01.248011Z",
     "start_time": "2022-02-16T13:02:01.238002Z"
    }
   },
   "outputs": [
    {
     "name": "stdout",
     "output_type": "stream",
     "text": [
      "X_test:\n",
      "[[17]\n",
      " [22]\n",
      " [27]\n",
      " [35]\n",
      " [45]]\n",
      "\n",
      "y_test:\n",
      "[20000 25500 29000 39000 60000]\n"
     ]
    }
   ],
   "source": [
    "X_test = np.array(marman_test_df[[\"diameter_cm\"]])\n",
    "y_test = np.array(marman_test_df[\"harga\"])\n",
    "\n",
    "print(f\"X_test:\\n{X_test}\\n\")\n",
    "print(f\"y_test:\\n{y_test}\")"
   ]
  },
  {
   "cell_type": "markdown",
   "id": "ca02af70",
   "metadata": {
    "slideshow": {
     "slide_type": "slide"
    }
   },
   "source": [
    "# Preprocessing Dataset"
   ]
  },
  {
   "cell_type": "markdown",
   "id": "63a0bc0e",
   "metadata": {},
   "source": [
    "## Train Dataset"
   ]
  },
  {
   "cell_type": "code",
   "execution_count": 5,
   "id": "a5681729",
   "metadata": {
    "ExecuteTime": {
     "end_time": "2022-02-16T13:02:01.847372Z",
     "start_time": "2022-02-16T13:02:01.250004Z"
    }
   },
   "outputs": [
    {
     "data": {
      "text/plain": [
       "array([[1.0000e+00, 1.5000e+01, 2.2500e+02, 3.3750e+03],\n",
       "       [1.0000e+00, 2.0000e+01, 4.0000e+02, 8.0000e+03],\n",
       "       [1.0000e+00, 2.5000e+01, 6.2500e+02, 1.5625e+04],\n",
       "       [1.0000e+00, 3.0000e+01, 9.0000e+02, 2.7000e+04],\n",
       "       [1.0000e+00, 3.5000e+01, 1.2250e+03, 4.2875e+04]])"
      ]
     },
     "execution_count": 5,
     "metadata": {},
     "output_type": "execute_result"
    }
   ],
   "source": [
    "from sklearn.preprocessing import PolynomialFeatures\n",
    "\n",
    "cubic_features = PolynomialFeatures(degree=3)\n",
    "\n",
    "X_train_cubic = cubic_features.fit_transform(X_train)\n",
    "X_train_cubic"
   ]
  },
  {
   "cell_type": "markdown",
   "id": "34146ea1",
   "metadata": {
    "slideshow": {
     "slide_type": "subslide"
    }
   },
   "source": [
    "## Test Dataset"
   ]
  },
  {
   "cell_type": "code",
   "execution_count": 6,
   "id": "3ec4f957",
   "metadata": {
    "ExecuteTime": {
     "end_time": "2022-02-16T13:02:01.866136Z",
     "start_time": "2022-02-16T13:02:01.849333Z"
    }
   },
   "outputs": [
    {
     "data": {
      "text/plain": [
       "array([[1.0000e+00, 1.7000e+01, 2.8900e+02, 4.9130e+03],\n",
       "       [1.0000e+00, 2.2000e+01, 4.8400e+02, 1.0648e+04],\n",
       "       [1.0000e+00, 2.7000e+01, 7.2900e+02, 1.9683e+04],\n",
       "       [1.0000e+00, 3.5000e+01, 1.2250e+03, 4.2875e+04],\n",
       "       [1.0000e+00, 4.5000e+01, 2.0250e+03, 9.1125e+04]])"
      ]
     },
     "execution_count": 6,
     "metadata": {},
     "output_type": "execute_result"
    }
   ],
   "source": [
    "X_test_cubic = cubic_features.transform(X_test)\n",
    "X_test_cubic"
   ]
  },
  {
   "cell_type": "markdown",
   "id": "50720322",
   "metadata": {
    "slideshow": {
     "slide_type": "slide"
    }
   },
   "source": [
    "# Training"
   ]
  },
  {
   "cell_type": "code",
   "execution_count": 7,
   "id": "e66f54c4",
   "metadata": {
    "ExecuteTime": {
     "end_time": "2022-02-16T13:02:01.966796Z",
     "start_time": "2022-02-16T13:02:01.866136Z"
    }
   },
   "outputs": [],
   "source": [
    "from sklearn.linear_model import LinearRegression\n",
    "\n",
    "linear_reg_model = LinearRegression()\n",
    "linear_reg_model.fit(X_train_cubic, y_train);"
   ]
  },
  {
   "cell_type": "markdown",
   "id": "a3a28821",
   "metadata": {
    "slideshow": {
     "slide_type": "slide"
    }
   },
   "source": [
    "# Predict"
   ]
  },
  {
   "cell_type": "code",
   "execution_count": 8,
   "id": "8bb10458",
   "metadata": {
    "ExecuteTime": {
     "end_time": "2022-02-16T13:02:01.982180Z",
     "start_time": "2022-02-16T13:02:01.966796Z"
    }
   },
   "outputs": [
    {
     "data": {
      "text/html": [
       "<div>\n",
       "<style scoped>\n",
       "    .dataframe tbody tr th:only-of-type {\n",
       "        vertical-align: middle;\n",
       "    }\n",
       "\n",
       "    .dataframe tbody tr th {\n",
       "        vertical-align: top;\n",
       "    }\n",
       "\n",
       "    .dataframe thead th {\n",
       "        text-align: right;\n",
       "    }\n",
       "</style>\n",
       "<table border=\"1\" class=\"dataframe\">\n",
       "  <thead>\n",
       "    <tr style=\"text-align: right;\">\n",
       "      <th></th>\n",
       "      <th>diameter_cm</th>\n",
       "      <th>harga_actual</th>\n",
       "      <th>harga_pred</th>\n",
       "      <th>diff</th>\n",
       "    </tr>\n",
       "  </thead>\n",
       "  <tbody>\n",
       "    <tr>\n",
       "      <th>0</th>\n",
       "      <td>17</td>\n",
       "      <td>20000</td>\n",
       "      <td>21744.000000</td>\n",
       "      <td>1744.000000</td>\n",
       "    </tr>\n",
       "    <tr>\n",
       "      <th>1</th>\n",
       "      <td>22</td>\n",
       "      <td>25500</td>\n",
       "      <td>26252.571429</td>\n",
       "      <td>752.571429</td>\n",
       "    </tr>\n",
       "    <tr>\n",
       "      <th>2</th>\n",
       "      <td>27</td>\n",
       "      <td>29000</td>\n",
       "      <td>29089.714286</td>\n",
       "      <td>89.714286</td>\n",
       "    </tr>\n",
       "    <tr>\n",
       "      <th>3</th>\n",
       "      <td>35</td>\n",
       "      <td>39000</td>\n",
       "      <td>45128.571429</td>\n",
       "      <td>6128.571429</td>\n",
       "    </tr>\n",
       "    <tr>\n",
       "      <th>4</th>\n",
       "      <td>45</td>\n",
       "      <td>60000</td>\n",
       "      <td>118200.000000</td>\n",
       "      <td>58200.000000</td>\n",
       "    </tr>\n",
       "  </tbody>\n",
       "</table>\n",
       "</div>"
      ],
      "text/plain": [
       "   diameter_cm  harga_actual     harga_pred          diff\n",
       "0           17         20000   21744.000000   1744.000000\n",
       "1           22         25500   26252.571429    752.571429\n",
       "2           27         29000   29089.714286     89.714286\n",
       "3           35         39000   45128.571429   6128.571429\n",
       "4           45         60000  118200.000000  58200.000000"
      ]
     },
     "execution_count": 8,
     "metadata": {},
     "output_type": "execute_result"
    }
   ],
   "source": [
    "y_pred = linear_reg_model.predict(X_test_cubic)\n",
    "\n",
    "pd.DataFrame({\n",
    "    \"diameter_cm\": X_test[:, 0],\n",
    "    \"harga_actual\": y_test,\n",
    "    \"harga_pred\": y_pred,\n",
    "    \"diff\": abs(y_test - y_pred)\n",
    "})"
   ]
  },
  {
   "cell_type": "markdown",
   "id": "02a0d2f8",
   "metadata": {
    "slideshow": {
     "slide_type": "slide"
    }
   },
   "source": [
    "# Visualize Prediction"
   ]
  },
  {
   "cell_type": "code",
   "execution_count": 9,
   "id": "3a4fc8d2",
   "metadata": {
    "ExecuteTime": {
     "end_time": "2022-02-16T13:02:03.054377Z",
     "start_time": "2022-02-16T13:02:01.982180Z"
    }
   },
   "outputs": [
    {
     "data": {
      "image/png": "[encoded data removed]",
      "text/plain": [
       "<Figure size 432x288 with 1 Axes>"
      ]
     },
     "metadata": {
      "needs_background": "light"
     },
     "output_type": "display_data"
    }
   ],
   "source": [
    "import matplotlib.pyplot as plt\n",
    "\n",
    "X_vis = np.linspace(0, 40, 100).reshape(-1, 1)\n",
    "X_vis_cubic = cubic_features.transform(X_vis)\n",
    "y_vis_cubic = linear_reg_model.predict(X_vis_cubic)\n",
    "\n",
    "plt.scatter(X_train, y_train)\n",
    "plt.plot(X_vis, y_vis_cubic, \"-r\")\n",
    "\n",
    "plt.title(\"Perbandingan Diameter dan Harga Marman\")\n",
    "plt.xlabel(\"Diameter (cm)\")\n",
    "plt.ylabel(\"Zimbabwean Dollar\")\n",
    "plt.xlim(8, 40)\n",
    "plt.ylim(0, 70_000)\n",
    "plt.grid(True)\n",
    "plt.show()"
   ]
  },
  {
   "cell_type": "markdown",
   "id": "430abf69",
   "metadata": {
    "slideshow": {
     "slide_type": "slide"
    }
   },
   "source": [
    "# Linear VS Quadratic VS Cubic"
   ]
  },
  {
   "cell_type": "code",
   "execution_count": 10,
   "id": "1ebb6efa",
   "metadata": {
    "ExecuteTime": {
     "end_time": "2022-02-16T13:02:03.282449Z",
     "start_time": "2022-02-16T13:02:03.054377Z"
    }
   },
   "outputs": [
    {
     "data": {
      "image/png": "[encoded data removed]",
      "text/plain": [
       "<Figure size 432x288 with 1 Axes>"
      ]
     },
     "metadata": {
      "needs_background": "light"
     },
     "output_type": "display_data"
    }
   ],
   "source": [
    "# Training Set\n",
    "plt.scatter(X_train, y_train)\n",
    "\n",
    "# Linear\n",
    "model = LinearRegression()\n",
    "model.fit(X_train, y_train)\n",
    "X_vis = np.linspace(0, 40, 100).reshape(-1, 1)\n",
    "y_vis = model.predict(X_vis)\n",
    "plt.plot(X_vis, y_vis, '--r', label='linear')\n",
    "\n",
    "# Quadratic\n",
    "quadratic_feature = PolynomialFeatures(degree=2)\n",
    "X_train_quadratic = quadratic_feature.fit_transform(X_train)\n",
    "model = LinearRegression()\n",
    "model.fit(X_train_quadratic, y_train)\n",
    "X_vis_quadratic = quadratic_feature.transform(X_vis)\n",
    "y_vis = model.predict(X_vis_quadratic)\n",
    "plt.plot(X_vis, y_vis, '--g', label='quadratic')\n",
    "\n",
    "# Cubic\n",
    "cubic_feature = PolynomialFeatures(degree=3)\n",
    "X_train_cubic = cubic_feature.fit_transform(X_train)\n",
    "model = LinearRegression()\n",
    "model.fit(X_train_cubic, y_train)\n",
    "X_vis_cubic = cubic_feature.transform(X_vis)\n",
    "y_vis = model.predict(X_vis_cubic)\n",
    "plt.plot(X_vis, y_vis, '--y', label='cubic')\n",
    "\n",
    "plt.title('Perbandingan Diameter (cm) dan Harga Marman')\n",
    "plt.xlabel('Diameter (cm)')\n",
    "plt.ylabel('Harga (Zimbabwean dollar)')\n",
    "plt.xlim(8, 40)\n",
    "plt.ylim(0, 70_000)\n",
    "plt.legend()\n",
    "plt.grid(True)\n",
    "plt.show()"
   ]
  },
  {
   "cell_type": "markdown",
   "id": "ea7499fc",
   "metadata": {
    "slideshow": {
     "slide_type": "slide"
    }
   },
   "source": [
    "# Evaluate"
   ]
  },
  {
   "cell_type": "markdown",
   "id": "c4a6abe4",
   "metadata": {},
   "source": [
    "## R-Squared, MAE, and MSE"
   ]
  },
  {
   "cell_type": "code",
   "execution_count": 11,
   "id": "0741e0fd",
   "metadata": {
    "ExecuteTime": {
     "end_time": "2022-02-16T13:02:03.297988Z",
     "start_time": "2022-02-16T13:02:03.283957Z"
    }
   },
   "outputs": [
    {
     "name": "stdout",
     "output_type": "stream",
     "text": [
      "R^2: -2.456760774483238\n",
      "MAE: 13382.971428513041\n",
      "MSE: 685683067.226495\n"
     ]
    }
   ],
   "source": [
    "from sklearn.metrics import r2_score, mean_absolute_error, mean_squared_error\n",
    "\n",
    "r_squared_score = r2_score(y_test, y_pred)\n",
    "mae = mean_absolute_error(y_test, y_pred)\n",
    "mse = mean_squared_error(y_test, y_pred)\n",
    "\n",
    "print(f\"R^2: {r_squared_score}\")\n",
    "print(f\"MAE: {mae}\")\n",
    "print(f\"MSE: {mse}\")"
   ]
  },
  {
   "cell_type": "markdown",
   "id": "fce92e57",
   "metadata": {
    "slideshow": {
     "slide_type": "subslide"
    }
   },
   "source": [
    "## Train and Test Set"
   ]
  },
  {
   "cell_type": "code",
   "execution_count": 13,
   "id": "8e5a97d4",
   "metadata": {
    "ExecuteTime": {
     "end_time": "2022-02-16T13:06:40.129949Z",
     "start_time": "2022-02-16T13:06:39.937350Z"
    }
   },
   "outputs": [
    {
     "data": {
      "image/png": "[encoded data removed]",
      "text/plain": [
       "<Figure size 432x288 with 1 Axes>"
      ]
     },
     "metadata": {
      "needs_background": "light"
     },
     "output_type": "display_data"
    }
   ],
   "source": [
    "plt.scatter(X_train, y_train, label='train')\n",
    "plt.scatter(X_test, y_test, label='test')\n",
    "\n",
    "cubic_feature = PolynomialFeatures(degree=3)\n",
    "X_train_cubic = cubic_feature.fit_transform(X_train)\n",
    "model = LinearRegression()\n",
    "model.fit(X_train_cubic, y_train)\n",
    "X_vis_cubic = cubic_feature.transform(X_vis)\n",
    "y_vis = model.predict(X_vis_cubic)\n",
    "plt.plot(X_vis, y_vis, '--g', label=\"polynomial model\")\n",
    "\n",
    "plt.title('Perbandingan Diameter dan Harga Marman')\n",
    "plt.xlabel('Diameter (cm)')\n",
    "plt.ylabel('Harga (Zimbabwean dollar)')\n",
    "plt.legend()\n",
    "plt.xlim(8, 40)\n",
    "plt.ylim(0, 70_000)\n",
    "plt.grid(True)\n",
    "plt.show()"
   ]
  },
  {
   "cell_type": "code",
   "execution_count": null,
   "id": "5abbbd81",
   "metadata": {},
   "outputs": [],
   "source": []
  }
 ],
 "metadata": {
  "celltoolbar": "Slideshow",
  "kernelspec": {
   "display_name": "Python 3 (ipykernel)",
   "language": "python",
   "name": "python3"
  },
  "language_info": {
   "codemirror_mode": {
    "name": "ipython",
    "version": 3
   },
   "file_extension": ".py",
   "mimetype": "text/x-python",
   "name": "python",
   "nbconvert_exporter": "python",
   "pygments_lexer": "ipython3",
   "version": "3.8.12"
  },
  "nbTranslate": {
   "displayLangs": [
    "*"
   ],
   "hotkey": "alt-t",
   "langInMainMenu": true,
   "sourceLang": "en",
   "targetLang": "fr",
   "useGoogleTranslate": true
  },
  "toc": {
   "base_numbering": 1,
   "nav_menu": {},
   "number_sections": true,
   "sideBar": true,
   "skip_h1_title": false,
   "title_cell": "Table of Contents",
   "title_sidebar": "Contents",
   "toc_cell": false,
   "toc_position": {},
   "toc_section_display": true,
   "toc_window_display": false
  }
 },
 "nbformat": 4,
 "nbformat_minor": 5
}
