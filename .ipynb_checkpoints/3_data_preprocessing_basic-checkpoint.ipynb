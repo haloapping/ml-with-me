{
 "cells": [
  {
   "cell_type": "markdown",
   "id": "dc8f1928",
   "metadata": {},
   "source": [
    "# Import Library"
   ]
  },
  {
   "cell_type": "code",
   "execution_count": 1,
   "id": "1736774c",
   "metadata": {
    "ExecuteTime": {
     "end_time": "2022-02-13T03:55:52.686059Z",
     "start_time": "2022-02-13T03:55:47.899685Z"
    }
   },
   "outputs": [],
   "source": [
    "import numpy as np\n",
    "from sklearn import preprocessing"
   ]
  },
  {
   "cell_type": "markdown",
   "id": "01856999",
   "metadata": {},
   "source": [
    "# Sample Data"
   ]
  },
  {
   "cell_type": "code",
   "execution_count": 2,
   "id": "2a1c9e3b",
   "metadata": {
    "ExecuteTime": {
     "end_time": "2022-02-13T03:55:52.716933Z",
     "start_time": "2022-02-13T03:55:52.694652Z"
    }
   },
   "outputs": [],
   "source": [
    "sample_data = np.array([[2.1, -1.9, 0.5],\n",
    "                       [-1.5, 2.4, 3.5],\n",
    "                       [-0.5, 0.6, 0.55],\n",
    "                       [-0.55, 2.5, -5.7]])"
   ]
  },
  {
   "cell_type": "code",
   "execution_count": 3,
   "id": "7a4fd03a",
   "metadata": {
    "ExecuteTime": {
     "end_time": "2022-02-13T03:55:52.778670Z",
     "start_time": "2022-02-13T03:55:52.725303Z"
    }
   },
   "outputs": [
    {
     "data": {
      "text/plain": [
       "array([[ 2.1 , -1.9 ,  0.5 ],\n",
       "       [-1.5 ,  2.4 ,  3.5 ],\n",
       "       [-0.5 ,  0.6 ,  0.55],\n",
       "       [-0.55,  2.5 , -5.7 ]])"
      ]
     },
     "execution_count": 3,
     "metadata": {},
     "output_type": "execute_result"
    }
   ],
   "source": [
    "sample_data"
   ]
  },
  {
   "cell_type": "code",
   "execution_count": 4,
   "id": "3c8c5df0",
   "metadata": {
    "ExecuteTime": {
     "end_time": "2022-02-13T03:55:52.809215Z",
     "start_time": "2022-02-13T03:55:52.783851Z"
    }
   },
   "outputs": [
    {
     "name": "stdout",
     "output_type": "stream",
     "text": [
      "Number of row    : 4\n",
      "NUmber of column : 3\n"
     ]
    }
   ],
   "source": [
    "row, column = sample_data.shape\n",
    "print(f\"Number of row    : {row}\")\n",
    "print(f\"Number of column : {column}\")"
   ]
  },
  {
   "cell_type": "markdown",
   "id": "7f7151fb",
   "metadata": {},
   "source": [
    "# Preprocessing Data"
   ]
  },
  {
   "cell_type": "markdown",
   "id": "74b61a32",
   "metadata": {},
   "source": [
    "## Binarization\n",
    "Mengubah data menjadi 0 atau 1 berdasarkan batasan yang ditentukan."
   ]
  },
  {
   "cell_type": "code",
   "execution_count": 5,
   "id": "3d4d1ca2",
   "metadata": {
    "ExecuteTime": {
     "end_time": "2022-02-13T03:55:52.841730Z",
     "start_time": "2022-02-13T03:55:52.815783Z"
    }
   },
   "outputs": [
    {
     "name": "stdout",
     "output_type": "stream",
     "text": [
      "Before:\n",
      "[[ 2.1  -1.9   0.5 ]\n",
      " [-1.5   2.4   3.5 ]\n",
      " [-0.5   0.6   0.55]\n",
      " [-0.55  2.5  -5.7 ]]\n",
      "\n",
      "After:\n",
      "[[1. 0. 0.]\n",
      " [0. 1. 1.]\n",
      " [0. 1. 1.]\n",
      " [0. 1. 0.]]\n"
     ]
    }
   ],
   "source": [
    "binarizer = preprocessing.Binarizer(threshold=0.5)\n",
    "binarized_data = binarizer.fit_transform(sample_data)\n",
    "\n",
    "print(f\"Before:\\n{sample_data}\\n\")\n",
    "print(f\"After:\\n{binarized_data}\")"
   ]
  },
  {
   "cell_type": "markdown",
   "id": "30793c9f",
   "metadata": {},
   "source": [
    "## Min Max Scaling\n",
    "Membuat sekumpulan nilai berada direntang nilai yang telah ditentukan batasannya."
   ]
  },
  {
   "cell_type": "code",
   "execution_count": 6,
   "id": "aa716277",
   "metadata": {
    "ExecuteTime": {
     "end_time": "2022-02-13T03:55:52.871474Z",
     "start_time": "2022-02-13T03:55:52.848938Z"
    }
   },
   "outputs": [
    {
     "name": "stdout",
     "output_type": "stream",
     "text": [
      "Before:\n",
      "[[ 2.1  -1.9   0.5 ]\n",
      " [-1.5   2.4   3.5 ]\n",
      " [-0.5   0.6   0.55]\n",
      " [-0.55  2.5  -5.7 ]]\n",
      "\n",
      "After:\n",
      "[[1.         0.         0.67391304]\n",
      " [0.         0.97727273 1.        ]\n",
      " [0.27777778 0.56818182 0.67934783]\n",
      " [0.26388889 1.         0.        ]]\n"
     ]
    }
   ],
   "source": [
    "min_max_scaler = preprocessing.MinMaxScaler(feature_range=(0, 1))\n",
    "min_max_data = min_max_scaler.fit_transform(sample_data)\n",
    "\n",
    "print(f\"Before:\\n{sample_data}\\n\")\n",
    "print(f\"After:\\n{min_max_data}\")"
   ]
  },
  {
   "cell_type": "markdown",
   "id": "d72fae5f",
   "metadata": {},
   "source": [
    "## Standard Scaler"
   ]
  },
  {
   "cell_type": "code",
   "execution_count": 11,
   "id": "9c5cad7f",
   "metadata": {
    "ExecuteTime": {
     "end_time": "2022-02-13T04:02:52.572645Z",
     "start_time": "2022-02-13T04:02:52.550120Z"
    }
   },
   "outputs": [
    {
     "name": "stdout",
     "output_type": "stream",
     "text": [
      "Before:\n",
      "[[ 2.1  -1.9   0.5 ]\n",
      " [-1.5   2.4   3.5 ]\n",
      " [-0.5   0.6   0.55]\n",
      " [-0.55  2.5  -5.7 ]]\n",
      "\n",
      "After:\n",
      "[[ 1.65348366 -1.56892908  0.23488666]\n",
      " [-1.03693043  0.84049772  1.12969298]\n",
      " [-0.28959318 -0.16809954  0.2498001 ]\n",
      " [-0.32696005  0.8965309  -1.61437974]]\n"
     ]
    }
   ],
   "source": [
    "standard_scaler = preprocessing.StandardScaler()\n",
    "standard_scaler_data = standard_scaler.fit_transform(sample_data)\n",
    "\n",
    "print(f\"Before:\\n{sample_data}\\n\")\n",
    "print(f\"After:\\n{standard_scaler_data}\")"
   ]
  },
  {
   "cell_type": "markdown",
   "id": "7cba48bf",
   "metadata": {},
   "source": [
    "## L1 Normalization: Least Absolute Deviations"
   ]
  },
  {
   "cell_type": "code",
   "execution_count": 7,
   "id": "2548335a",
   "metadata": {
    "ExecuteTime": {
     "end_time": "2022-02-13T03:55:52.902013Z",
     "start_time": "2022-02-13T03:55:52.881743Z"
    }
   },
   "outputs": [
    {
     "name": "stdout",
     "output_type": "stream",
     "text": [
      "Before:\n",
      "[[ 2.1  -1.9   0.5 ]\n",
      " [-1.5   2.4   3.5 ]\n",
      " [-0.5   0.6   0.55]\n",
      " [-0.55  2.5  -5.7 ]]\n",
      "\n",
      "After:\n",
      "[[ 0.46666667 -0.42222222  0.11111111]\n",
      " [-0.2027027   0.32432432  0.47297297]\n",
      " [-0.3030303   0.36363636  0.33333333]\n",
      " [-0.06285714  0.28571429 -0.65142857]]\n"
     ]
    }
   ],
   "source": [
    "l1_normalizer = preprocessing.Normalizer(norm=\"l1\")\n",
    "l1_normalizer_data = l1_normalizer.fit_transform(sample_data)\n",
    "\n",
    "print(f\"Before:\\n{sample_data}\\n\")\n",
    "print(f\"After:\\n{l1_normalizer_data}\")"
   ]
  },
  {
   "cell_type": "markdown",
   "id": "880ef61d",
   "metadata": {},
   "source": [
    "## L2 Normalization: Least Square"
   ]
  },
  {
   "cell_type": "code",
   "execution_count": 8,
   "id": "d009b554",
   "metadata": {
    "ExecuteTime": {
     "end_time": "2022-02-13T03:57:58.475330Z",
     "start_time": "2022-02-13T03:57:58.446050Z"
    }
   },
   "outputs": [
    {
     "name": "stdout",
     "output_type": "stream",
     "text": [
      "Before:\n",
      "[[ 2.1  -1.9   0.5 ]\n",
      " [-1.5   2.4   3.5 ]\n",
      " [-0.5   0.6   0.55]\n",
      " [-0.55  2.5  -5.7 ]]\n",
      "\n",
      "After:\n",
      "[[ 0.73024155 -0.66069474  0.17386704]\n",
      " [-0.33325106  0.53320169  0.7775858 ]\n",
      " [-0.52342392  0.62810871  0.57576631]\n",
      " [-0.08802254  0.40010244 -0.91223356]]\n"
     ]
    }
   ],
   "source": [
    "l2_normalizer = preprocessing.Normalizer(norm=\"l2\")\n",
    "l2_normalizer_data = l2_normalizer.fit_transform(sample_data)\n",
    "\n",
    "print(f\"Before:\\n{sample_data}\\n\")\n",
    "print(f\"After:\\n{l2_normalizer_data}\")"
   ]
  },
  {
   "cell_type": "code",
   "execution_count": null,
   "id": "4ed6e47b",
   "metadata": {},
   "outputs": [],
   "source": []
  }
 ],
 "metadata": {
  "kernelspec": {
   "display_name": "Python 3",
   "language": "python",
   "name": "python3"
  },
  "language_info": {
   "codemirror_mode": {
    "name": "ipython",
    "version": 3
   },
   "file_extension": ".py",
   "mimetype": "text/x-python",
   "name": "python",
   "nbconvert_exporter": "python",
   "pygments_lexer": "ipython3",
   "version": "3.8.8"
  },
  "toc": {
   "base_numbering": 1,
   "nav_menu": {},
   "number_sections": true,
   "sideBar": true,
   "skip_h1_title": false,
   "title_cell": "Table of Contents",
   "title_sidebar": "Contents",
   "toc_cell": false,
   "toc_position": {},
   "toc_section_display": true,
   "toc_window_display": false
  }
 },
 "nbformat": 4,
 "nbformat_minor": 5
}
