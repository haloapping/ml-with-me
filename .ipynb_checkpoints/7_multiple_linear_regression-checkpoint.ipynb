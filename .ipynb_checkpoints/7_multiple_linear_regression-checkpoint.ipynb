{
 "cells": [
  {
   "cell_type": "markdown",
   "id": "dd8f0afb",
   "metadata": {
    "slideshow": {
     "slide_type": "slide"
    }
   },
   "source": [
    "<img src=\"images/marman.jpg\" width=400 />"
   ]
  },
  {
   "cell_type": "markdown",
   "id": "e9c0a8fd",
   "metadata": {
    "slideshow": {
     "slide_type": "slide"
    }
   },
   "source": [
    "# Objective"
   ]
  },
  {
   "cell_type": "markdown",
   "id": "949c5c18",
   "metadata": {},
   "source": [
    "Memprediksi harga martabak manis (marman) berdasarkan diameter (cm) dan jumlah topping.\n",
    "<br><br>\n"
   ]
  },
  {
   "cell_type": "markdown",
   "id": "e3fc456b",
   "metadata": {
    "slideshow": {
     "slide_type": "slide"
    }
   },
   "source": [
    "# Multiple Linear Regression\n",
    "- Bentuk pengembangan dari *Simple Linear Regression*, dimana pada *Multiple Linear Regression* jumlah fitur masukan yang digunakan adalah lebih dari 1 fitur.\n",
    "- $y_{hat}\\ =\\ \\alpha\\ +\\ \\beta_1x_1\\ +\\ \\beta_2x_2\\ +\\ ...\\ +\\ \\beta_n x_n$"
   ]
  },
  {
   "cell_type": "markdown",
   "id": "47861b63",
   "metadata": {
    "slideshow": {
     "slide_type": "slide"
    }
   },
   "source": [
    "# Sample Dataset"
   ]
  },
  {
   "cell_type": "markdown",
   "id": "f5299937",
   "metadata": {},
   "source": [
    "## Train Dataset"
   ]
  },
  {
   "cell_type": "code",
   "execution_count": 1,
   "id": "63129c38",
   "metadata": {
    "ExecuteTime": {
     "end_time": "2022-02-16T06:33:16.053206Z",
     "start_time": "2022-02-16T06:33:14.409827Z"
    }
   },
   "outputs": [
    {
     "data": {
      "text/html": [
       "<div>\n",
       "<style scoped>\n",
       "    .dataframe tbody tr th:only-of-type {\n",
       "        vertical-align: middle;\n",
       "    }\n",
       "\n",
       "    .dataframe tbody tr th {\n",
       "        vertical-align: top;\n",
       "    }\n",
       "\n",
       "    .dataframe thead th {\n",
       "        text-align: right;\n",
       "    }\n",
       "</style>\n",
       "<table border=\"1\" class=\"dataframe\">\n",
       "  <thead>\n",
       "    <tr style=\"text-align: right;\">\n",
       "      <th></th>\n",
       "      <th>diameter_cm</th>\n",
       "      <th>n_topping</th>\n",
       "      <th>harga</th>\n",
       "    </tr>\n",
       "  </thead>\n",
       "  <tbody>\n",
       "    <tr>\n",
       "      <th>0</th>\n",
       "      <td>15</td>\n",
       "      <td>1</td>\n",
       "      <td>18000</td>\n",
       "    </tr>\n",
       "    <tr>\n",
       "      <th>1</th>\n",
       "      <td>20</td>\n",
       "      <td>2</td>\n",
       "      <td>25500</td>\n",
       "    </tr>\n",
       "    <tr>\n",
       "      <th>2</th>\n",
       "      <td>25</td>\n",
       "      <td>3</td>\n",
       "      <td>27000</td>\n",
       "    </tr>\n",
       "    <tr>\n",
       "      <th>3</th>\n",
       "      <td>30</td>\n",
       "      <td>4</td>\n",
       "      <td>33000</td>\n",
       "    </tr>\n",
       "    <tr>\n",
       "      <th>4</th>\n",
       "      <td>35</td>\n",
       "      <td>5</td>\n",
       "      <td>45000</td>\n",
       "    </tr>\n",
       "  </tbody>\n",
       "</table>\n",
       "</div>"
      ],
      "text/plain": [
       "   diameter_cm  n_topping  harga\n",
       "0           15          1  18000\n",
       "1           20          2  25500\n",
       "2           25          3  27000\n",
       "3           30          4  33000\n",
       "4           35          5  45000"
      ]
     },
     "execution_count": 1,
     "metadata": {},
     "output_type": "execute_result"
    }
   ],
   "source": [
    "import pandas as pd\n",
    "\n",
    "marman_train = {\n",
    "    \"diameter_cm\" : [15, 20, 25, 30, 35],\n",
    "    \"n_topping\": [1, 2, 3, 4, 5],\n",
    "    \"harga\": [18_000, 25_500, 27_000, 33_000, 45_000]\n",
    "}\n",
    "\n",
    "marman_train_df = pd.DataFrame(marman_train)\n",
    "marman_train_df"
   ]
  },
  {
   "cell_type": "code",
   "execution_count": 2,
   "id": "47f17a1c",
   "metadata": {
    "ExecuteTime": {
     "end_time": "2022-02-16T06:33:16.115912Z",
     "start_time": "2022-02-16T06:33:16.067144Z"
    }
   },
   "outputs": [
    {
     "name": "stdout",
     "output_type": "stream",
     "text": [
      "X_train:\n",
      "[[15  1]\n",
      " [20  2]\n",
      " [25  3]\n",
      " [30  4]\n",
      " [35  5]]\n",
      "\n",
      "y_train:\n",
      "[18000 25500 27000 33000 45000]\n"
     ]
    }
   ],
   "source": [
    "import numpy as np\n",
    "\n",
    "X_train = np.array(marman_train_df[[\"diameter_cm\", \"n_topping\"]])\n",
    "y_train = np.array(marman_train_df[\"harga\"])\n",
    "\n",
    "print(f\"X_train:\\n{X_train}\\n\")\n",
    "print(f\"y_train:\\n{y_train}\")"
   ]
  },
  {
   "cell_type": "markdown",
   "id": "1dd21d78",
   "metadata": {
    "slideshow": {
     "slide_type": "-"
    }
   },
   "source": [
    "### Visualize Diameter and Harga Marman with Scatter Plot"
   ]
  },
  {
   "cell_type": "code",
   "execution_count": 3,
   "id": "ddbc2ad9",
   "metadata": {
    "ExecuteTime": {
     "end_time": "2022-02-16T06:33:21.844244Z",
     "start_time": "2022-02-16T06:33:16.128043Z"
    }
   },
   "outputs": [
    {
     "data": {
      "image/png": "[encoded data removed]",
      "text/plain": [
       "<Figure size 432x288 with 1 Axes>"
      ]
     },
     "metadata": {
      "needs_background": "light"
     },
     "output_type": "display_data"
    }
   ],
   "source": [
    "marman_train_df.plot(kind=\"scatter\",\n",
    "                     x=\"diameter_cm\",\n",
    "                     y=\"harga\",\n",
    "                     title=\"Sebaran data Harga (Zimbabwean dollar) dan Diameter(cm) Martabak Manis\",\n",
    "                     legend=False,\n",
    "                     grid=True);"
   ]
  },
  {
   "cell_type": "markdown",
   "id": "7d0708e8",
   "metadata": {
    "slideshow": {
     "slide_type": "-"
    }
   },
   "source": [
    "### Visualize Jumlah Topping and Harga Marman with Scatter Plot"
   ]
  },
  {
   "cell_type": "code",
   "execution_count": 4,
   "id": "36bb3658",
   "metadata": {
    "ExecuteTime": {
     "end_time": "2022-02-16T06:33:22.573696Z",
     "start_time": "2022-02-16T06:33:21.856011Z"
    }
   },
   "outputs": [
    {
     "data": {
      "image/png": "[encoded data removed]",
      "text/plain": [
       "<Figure size 432x288 with 1 Axes>"
      ]
     },
     "metadata": {
      "needs_background": "light"
     },
     "output_type": "display_data"
    }
   ],
   "source": [
    "marman_train_df.plot(kind=\"scatter\",\n",
    "                     x=\"n_topping\",\n",
    "                     y=\"harga\",\n",
    "                     title=\"Sebaran data Harga (Zimbabwean dollar) dan Jumlah Topping Martabak Manis\",\n",
    "                     legend=False,\n",
    "                     grid=True);"
   ]
  },
  {
   "cell_type": "markdown",
   "id": "68dada6b",
   "metadata": {
    "slideshow": {
     "slide_type": "subslide"
    }
   },
   "source": [
    "## Test Dataset"
   ]
  },
  {
   "cell_type": "code",
   "execution_count": 5,
   "id": "15f77d6f",
   "metadata": {
    "ExecuteTime": {
     "end_time": "2022-02-16T06:33:22.635532Z",
     "start_time": "2022-02-16T06:33:22.580452Z"
    }
   },
   "outputs": [
    {
     "data": {
      "text/html": [
       "<div>\n",
       "<style scoped>\n",
       "    .dataframe tbody tr th:only-of-type {\n",
       "        vertical-align: middle;\n",
       "    }\n",
       "\n",
       "    .dataframe tbody tr th {\n",
       "        vertical-align: top;\n",
       "    }\n",
       "\n",
       "    .dataframe thead th {\n",
       "        text-align: right;\n",
       "    }\n",
       "</style>\n",
       "<table border=\"1\" class=\"dataframe\">\n",
       "  <thead>\n",
       "    <tr style=\"text-align: right;\">\n",
       "      <th></th>\n",
       "      <th>diameter_cm</th>\n",
       "      <th>n_topping</th>\n",
       "      <th>harga</th>\n",
       "    </tr>\n",
       "  </thead>\n",
       "  <tbody>\n",
       "    <tr>\n",
       "      <th>0</th>\n",
       "      <td>17</td>\n",
       "      <td>2</td>\n",
       "      <td>20000</td>\n",
       "    </tr>\n",
       "    <tr>\n",
       "      <th>1</th>\n",
       "      <td>22</td>\n",
       "      <td>3</td>\n",
       "      <td>25500</td>\n",
       "    </tr>\n",
       "    <tr>\n",
       "      <th>2</th>\n",
       "      <td>27</td>\n",
       "      <td>4</td>\n",
       "      <td>29000</td>\n",
       "    </tr>\n",
       "    <tr>\n",
       "      <th>3</th>\n",
       "      <td>35</td>\n",
       "      <td>5</td>\n",
       "      <td>39000</td>\n",
       "    </tr>\n",
       "    <tr>\n",
       "      <th>4</th>\n",
       "      <td>45</td>\n",
       "      <td>6</td>\n",
       "      <td>60000</td>\n",
       "    </tr>\n",
       "  </tbody>\n",
       "</table>\n",
       "</div>"
      ],
      "text/plain": [
       "   diameter_cm  n_topping  harga\n",
       "0           17          2  20000\n",
       "1           22          3  25500\n",
       "2           27          4  29000\n",
       "3           35          5  39000\n",
       "4           45          6  60000"
      ]
     },
     "execution_count": 5,
     "metadata": {},
     "output_type": "execute_result"
    }
   ],
   "source": [
    "import pandas as pd\n",
    "\n",
    "marman_test = {\n",
    "    \"diameter_cm\" : [17, 22, 27, 35, 45],\n",
    "    \"n_topping\": [2, 3, 4, 5, 6],\n",
    "    \"harga\": [20_000, 25_500, 29_000, 39_000, 60_000]\n",
    "}\n",
    "\n",
    "marman_test_df = pd.DataFrame(marman_test)\n",
    "marman_test_df"
   ]
  },
  {
   "cell_type": "code",
   "execution_count": 6,
   "id": "ada69a5a",
   "metadata": {
    "ExecuteTime": {
     "end_time": "2022-02-16T06:33:22.668688Z",
     "start_time": "2022-02-16T06:33:22.644549Z"
    }
   },
   "outputs": [
    {
     "name": "stdout",
     "output_type": "stream",
     "text": [
      "X_test:\n",
      "[[17  2]\n",
      " [22  3]\n",
      " [27  4]\n",
      " [35  5]\n",
      " [45  6]]\n",
      "\n",
      "y_test:\n",
      "[20000 25500 29000 39000 60000]\n"
     ]
    }
   ],
   "source": [
    "X_test = np.array(marman_test_df[[\"diameter_cm\", \"n_topping\"]])\n",
    "y_test = np.array(marman_test_df[\"harga\"])\n",
    "\n",
    "print(f\"X_test:\\n{X_test}\\n\")\n",
    "print(f\"y_test:\\n{y_test}\")"
   ]
  },
  {
   "cell_type": "markdown",
   "id": "fce6ba20",
   "metadata": {
    "slideshow": {
     "slide_type": "-"
    }
   },
   "source": [
    "### Visualize Diameter (cm) and Harga Marman with Scatter Plot"
   ]
  },
  {
   "cell_type": "code",
   "execution_count": 7,
   "id": "3a9bed1d",
   "metadata": {
    "ExecuteTime": {
     "end_time": "2022-02-16T06:33:23.273019Z",
     "start_time": "2022-02-16T06:33:22.676651Z"
    }
   },
   "outputs": [
    {
     "data": {
      "image/png": "[encoded data removed]",
      "text/plain": [
       "<Figure size 432x288 with 1 Axes>"
      ]
     },
     "metadata": {
      "needs_background": "light"
     },
     "output_type": "display_data"
    }
   ],
   "source": [
    "marman_test_df.plot(kind=\"scatter\",\n",
    "                    x=\"diameter_cm\",\n",
    "                    y=\"harga\",\n",
    "                    title=\"Sebaran data Harga (Zimbabwean dollar) dan Diameter(cm) Martabak Manis\",\n",
    "                    legend=False,\n",
    "                    grid=True);"
   ]
  },
  {
   "cell_type": "markdown",
   "id": "38da5af0",
   "metadata": {
    "slideshow": {
     "slide_type": "-"
    }
   },
   "source": [
    "### Visualize Jumlah Topping and Harga Marman with Scatter Plot"
   ]
  },
  {
   "cell_type": "code",
   "execution_count": 8,
   "id": "a81df39c",
   "metadata": {
    "ExecuteTime": {
     "end_time": "2022-02-16T06:33:24.055393Z",
     "start_time": "2022-02-16T06:33:23.287126Z"
    }
   },
   "outputs": [
    {
     "data": {
      "image/png": "[encoded data removed]",
      "text/plain": [
       "<Figure size 432x288 with 1 Axes>"
      ]
     },
     "metadata": {
      "needs_background": "light"
     },
     "output_type": "display_data"
    }
   ],
   "source": [
    "marman_test_df.plot(kind=\"scatter\",\n",
    "                    x=\"n_topping\",\n",
    "                    y=\"harga\",\n",
    "                    title=\"Sebaran data Harga (Zimbabwean dollar) dan Diameter(cm) Martabak Manis\",\n",
    "                    legend=False,\n",
    "                    grid=True);"
   ]
  },
  {
   "cell_type": "markdown",
   "id": "2c519c94",
   "metadata": {
    "slideshow": {
     "slide_type": "slide"
    }
   },
   "source": [
    "# Training"
   ]
  },
  {
   "cell_type": "code",
   "execution_count": 9,
   "id": "5e98fa89",
   "metadata": {
    "ExecuteTime": {
     "end_time": "2022-02-16T06:33:27.106502Z",
     "start_time": "2022-02-16T06:33:24.068277Z"
    }
   },
   "outputs": [
    {
     "name": "stdout",
     "output_type": "stream",
     "text": [
      "Intercept : -576.923076923089\n",
      "Coef      : [1182.69230769  236.53846154]\n"
     ]
    }
   ],
   "source": [
    "from sklearn.linear_model import LinearRegression\n",
    "\n",
    "linear_reg_model = LinearRegression()\n",
    "linear_reg_model.fit(X_train, y_train)\n",
    "\n",
    "print(f\"Intercept : {linear_reg_model.intercept_}\")\n",
    "print(f\"Coef      : {linear_reg_model.coef_}\")"
   ]
  },
  {
   "cell_type": "markdown",
   "id": "67dd0aed",
   "metadata": {
    "slideshow": {
     "slide_type": "slide"
    }
   },
   "source": [
    "# Predict"
   ]
  },
  {
   "cell_type": "code",
   "execution_count": 10,
   "id": "b622b311",
   "metadata": {
    "ExecuteTime": {
     "end_time": "2022-02-16T06:33:27.185174Z",
     "start_time": "2022-02-16T06:33:27.117771Z"
    }
   },
   "outputs": [
    {
     "data": {
      "text/html": [
       "<div>\n",
       "<style scoped>\n",
       "    .dataframe tbody tr th:only-of-type {\n",
       "        vertical-align: middle;\n",
       "    }\n",
       "\n",
       "    .dataframe tbody tr th {\n",
       "        vertical-align: top;\n",
       "    }\n",
       "\n",
       "    .dataframe thead th {\n",
       "        text-align: right;\n",
       "    }\n",
       "</style>\n",
       "<table border=\"1\" class=\"dataframe\">\n",
       "  <thead>\n",
       "    <tr style=\"text-align: right;\">\n",
       "      <th></th>\n",
       "      <th>diameter_cm</th>\n",
       "      <th>n_topping</th>\n",
       "      <th>harga_actual</th>\n",
       "      <th>harga_pred</th>\n",
       "      <th>diff</th>\n",
       "    </tr>\n",
       "  </thead>\n",
       "  <tbody>\n",
       "    <tr>\n",
       "      <th>0</th>\n",
       "      <td>17</td>\n",
       "      <td>2</td>\n",
       "      <td>20000</td>\n",
       "      <td>20001.923077</td>\n",
       "      <td>1.923077</td>\n",
       "    </tr>\n",
       "    <tr>\n",
       "      <th>1</th>\n",
       "      <td>22</td>\n",
       "      <td>3</td>\n",
       "      <td>25500</td>\n",
       "      <td>26151.923077</td>\n",
       "      <td>651.923077</td>\n",
       "    </tr>\n",
       "    <tr>\n",
       "      <th>2</th>\n",
       "      <td>27</td>\n",
       "      <td>4</td>\n",
       "      <td>29000</td>\n",
       "      <td>32301.923077</td>\n",
       "      <td>3301.923077</td>\n",
       "    </tr>\n",
       "    <tr>\n",
       "      <th>3</th>\n",
       "      <td>35</td>\n",
       "      <td>5</td>\n",
       "      <td>39000</td>\n",
       "      <td>42000.000000</td>\n",
       "      <td>3000.000000</td>\n",
       "    </tr>\n",
       "    <tr>\n",
       "      <th>4</th>\n",
       "      <td>45</td>\n",
       "      <td>6</td>\n",
       "      <td>60000</td>\n",
       "      <td>54063.461538</td>\n",
       "      <td>5936.538462</td>\n",
       "    </tr>\n",
       "  </tbody>\n",
       "</table>\n",
       "</div>"
      ],
      "text/plain": [
       "   diameter_cm  n_topping  harga_actual    harga_pred         diff\n",
       "0           17          2         20000  20001.923077     1.923077\n",
       "1           22          3         25500  26151.923077   651.923077\n",
       "2           27          4         29000  32301.923077  3301.923077\n",
       "3           35          5         39000  42000.000000  3000.000000\n",
       "4           45          6         60000  54063.461538  5936.538462"
      ]
     },
     "execution_count": 10,
     "metadata": {},
     "output_type": "execute_result"
    }
   ],
   "source": [
    "from sklearn.metrics import r2_score, mean_absolute_error, mean_squared_error\n",
    "\n",
    "y_pred = linear_reg_model.predict(X_test)\n",
    "\n",
    "comp_y_test_y_pred = {\n",
    "    \"diameter_cm\": X_test[:, 0],\n",
    "    \"n_topping\": X_test[:, 1],\n",
    "    \"harga_actual\": y_test,\n",
    "    \"harga_pred\": y_pred\n",
    "}\n",
    "\n",
    "comp_y_test_y_pred_df = pd.DataFrame(comp_y_test_y_pred)\n",
    "comp_y_test_y_pred_df[\"diff\"] = abs(comp_y_test_y_pred_df[\"harga_actual\"] - comp_y_test_y_pred_df[\"harga_pred\"])\n",
    "comp_y_test_y_pred_df"
   ]
  },
  {
   "cell_type": "markdown",
   "id": "1559e983",
   "metadata": {
    "slideshow": {
     "slide_type": "slide"
    }
   },
   "source": [
    "# Evaluate"
   ]
  },
  {
   "cell_type": "code",
   "execution_count": 11,
   "id": "5496cb1b",
   "metadata": {
    "ExecuteTime": {
     "end_time": "2022-02-16T06:33:27.216787Z",
     "start_time": "2022-02-16T06:33:27.192125Z"
    }
   },
   "outputs": [
    {
     "name": "stdout",
     "output_type": "stream",
     "text": [
      "R^2: 0.943970364682706\n",
      "MAE: 2578.4615384615345\n",
      "MSE: 11114038.46153844\n"
     ]
    }
   ],
   "source": [
    "r_squared = r2_score(y_test, y_pred)\n",
    "mae = mean_absolute_error(y_test, y_pred)\n",
    "mse = mean_squared_error(y_test, y_pred)\n",
    "\n",
    "print(f\"R^2: {r_squared}\")\n",
    "print(f\"MAE: {mae}\")\n",
    "print(f\"MSE: {mse}\")"
   ]
  }
 ],
 "metadata": {
  "celltoolbar": "Slideshow",
  "kernelspec": {
   "display_name": "Python 3 (ipykernel)",
   "language": "python",
   "name": "python3"
  },
  "language_info": {
   "codemirror_mode": {
    "name": "ipython",
    "version": 3
   },
   "file_extension": ".py",
   "mimetype": "text/x-python",
   "name": "python",
   "nbconvert_exporter": "python",
   "pygments_lexer": "ipython3",
   "version": "3.8.12"
  },
  "nbTranslate": {
   "displayLangs": [
    "*"
   ],
   "hotkey": "alt-t",
   "langInMainMenu": true,
   "sourceLang": "en",
   "targetLang": "fr",
   "useGoogleTranslate": true
  },
  "toc": {
   "base_numbering": 1,
   "nav_menu": {},
   "number_sections": true,
   "sideBar": true,
   "skip_h1_title": false,
   "title_cell": "Table of Contents",
   "title_sidebar": "Contents",
   "toc_cell": false,
   "toc_position": {
    "height": "calc(100% - 180px)",
    "left": "10px",
    "top": "150px",
    "width": "256px"
   },
   "toc_section_display": true,
   "toc_window_display": false
  }
 },
 "nbformat": 4,
 "nbformat_minor": 5
}
