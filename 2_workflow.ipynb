{
 "cells": [
  {
   "cell_type": "markdown",
   "id": "94584b60",
   "metadata": {
    "slideshow": {
     "slide_type": "slide"
    }
   },
   "source": [
    "<img src=\"images/iris-1.jpg\" width=400 />"
   ]
  },
  {
   "cell_type": "markdown",
   "id": "9190ed51",
   "metadata": {
    "slideshow": {
     "slide_type": "slide"
    }
   },
   "source": [
    "# Prepare Dataset"
   ]
  },
  {
   "cell_type": "markdown",
   "id": "bac29955",
   "metadata": {},
   "source": [
    "## Load Dataset"
   ]
  },
  {
   "cell_type": "code",
   "execution_count": 1,
   "id": "cf2af53e",
   "metadata": {
    "ExecuteTime": {
     "end_time": "2022-02-13T00:50:07.261399Z",
     "start_time": "2022-02-13T00:50:04.022457Z"
    }
   },
   "outputs": [],
   "source": [
    "from sklearn.datasets import load_iris\n",
    "\n",
    "iris = load_iris()\n",
    "X = iris.data\n",
    "y = iris.target"
   ]
  },
  {
   "cell_type": "markdown",
   "id": "742ca4ef",
   "metadata": {
    "slideshow": {
     "slide_type": "subslide"
    }
   },
   "source": [
    "## Split Dataset to Train and Test Set"
   ]
  },
  {
   "cell_type": "code",
   "execution_count": 2,
   "id": "5c4fb6a4",
   "metadata": {
    "ExecuteTime": {
     "end_time": "2022-02-13T00:50:07.358385Z",
     "start_time": "2022-02-13T00:50:07.265839Z"
    }
   },
   "outputs": [],
   "source": [
    "from sklearn.model_selection import train_test_split\n",
    "\n",
    "X_train, X_test, y_train, y_test = train_test_split(X, y, test_size=0.3)"
   ]
  },
  {
   "cell_type": "markdown",
   "id": "180cf21a",
   "metadata": {
    "slideshow": {
     "slide_type": "slide"
    }
   },
   "source": [
    "# Train Model"
   ]
  },
  {
   "cell_type": "code",
   "execution_count": 3,
   "id": "bf8ce316",
   "metadata": {
    "ExecuteTime": {
     "end_time": "2022-02-13T00:50:07.593090Z",
     "start_time": "2022-02-13T00:50:07.363233Z"
    }
   },
   "outputs": [
    {
     "data": {
      "text/plain": [
       "KNeighborsClassifier(n_neighbors=3)"
      ]
     },
     "execution_count": 3,
     "metadata": {},
     "output_type": "execute_result"
    }
   ],
   "source": [
    "from sklearn.neighbors import KNeighborsClassifier\n",
    "\n",
    "knn_model = KNeighborsClassifier(n_neighbors=3)\n",
    "knn_model.fit(X_train, y_train)"
   ]
  },
  {
   "cell_type": "markdown",
   "id": "48f4a428",
   "metadata": {
    "slideshow": {
     "slide_type": "slide"
    }
   },
   "source": [
    "# Test Model"
   ]
  },
  {
   "cell_type": "code",
   "execution_count": 4,
   "id": "3c223607",
   "metadata": {
    "ExecuteTime": {
     "end_time": "2022-02-13T00:50:07.640743Z",
     "start_time": "2022-02-13T00:50:07.606083Z"
    }
   },
   "outputs": [
    {
     "name": "stdout",
     "output_type": "stream",
     "text": [
      "Comparison between y_test and y_pred data.\n",
      "\n",
      "y_test:\n",
      "[1 0 2 2 2 1 2 0 0 0 2 1 2 2 1 0 1 0 2 2 2 1 0 1 2 2 2 1 0 2 1 0 1 0 2 0 0\n",
      " 0 2 2 2 1 0 2 2]\n",
      "\n",
      "y_pred:\n",
      "[1 0 2 2 2 1 2 0 0 0 2 1 2 2 1 0 1 0 2 2 2 1 0 1 2 2 2 1 0 2 1 0 1 0 2 0 0\n",
      " 0 2 2 2 1 0 2 2]\n"
     ]
    }
   ],
   "source": [
    "y_pred = knn_model.predict(X_test)\n",
    "\n",
    "print(\"Comparison between y_test and y_pred data.\\n\")\n",
    "print(f\"y_test:\\n{y_test}\\n\")\n",
    "print(f\"y_pred:\\n{y_pred}\")"
   ]
  },
  {
   "cell_type": "markdown",
   "id": "6dec4cfb",
   "metadata": {
    "slideshow": {
     "slide_type": "slide"
    }
   },
   "source": [
    "# Evaluate Model"
   ]
  },
  {
   "cell_type": "code",
   "execution_count": 5,
   "id": "7a35e010",
   "metadata": {
    "ExecuteTime": {
     "end_time": "2022-02-13T00:50:07.672417Z",
     "start_time": "2022-02-13T00:50:07.647880Z"
    }
   },
   "outputs": [
    {
     "name": "stdout",
     "output_type": "stream",
     "text": [
      "Accuracy: 100.0%\n"
     ]
    }
   ],
   "source": [
    "from sklearn.metrics import accuracy_score\n",
    "\n",
    "accuracy = accuracy_score(y_test, y_pred)\n",
    "print(f\"Accuracy: {accuracy * 100}%\")"
   ]
  },
  {
   "cell_type": "markdown",
   "id": "7fd1ce19",
   "metadata": {
    "slideshow": {
     "slide_type": "slide"
    }
   },
   "source": [
    "# Save model in `joblib` format"
   ]
  },
  {
   "cell_type": "code",
   "execution_count": 6,
   "id": "374fa1b8",
   "metadata": {
    "ExecuteTime": {
     "end_time": "2022-02-13T00:50:07.703839Z",
     "start_time": "2022-02-13T00:50:07.677557Z"
    }
   },
   "outputs": [],
   "source": [
    "import joblib\n",
    "\n",
    "knn_model_prod = joblib.dump(knn_model, \"trained_model/knn_model.joblib\")"
   ]
  },
  {
   "cell_type": "markdown",
   "id": "30ebdc27",
   "metadata": {
    "slideshow": {
     "slide_type": "slide"
    }
   },
   "source": [
    "# Predict Class with New Data"
   ]
  },
  {
   "cell_type": "code",
   "execution_count": 7,
   "id": "a339152e",
   "metadata": {
    "ExecuteTime": {
     "end_time": "2022-02-13T00:50:07.719263Z",
     "start_time": "2022-02-13T00:50:07.709862Z"
    }
   },
   "outputs": [],
   "source": [
    "new_iris = [[5., 1.4, 3.1, 1.],\n",
    "           [4.3, 2.8, 5., 2.5],\n",
    "           [6.4, 3.1, 5.5, 1.9],\n",
    "           [5.3, 3. , 1.4, 1.4],\n",
    "           [7.2, 2.2, 6., 2.5]]"
   ]
  },
  {
   "cell_type": "code",
   "execution_count": 8,
   "id": "784e58ff",
   "metadata": {
    "ExecuteTime": {
     "end_time": "2022-02-13T00:50:07.766870Z",
     "start_time": "2022-02-13T00:50:07.726962Z"
    }
   },
   "outputs": [
    {
     "data": {
      "text/plain": [
       "array([1, 2, 2, 0, 2])"
      ]
     },
     "execution_count": 8,
     "metadata": {},
     "output_type": "execute_result"
    }
   ],
   "source": [
    "knn_model_prod = joblib.load(\"trained_model/knn_model.joblib\")\n",
    "preds = knn_model_prod.predict(new_iris)\n",
    "preds"
   ]
  },
  {
   "cell_type": "code",
   "execution_count": 9,
   "id": "519a8389",
   "metadata": {
    "ExecuteTime": {
     "end_time": "2022-02-13T00:50:07.782030Z",
     "start_time": "2022-02-13T00:50:07.772606Z"
    }
   },
   "outputs": [
    {
     "name": "stdout",
     "output_type": "stream",
     "text": [
      "[5.0, 1.4, 3.1, 1.0]: versicolor\n",
      "[4.3, 2.8, 5.0, 2.5]: virginica\n",
      "[6.4, 3.1, 5.5, 1.9]: virginica\n",
      "[5.3, 3.0, 1.4, 1.4]: setosa\n",
      "[7.2, 2.2, 6.0, 2.5]: virginica\n"
     ]
    }
   ],
   "source": [
    "for idx, pred in enumerate(preds):\n",
    "    print(f\"{new_iris[idx]}: {iris.target_names[pred]}\")"
   ]
  }
 ],
 "metadata": {
  "celltoolbar": "Slideshow",
  "kernelspec": {
   "display_name": "Python 3 (ipykernel)",
   "language": "python",
   "name": "python3"
  },
  "language_info": {
   "codemirror_mode": {
    "name": "ipython",
    "version": 3
   },
   "file_extension": ".py",
   "mimetype": "text/x-python",
   "name": "python",
   "nbconvert_exporter": "python",
   "pygments_lexer": "ipython3",
   "version": "3.8.12"
  },
  "nbTranslate": {
   "displayLangs": [
    "*"
   ],
   "hotkey": "alt-t",
   "langInMainMenu": true,
   "sourceLang": "en",
   "targetLang": "fr",
   "useGoogleTranslate": true
  },
  "toc": {
   "base_numbering": 1,
   "nav_menu": {},
   "number_sections": true,
   "sideBar": true,
   "skip_h1_title": false,
   "title_cell": "Table of Contents",
   "title_sidebar": "Contents",
   "toc_cell": false,
   "toc_position": {},
   "toc_section_display": true,
   "toc_window_display": false
  }
 },
 "nbformat": 4,
 "nbformat_minor": 5
}
