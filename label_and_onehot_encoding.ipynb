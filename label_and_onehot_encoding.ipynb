{
 "cells": [
  {
   "cell_type": "markdown",
   "id": "236b2547",
   "metadata": {
    "slideshow": {
     "slide_type": "slide"
    }
   },
   "source": [
    "# Dataset"
   ]
  },
  {
   "cell_type": "code",
   "execution_count": 1,
   "id": "84d81914",
   "metadata": {
    "ExecuteTime": {
     "end_time": "2022-02-19T10:04:51.672604Z",
     "start_time": "2022-02-19T10:04:51.103707Z"
    }
   },
   "outputs": [
    {
     "data": {
      "text/html": [
       "<div>\n",
       "<style scoped>\n",
       "    .dataframe tbody tr th:only-of-type {\n",
       "        vertical-align: middle;\n",
       "    }\n",
       "\n",
       "    .dataframe tbody tr th {\n",
       "        vertical-align: top;\n",
       "    }\n",
       "\n",
       "    .dataframe thead th {\n",
       "        text-align: right;\n",
       "    }\n",
       "</style>\n",
       "<table border=\"1\" class=\"dataframe\">\n",
       "  <thead>\n",
       "    <tr style=\"text-align: right;\">\n",
       "      <th></th>\n",
       "      <th>tinggi_badan</th>\n",
       "      <th>berat_badan</th>\n",
       "      <th>level_jomblo</th>\n",
       "    </tr>\n",
       "  </thead>\n",
       "  <tbody>\n",
       "    <tr>\n",
       "      <th>0</th>\n",
       "      <td>150</td>\n",
       "      <td>45</td>\n",
       "      <td>Jomblo High Quality</td>\n",
       "    </tr>\n",
       "    <tr>\n",
       "      <th>1</th>\n",
       "      <td>170</td>\n",
       "      <td>66</td>\n",
       "      <td>Jomblo Bahagia</td>\n",
       "    </tr>\n",
       "    <tr>\n",
       "      <th>2</th>\n",
       "      <td>160</td>\n",
       "      <td>55</td>\n",
       "      <td>Jomblo (yang ngakunya) Bahagia</td>\n",
       "    </tr>\n",
       "    <tr>\n",
       "      <th>3</th>\n",
       "      <td>150</td>\n",
       "      <td>50</td>\n",
       "      <td>Jomblo Ngenes</td>\n",
       "    </tr>\n",
       "    <tr>\n",
       "      <th>4</th>\n",
       "      <td>165</td>\n",
       "      <td>60</td>\n",
       "      <td>Jomblo Ngenes</td>\n",
       "    </tr>\n",
       "  </tbody>\n",
       "</table>\n",
       "</div>"
      ],
      "text/plain": [
       "   tinggi_badan  berat_badan                    level_jomblo\n",
       "0           150           45             Jomblo High Quality\n",
       "1           170           66                  Jomblo Bahagia\n",
       "2           160           55  Jomblo (yang ngakunya) Bahagia\n",
       "3           150           50                   Jomblo Ngenes\n",
       "4           165           60                   Jomblo Ngenes"
      ]
     },
     "execution_count": 1,
     "metadata": {},
     "output_type": "execute_result"
    }
   ],
   "source": [
    "import pandas as pd\n",
    "\n",
    "jomblo = {\n",
    "    \"tinggi_badan\": [150, 170, 160, 150, 165],\n",
    "    \"berat_badan\": [45, 66, 55, 50, 60],\n",
    "    \"level_jomblo\": [\"Jomblo High Quality\", \"Jomblo Bahagia\", \"Jomblo (yang ngakunya) Bahagia\", \"Jomblo Ngenes\", \"Jomblo Ngenes\"]\n",
    "}\n",
    "\n",
    "jomblo_df = pd.DataFrame(jomblo)\n",
    "jomblo_df"
   ]
  },
  {
   "cell_type": "markdown",
   "id": "4efaf1d3",
   "metadata": {
    "slideshow": {
     "slide_type": "slide"
    }
   },
   "source": [
    "# Encoding\n",
    "- Proses mengubah fitur bertipe kategorikal menjadi fitur bertipe numerikal.\n",
    "- Tujuannya untuk membuat kumpulan fitur dapat dimengerti dan diproses oleh komputer (mesin)."
   ]
  },
  {
   "cell_type": "markdown",
   "id": "b40b0e8d",
   "metadata": {
    "slideshow": {
     "slide_type": "subslide"
    }
   },
   "source": [
    "## Label Encoding\n",
    "Mengubah fitur categorical menjadi numerik dengan cara mengurutkan setiap kategori berdasarkan abjad yang selanjutnya setiap nilai tersebut diubah mejadi 0 sampai jumlah kategori - 1."
   ]
  },
  {
   "cell_type": "code",
   "execution_count": 2,
   "id": "1f06de82",
   "metadata": {
    "ExecuteTime": {
     "end_time": "2022-02-19T10:04:52.209262Z",
     "start_time": "2022-02-19T10:04:51.674565Z"
    }
   },
   "outputs": [
    {
     "name": "stdout",
     "output_type": "stream",
     "text": [
      "Jomblo (yang ngakunya) Bahagia: 0\n",
      "Jomblo Bahagia: 1\n",
      "Jomblo High Quality: 2\n",
      "Jomblo Ngenes: 3\n"
     ]
    }
   ],
   "source": [
    "from sklearn.preprocessing import LabelEncoder\n",
    "\n",
    "jomblo_label_encode_df = jomblo_df.copy()\n",
    "label_encoder = LabelEncoder()\n",
    "level_jomblo_encoding = label_encoder.fit_transform(jomblo_label_encode_df[\"level_jomblo\"])\n",
    "\n",
    "for label, level in enumerate(label_encoder.classes_):\n",
    "    print(f\"{level}: {label}\")"
   ]
  },
  {
   "cell_type": "code",
   "execution_count": 3,
   "id": "d9a0d5a6",
   "metadata": {
    "ExecuteTime": {
     "end_time": "2022-02-19T10:04:52.224553Z",
     "start_time": "2022-02-19T10:04:52.210054Z"
    }
   },
   "outputs": [
    {
     "data": {
      "text/html": [
       "<div>\n",
       "<style scoped>\n",
       "    .dataframe tbody tr th:only-of-type {\n",
       "        vertical-align: middle;\n",
       "    }\n",
       "\n",
       "    .dataframe tbody tr th {\n",
       "        vertical-align: top;\n",
       "    }\n",
       "\n",
       "    .dataframe thead th {\n",
       "        text-align: right;\n",
       "    }\n",
       "</style>\n",
       "<table border=\"1\" class=\"dataframe\">\n",
       "  <thead>\n",
       "    <tr style=\"text-align: right;\">\n",
       "      <th></th>\n",
       "      <th>tinggi_badan</th>\n",
       "      <th>berat_badan</th>\n",
       "      <th>level_jomblo</th>\n",
       "    </tr>\n",
       "  </thead>\n",
       "  <tbody>\n",
       "    <tr>\n",
       "      <th>0</th>\n",
       "      <td>150</td>\n",
       "      <td>45</td>\n",
       "      <td>2</td>\n",
       "    </tr>\n",
       "    <tr>\n",
       "      <th>1</th>\n",
       "      <td>170</td>\n",
       "      <td>66</td>\n",
       "      <td>1</td>\n",
       "    </tr>\n",
       "    <tr>\n",
       "      <th>2</th>\n",
       "      <td>160</td>\n",
       "      <td>55</td>\n",
       "      <td>0</td>\n",
       "    </tr>\n",
       "    <tr>\n",
       "      <th>3</th>\n",
       "      <td>150</td>\n",
       "      <td>50</td>\n",
       "      <td>3</td>\n",
       "    </tr>\n",
       "    <tr>\n",
       "      <th>4</th>\n",
       "      <td>165</td>\n",
       "      <td>60</td>\n",
       "      <td>3</td>\n",
       "    </tr>\n",
       "  </tbody>\n",
       "</table>\n",
       "</div>"
      ],
      "text/plain": [
       "   tinggi_badan  berat_badan  level_jomblo\n",
       "0           150           45             2\n",
       "1           170           66             1\n",
       "2           160           55             0\n",
       "3           150           50             3\n",
       "4           165           60             3"
      ]
     },
     "execution_count": 3,
     "metadata": {},
     "output_type": "execute_result"
    }
   ],
   "source": [
    "jomblo_label_encode_df[\"level_jomblo\"] = level_jomblo_encoding\n",
    "jomblo_label_encode_df"
   ]
  },
  {
   "cell_type": "markdown",
   "id": "660ce6e4",
   "metadata": {
    "slideshow": {
     "slide_type": "subslide"
    }
   },
   "source": [
    "## One-Hot Encoding\n",
    "- Merepresentasikan fitur bertipe kategorikal menjadi sekumpulan bits."
   ]
  },
  {
   "cell_type": "code",
   "execution_count": 4,
   "id": "f56eca85",
   "metadata": {
    "ExecuteTime": {
     "end_time": "2022-02-19T10:04:52.254501Z",
     "start_time": "2022-02-19T10:04:52.228551Z"
    }
   },
   "outputs": [
    {
     "data": {
      "text/html": [
       "<div>\n",
       "<style scoped>\n",
       "    .dataframe tbody tr th:only-of-type {\n",
       "        vertical-align: middle;\n",
       "    }\n",
       "\n",
       "    .dataframe tbody tr th {\n",
       "        vertical-align: top;\n",
       "    }\n",
       "\n",
       "    .dataframe thead th {\n",
       "        text-align: right;\n",
       "    }\n",
       "</style>\n",
       "<table border=\"1\" class=\"dataframe\">\n",
       "  <thead>\n",
       "    <tr style=\"text-align: right;\">\n",
       "      <th></th>\n",
       "      <th>tinggi_badan</th>\n",
       "      <th>berat_badan</th>\n",
       "      <th>level_jomblo</th>\n",
       "    </tr>\n",
       "  </thead>\n",
       "  <tbody>\n",
       "    <tr>\n",
       "      <th>0</th>\n",
       "      <td>150</td>\n",
       "      <td>45</td>\n",
       "      <td>Jomblo High Quality</td>\n",
       "    </tr>\n",
       "    <tr>\n",
       "      <th>1</th>\n",
       "      <td>170</td>\n",
       "      <td>66</td>\n",
       "      <td>Jomblo Bahagia</td>\n",
       "    </tr>\n",
       "    <tr>\n",
       "      <th>2</th>\n",
       "      <td>160</td>\n",
       "      <td>55</td>\n",
       "      <td>Jomblo (yang ngakunya) Bahagia</td>\n",
       "    </tr>\n",
       "    <tr>\n",
       "      <th>3</th>\n",
       "      <td>150</td>\n",
       "      <td>50</td>\n",
       "      <td>Jomblo Ngenes</td>\n",
       "    </tr>\n",
       "    <tr>\n",
       "      <th>4</th>\n",
       "      <td>165</td>\n",
       "      <td>60</td>\n",
       "      <td>Jomblo Ngenes</td>\n",
       "    </tr>\n",
       "  </tbody>\n",
       "</table>\n",
       "</div>"
      ],
      "text/plain": [
       "   tinggi_badan  berat_badan                    level_jomblo\n",
       "0           150           45             Jomblo High Quality\n",
       "1           170           66                  Jomblo Bahagia\n",
       "2           160           55  Jomblo (yang ngakunya) Bahagia\n",
       "3           150           50                   Jomblo Ngenes\n",
       "4           165           60                   Jomblo Ngenes"
      ]
     },
     "execution_count": 4,
     "metadata": {},
     "output_type": "execute_result"
    }
   ],
   "source": [
    "jomblo_df"
   ]
  },
  {
   "cell_type": "code",
   "execution_count": 5,
   "id": "994a989b",
   "metadata": {
    "ExecuteTime": {
     "end_time": "2022-02-19T10:04:52.270523Z",
     "start_time": "2022-02-19T10:04:52.256501Z"
    }
   },
   "outputs": [
    {
     "data": {
      "text/plain": [
       "array([[0, 0, 1, 0],\n",
       "       [0, 1, 0, 0],\n",
       "       [1, 0, 0, 0],\n",
       "       [0, 0, 0, 1],\n",
       "       [0, 0, 0, 1]], dtype=uint8)"
      ]
     },
     "execution_count": 5,
     "metadata": {},
     "output_type": "execute_result"
    }
   ],
   "source": [
    "from sklearn.preprocessing import OneHotEncoder\n",
    "\n",
    "jomblo_label_one_hot_encode_df = jomblo_df.copy()\n",
    "level_jomblo = jomblo_label_one_hot_encode_df[\"level_jomblo\"].values.reshape(-1, 1)\n",
    "onehot_encoder = OneHotEncoder(dtype='uint8')\n",
    "level_jomblo_one_hot_encoding = onehot_encoder.fit_transform(level_jomblo).toarray()\n",
    "\n",
    "level_jomblo_one_hot_encoding"
   ]
  },
  {
   "cell_type": "code",
   "execution_count": 6,
   "id": "d049a68e",
   "metadata": {
    "ExecuteTime": {
     "end_time": "2022-02-19T10:04:52.286520Z",
     "start_time": "2022-02-19T10:04:52.272520Z"
    }
   },
   "outputs": [
    {
     "data": {
      "text/html": [
       "<div>\n",
       "<style scoped>\n",
       "    .dataframe tbody tr th:only-of-type {\n",
       "        vertical-align: middle;\n",
       "    }\n",
       "\n",
       "    .dataframe tbody tr th {\n",
       "        vertical-align: top;\n",
       "    }\n",
       "\n",
       "    .dataframe thead tr th {\n",
       "        text-align: left;\n",
       "    }\n",
       "</style>\n",
       "<table border=\"1\" class=\"dataframe\">\n",
       "  <thead>\n",
       "    <tr>\n",
       "      <th></th>\n",
       "      <th>Jomblo (yang ngakunya) Bahagia</th>\n",
       "      <th>Jomblo Bahagia</th>\n",
       "      <th>Jomblo High Quality</th>\n",
       "      <th>Jomblo Ngenes</th>\n",
       "    </tr>\n",
       "  </thead>\n",
       "  <tbody>\n",
       "    <tr>\n",
       "      <th>0</th>\n",
       "      <td>0</td>\n",
       "      <td>0</td>\n",
       "      <td>1</td>\n",
       "      <td>0</td>\n",
       "    </tr>\n",
       "    <tr>\n",
       "      <th>1</th>\n",
       "      <td>0</td>\n",
       "      <td>1</td>\n",
       "      <td>0</td>\n",
       "      <td>0</td>\n",
       "    </tr>\n",
       "    <tr>\n",
       "      <th>2</th>\n",
       "      <td>1</td>\n",
       "      <td>0</td>\n",
       "      <td>0</td>\n",
       "      <td>0</td>\n",
       "    </tr>\n",
       "    <tr>\n",
       "      <th>3</th>\n",
       "      <td>0</td>\n",
       "      <td>0</td>\n",
       "      <td>0</td>\n",
       "      <td>1</td>\n",
       "    </tr>\n",
       "    <tr>\n",
       "      <th>4</th>\n",
       "      <td>0</td>\n",
       "      <td>0</td>\n",
       "      <td>0</td>\n",
       "      <td>1</td>\n",
       "    </tr>\n",
       "  </tbody>\n",
       "</table>\n",
       "</div>"
      ],
      "text/plain": [
       "  Jomblo (yang ngakunya) Bahagia Jomblo Bahagia Jomblo High Quality  \\\n",
       "0                              0              0                   1   \n",
       "1                              0              1                   0   \n",
       "2                              1              0                   0   \n",
       "3                              0              0                   0   \n",
       "4                              0              0                   0   \n",
       "\n",
       "  Jomblo Ngenes  \n",
       "0             0  \n",
       "1             0  \n",
       "2             0  \n",
       "3             1  \n",
       "4             1  "
      ]
     },
     "execution_count": 6,
     "metadata": {},
     "output_type": "execute_result"
    }
   ],
   "source": [
    "level_jomblo_one_hot_encoding_df = pd.DataFrame(level_jomblo_one_hot_encoding, columns=onehot_encoder.categories_)\n",
    "level_jomblo_one_hot_encoding_df"
   ]
  },
  {
   "cell_type": "code",
   "execution_count": 7,
   "id": "103fa7f9",
   "metadata": {
    "ExecuteTime": {
     "end_time": "2022-02-19T10:04:52.318481Z",
     "start_time": "2022-02-19T10:04:52.289530Z"
    }
   },
   "outputs": [
    {
     "data": {
      "text/html": [
       "<div>\n",
       "<style scoped>\n",
       "    .dataframe tbody tr th:only-of-type {\n",
       "        vertical-align: middle;\n",
       "    }\n",
       "\n",
       "    .dataframe tbody tr th {\n",
       "        vertical-align: top;\n",
       "    }\n",
       "\n",
       "    .dataframe thead th {\n",
       "        text-align: right;\n",
       "    }\n",
       "</style>\n",
       "<table border=\"1\" class=\"dataframe\">\n",
       "  <thead>\n",
       "    <tr style=\"text-align: right;\">\n",
       "      <th></th>\n",
       "      <th>tinggi_badan</th>\n",
       "      <th>berat_badan</th>\n",
       "      <th>level_jomblo</th>\n",
       "      <th>(Jomblo (yang ngakunya) Bahagia,)</th>\n",
       "      <th>(Jomblo Bahagia,)</th>\n",
       "      <th>(Jomblo High Quality,)</th>\n",
       "      <th>(Jomblo Ngenes,)</th>\n",
       "    </tr>\n",
       "  </thead>\n",
       "  <tbody>\n",
       "    <tr>\n",
       "      <th>0</th>\n",
       "      <td>150</td>\n",
       "      <td>45</td>\n",
       "      <td>Jomblo High Quality</td>\n",
       "      <td>0</td>\n",
       "      <td>0</td>\n",
       "      <td>1</td>\n",
       "      <td>0</td>\n",
       "    </tr>\n",
       "    <tr>\n",
       "      <th>1</th>\n",
       "      <td>170</td>\n",
       "      <td>66</td>\n",
       "      <td>Jomblo Bahagia</td>\n",
       "      <td>0</td>\n",
       "      <td>1</td>\n",
       "      <td>0</td>\n",
       "      <td>0</td>\n",
       "    </tr>\n",
       "    <tr>\n",
       "      <th>2</th>\n",
       "      <td>160</td>\n",
       "      <td>55</td>\n",
       "      <td>Jomblo (yang ngakunya) Bahagia</td>\n",
       "      <td>1</td>\n",
       "      <td>0</td>\n",
       "      <td>0</td>\n",
       "      <td>0</td>\n",
       "    </tr>\n",
       "    <tr>\n",
       "      <th>3</th>\n",
       "      <td>150</td>\n",
       "      <td>50</td>\n",
       "      <td>Jomblo Ngenes</td>\n",
       "      <td>0</td>\n",
       "      <td>0</td>\n",
       "      <td>0</td>\n",
       "      <td>1</td>\n",
       "    </tr>\n",
       "    <tr>\n",
       "      <th>4</th>\n",
       "      <td>165</td>\n",
       "      <td>60</td>\n",
       "      <td>Jomblo Ngenes</td>\n",
       "      <td>0</td>\n",
       "      <td>0</td>\n",
       "      <td>0</td>\n",
       "      <td>1</td>\n",
       "    </tr>\n",
       "  </tbody>\n",
       "</table>\n",
       "</div>"
      ],
      "text/plain": [
       "   tinggi_badan  berat_badan                    level_jomblo  \\\n",
       "0           150           45             Jomblo High Quality   \n",
       "1           170           66                  Jomblo Bahagia   \n",
       "2           160           55  Jomblo (yang ngakunya) Bahagia   \n",
       "3           150           50                   Jomblo Ngenes   \n",
       "4           165           60                   Jomblo Ngenes   \n",
       "\n",
       "   (Jomblo (yang ngakunya) Bahagia,)  (Jomblo Bahagia,)  \\\n",
       "0                                  0                  0   \n",
       "1                                  0                  1   \n",
       "2                                  1                  0   \n",
       "3                                  0                  0   \n",
       "4                                  0                  0   \n",
       "\n",
       "   (Jomblo High Quality,)  (Jomblo Ngenes,)  \n",
       "0                       1                 0  \n",
       "1                       0                 0  \n",
       "2                       0                 0  \n",
       "3                       0                 1  \n",
       "4                       0                 1  "
      ]
     },
     "execution_count": 7,
     "metadata": {},
     "output_type": "execute_result"
    }
   ],
   "source": [
    "onehot_encode_df = pd.concat([jomblo_label_one_hot_encode_df, level_jomblo_one_hot_encoding_df], axis=1)\n",
    "onehot_encode_df"
   ]
  },
  {
   "cell_type": "code",
   "execution_count": 8,
   "id": "18e9a13a",
   "metadata": {
    "ExecuteTime": {
     "end_time": "2022-02-19T10:04:52.350490Z",
     "start_time": "2022-02-19T10:04:52.321479Z"
    }
   },
   "outputs": [
    {
     "data": {
      "text/html": [
       "<div>\n",
       "<style scoped>\n",
       "    .dataframe tbody tr th:only-of-type {\n",
       "        vertical-align: middle;\n",
       "    }\n",
       "\n",
       "    .dataframe tbody tr th {\n",
       "        vertical-align: top;\n",
       "    }\n",
       "\n",
       "    .dataframe thead th {\n",
       "        text-align: right;\n",
       "    }\n",
       "</style>\n",
       "<table border=\"1\" class=\"dataframe\">\n",
       "  <thead>\n",
       "    <tr style=\"text-align: right;\">\n",
       "      <th></th>\n",
       "      <th>tinggi_badan</th>\n",
       "      <th>berat_badan</th>\n",
       "      <th>Jomblo (yang ngakunya) Bahagia</th>\n",
       "      <th>Jomblo Bahagia</th>\n",
       "      <th>Jomblo High Quality</th>\n",
       "      <th>Jomblo Ngenes</th>\n",
       "    </tr>\n",
       "  </thead>\n",
       "  <tbody>\n",
       "    <tr>\n",
       "      <th>0</th>\n",
       "      <td>150</td>\n",
       "      <td>45</td>\n",
       "      <td>0</td>\n",
       "      <td>0</td>\n",
       "      <td>1</td>\n",
       "      <td>0</td>\n",
       "    </tr>\n",
       "    <tr>\n",
       "      <th>1</th>\n",
       "      <td>170</td>\n",
       "      <td>66</td>\n",
       "      <td>0</td>\n",
       "      <td>1</td>\n",
       "      <td>0</td>\n",
       "      <td>0</td>\n",
       "    </tr>\n",
       "    <tr>\n",
       "      <th>2</th>\n",
       "      <td>160</td>\n",
       "      <td>55</td>\n",
       "      <td>1</td>\n",
       "      <td>0</td>\n",
       "      <td>0</td>\n",
       "      <td>0</td>\n",
       "    </tr>\n",
       "    <tr>\n",
       "      <th>3</th>\n",
       "      <td>150</td>\n",
       "      <td>50</td>\n",
       "      <td>0</td>\n",
       "      <td>0</td>\n",
       "      <td>0</td>\n",
       "      <td>1</td>\n",
       "    </tr>\n",
       "    <tr>\n",
       "      <th>4</th>\n",
       "      <td>165</td>\n",
       "      <td>60</td>\n",
       "      <td>0</td>\n",
       "      <td>0</td>\n",
       "      <td>0</td>\n",
       "      <td>1</td>\n",
       "    </tr>\n",
       "  </tbody>\n",
       "</table>\n",
       "</div>"
      ],
      "text/plain": [
       "   tinggi_badan  berat_badan  Jomblo (yang ngakunya) Bahagia  Jomblo Bahagia  \\\n",
       "0           150           45                               0               0   \n",
       "1           170           66                               0               1   \n",
       "2           160           55                               1               0   \n",
       "3           150           50                               0               0   \n",
       "4           165           60                               0               0   \n",
       "\n",
       "   Jomblo High Quality  Jomblo Ngenes  \n",
       "0                    1              0  \n",
       "1                    0              0  \n",
       "2                    0              0  \n",
       "3                    0              1  \n",
       "4                    0              1  "
      ]
     },
     "execution_count": 8,
     "metadata": {},
     "output_type": "execute_result"
    }
   ],
   "source": [
    "onehot_encode_df = onehot_encode_df.rename(\n",
    "    columns={\n",
    "        ('Jomblo (yang ngakunya) Bahagia',): \"Jomblo (yang ngakunya) Bahagia\",\n",
    "        ('Jomblo Bahagia',): \"Jomblo Bahagia\",\n",
    "        ('Jomblo High Quality',): \"Jomblo High Quality\",\n",
    "        ('Jomblo Ngenes',): \"Jomblo Ngenes\"\n",
    "    }\n",
    ")\n",
    "\n",
    "onehot_encode_df.drop([\"level_jomblo\"], axis=1)"
   ]
  },
  {
   "cell_type": "markdown",
   "id": "0fd01d9f",
   "metadata": {
    "slideshow": {
     "slide_type": "slide"
    }
   },
   "source": [
    "# Label Encoding VS One-Hot Encoding"
   ]
  },
  {
   "cell_type": "markdown",
   "id": "1006b09f",
   "metadata": {},
   "source": [
    "1. Label Encoding:\n",
    "    - Digunakan apabila fitur bertipe ordinal (memperhatikan urutan).\n",
    "    - Jumlah kategori pada fitur relatif banyak.\n",
    "\n",
    "\n",
    "2. One-Hot Encoding:\n",
    "    - Digunakan apabila fitur bertipe nominal (tidak memperhatikan urutan).\n",
    "    - Jumlah kategori pada fitur relatif sedikit."
   ]
  }
 ],
 "metadata": {
  "celltoolbar": "Slideshow",
  "kernelspec": {
   "display_name": "Python 3 (ipykernel)",
   "language": "python",
   "name": "python3"
  },
  "language_info": {
   "codemirror_mode": {
    "name": "ipython",
    "version": 3
   },
   "file_extension": ".py",
   "mimetype": "text/x-python",
   "name": "python",
   "nbconvert_exporter": "python",
   "pygments_lexer": "ipython3",
   "version": "3.8.12"
  },
  "nbTranslate": {
   "displayLangs": [
    "*"
   ],
   "hotkey": "alt-t",
   "langInMainMenu": true,
   "sourceLang": "en",
   "targetLang": "fr",
   "useGoogleTranslate": true
  },
  "toc": {
   "base_numbering": 1,
   "nav_menu": {},
   "number_sections": true,
   "sideBar": true,
   "skip_h1_title": false,
   "title_cell": "Table of Contents",
   "title_sidebar": "Contents",
   "toc_cell": false,
   "toc_position": {},
   "toc_section_display": true,
   "toc_window_display": false
  }
 },
 "nbformat": 4,
 "nbformat_minor": 5
}
